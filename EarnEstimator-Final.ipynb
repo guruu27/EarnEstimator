{
 "cells": [
  {
   "cell_type": "code",
   "execution_count": 1,
   "metadata": {
    "id": "MbJXHT_f6YEh"
   },
   "outputs": [],
   "source": [
    "#importing essential libraries\n",
    "import pandas as pd\n",
    "import numpy as np\n",
    "import plotly.express as px\n",
    "import seaborn as sns\n",
    "import warnings\n",
    "warnings.filterwarnings(\"ignore\")"
   ]
  },
  {
   "cell_type": "code",
   "execution_count": 2,
   "metadata": {
    "id": "DMSKXvwm7vfQ"
   },
   "outputs": [],
   "source": [
    "#reading our dataset\n",
    "df=pd.read_csv('data.csv')"
   ]
  },
  {
   "cell_type": "code",
   "execution_count": 3,
   "metadata": {
    "colab": {
     "base_uri": "https://localhost:8080/",
     "height": 655
    },
    "id": "09eitrRW72H6",
    "outputId": "7b8cfd37-1007-4003-b8cd-41f7e939af48"
   },
   "outputs": [
    {
     "data": {
      "text/html": [
       "<div>\n",
       "<style scoped>\n",
       "    .dataframe tbody tr th:only-of-type {\n",
       "        vertical-align: middle;\n",
       "    }\n",
       "\n",
       "    .dataframe tbody tr th {\n",
       "        vertical-align: top;\n",
       "    }\n",
       "\n",
       "    .dataframe thead th {\n",
       "        text-align: right;\n",
       "    }\n",
       "</style>\n",
       "<table border=\"1\" class=\"dataframe\">\n",
       "  <thead>\n",
       "    <tr style=\"text-align: right;\">\n",
       "      <th></th>\n",
       "      <th>ResponseId</th>\n",
       "      <th>Q120</th>\n",
       "      <th>MainBranch</th>\n",
       "      <th>Age</th>\n",
       "      <th>Employment</th>\n",
       "      <th>RemoteWork</th>\n",
       "      <th>CodingActivities</th>\n",
       "      <th>EdLevel</th>\n",
       "      <th>LearnCode</th>\n",
       "      <th>LearnCodeOnline</th>\n",
       "      <th>...</th>\n",
       "      <th>Frequency_1</th>\n",
       "      <th>Frequency_2</th>\n",
       "      <th>Frequency_3</th>\n",
       "      <th>TimeSearching</th>\n",
       "      <th>TimeAnswering</th>\n",
       "      <th>ProfessionalTech</th>\n",
       "      <th>Industry</th>\n",
       "      <th>SurveyLength</th>\n",
       "      <th>SurveyEase</th>\n",
       "      <th>ConvertedCompYearly</th>\n",
       "    </tr>\n",
       "  </thead>\n",
       "  <tbody>\n",
       "    <tr>\n",
       "      <th>0</th>\n",
       "      <td>1</td>\n",
       "      <td>I agree</td>\n",
       "      <td>None of these</td>\n",
       "      <td>18-24 years old</td>\n",
       "      <td>NaN</td>\n",
       "      <td>NaN</td>\n",
       "      <td>NaN</td>\n",
       "      <td>NaN</td>\n",
       "      <td>NaN</td>\n",
       "      <td>NaN</td>\n",
       "      <td>...</td>\n",
       "      <td>NaN</td>\n",
       "      <td>NaN</td>\n",
       "      <td>NaN</td>\n",
       "      <td>NaN</td>\n",
       "      <td>NaN</td>\n",
       "      <td>NaN</td>\n",
       "      <td>NaN</td>\n",
       "      <td>NaN</td>\n",
       "      <td>NaN</td>\n",
       "      <td>NaN</td>\n",
       "    </tr>\n",
       "    <tr>\n",
       "      <th>1</th>\n",
       "      <td>2</td>\n",
       "      <td>I agree</td>\n",
       "      <td>I am a developer by profession</td>\n",
       "      <td>25-34 years old</td>\n",
       "      <td>Employed, full-time</td>\n",
       "      <td>Remote</td>\n",
       "      <td>Hobby;Contribute to open-source projects;Boots...</td>\n",
       "      <td>Bachelor’s degree (B.A., B.S., B.Eng., etc.)</td>\n",
       "      <td>Books / Physical media;Colleague;Friend or fam...</td>\n",
       "      <td>Formal documentation provided by the owner of ...</td>\n",
       "      <td>...</td>\n",
       "      <td>1-2 times a week</td>\n",
       "      <td>10+ times a week</td>\n",
       "      <td>Never</td>\n",
       "      <td>15-30 minutes a day</td>\n",
       "      <td>15-30 minutes a day</td>\n",
       "      <td>DevOps function;Microservices;Automated testin...</td>\n",
       "      <td>Information Services, IT, Software Development...</td>\n",
       "      <td>Appropriate in length</td>\n",
       "      <td>Easy</td>\n",
       "      <td>285000.0</td>\n",
       "    </tr>\n",
       "    <tr>\n",
       "      <th>2</th>\n",
       "      <td>3</td>\n",
       "      <td>I agree</td>\n",
       "      <td>I am a developer by profession</td>\n",
       "      <td>45-54 years old</td>\n",
       "      <td>Employed, full-time</td>\n",
       "      <td>Hybrid (some remote, some in-person)</td>\n",
       "      <td>Hobby;Professional development or self-paced l...</td>\n",
       "      <td>Bachelor’s degree (B.A., B.S., B.Eng., etc.)</td>\n",
       "      <td>Books / Physical media;Colleague;On the job tr...</td>\n",
       "      <td>Formal documentation provided by the owner of ...</td>\n",
       "      <td>...</td>\n",
       "      <td>6-10 times a week</td>\n",
       "      <td>6-10 times a week</td>\n",
       "      <td>3-5 times a week</td>\n",
       "      <td>30-60 minutes a day</td>\n",
       "      <td>30-60 minutes a day</td>\n",
       "      <td>DevOps function;Microservices;Automated testin...</td>\n",
       "      <td>Information Services, IT, Software Development...</td>\n",
       "      <td>Appropriate in length</td>\n",
       "      <td>Easy</td>\n",
       "      <td>250000.0</td>\n",
       "    </tr>\n",
       "    <tr>\n",
       "      <th>3</th>\n",
       "      <td>4</td>\n",
       "      <td>I agree</td>\n",
       "      <td>I am a developer by profession</td>\n",
       "      <td>25-34 years old</td>\n",
       "      <td>Employed, full-time</td>\n",
       "      <td>Hybrid (some remote, some in-person)</td>\n",
       "      <td>Hobby</td>\n",
       "      <td>Bachelor’s degree (B.A., B.S., B.Eng., etc.)</td>\n",
       "      <td>Colleague;Friend or family member;Other online...</td>\n",
       "      <td>Formal documentation provided by the owner of ...</td>\n",
       "      <td>...</td>\n",
       "      <td>1-2 times a week</td>\n",
       "      <td>10+ times a week</td>\n",
       "      <td>1-2 times a week</td>\n",
       "      <td>15-30 minutes a day</td>\n",
       "      <td>30-60 minutes a day</td>\n",
       "      <td>Automated testing;Continuous integration (CI) ...</td>\n",
       "      <td>NaN</td>\n",
       "      <td>Appropriate in length</td>\n",
       "      <td>Easy</td>\n",
       "      <td>156000.0</td>\n",
       "    </tr>\n",
       "    <tr>\n",
       "      <th>4</th>\n",
       "      <td>5</td>\n",
       "      <td>I agree</td>\n",
       "      <td>I am a developer by profession</td>\n",
       "      <td>25-34 years old</td>\n",
       "      <td>Employed, full-time;Independent contractor, fr...</td>\n",
       "      <td>Remote</td>\n",
       "      <td>Hobby;Contribute to open-source projects;Profe...</td>\n",
       "      <td>Bachelor’s degree (B.A., B.S., B.Eng., etc.)</td>\n",
       "      <td>Books / Physical media;Online Courses or Certi...</td>\n",
       "      <td>Formal documentation provided by the owner of ...</td>\n",
       "      <td>...</td>\n",
       "      <td>1-2 times a week</td>\n",
       "      <td>1-2 times a week</td>\n",
       "      <td>3-5 times a week</td>\n",
       "      <td>60-120 minutes a day</td>\n",
       "      <td>30-60 minutes a day</td>\n",
       "      <td>Microservices;Automated testing;Observability ...</td>\n",
       "      <td>Other</td>\n",
       "      <td>Appropriate in length</td>\n",
       "      <td>Neither easy nor difficult</td>\n",
       "      <td>23456.0</td>\n",
       "    </tr>\n",
       "  </tbody>\n",
       "</table>\n",
       "<p>5 rows × 84 columns</p>\n",
       "</div>"
      ],
      "text/plain": [
       "   ResponseId     Q120                      MainBranch              Age  \\\n",
       "0           1  I agree                   None of these  18-24 years old   \n",
       "1           2  I agree  I am a developer by profession  25-34 years old   \n",
       "2           3  I agree  I am a developer by profession  45-54 years old   \n",
       "3           4  I agree  I am a developer by profession  25-34 years old   \n",
       "4           5  I agree  I am a developer by profession  25-34 years old   \n",
       "\n",
       "                                          Employment  \\\n",
       "0                                                NaN   \n",
       "1                                Employed, full-time   \n",
       "2                                Employed, full-time   \n",
       "3                                Employed, full-time   \n",
       "4  Employed, full-time;Independent contractor, fr...   \n",
       "\n",
       "                             RemoteWork  \\\n",
       "0                                   NaN   \n",
       "1                                Remote   \n",
       "2  Hybrid (some remote, some in-person)   \n",
       "3  Hybrid (some remote, some in-person)   \n",
       "4                                Remote   \n",
       "\n",
       "                                    CodingActivities  \\\n",
       "0                                                NaN   \n",
       "1  Hobby;Contribute to open-source projects;Boots...   \n",
       "2  Hobby;Professional development or self-paced l...   \n",
       "3                                              Hobby   \n",
       "4  Hobby;Contribute to open-source projects;Profe...   \n",
       "\n",
       "                                        EdLevel  \\\n",
       "0                                           NaN   \n",
       "1  Bachelor’s degree (B.A., B.S., B.Eng., etc.)   \n",
       "2  Bachelor’s degree (B.A., B.S., B.Eng., etc.)   \n",
       "3  Bachelor’s degree (B.A., B.S., B.Eng., etc.)   \n",
       "4  Bachelor’s degree (B.A., B.S., B.Eng., etc.)   \n",
       "\n",
       "                                           LearnCode  \\\n",
       "0                                                NaN   \n",
       "1  Books / Physical media;Colleague;Friend or fam...   \n",
       "2  Books / Physical media;Colleague;On the job tr...   \n",
       "3  Colleague;Friend or family member;Other online...   \n",
       "4  Books / Physical media;Online Courses or Certi...   \n",
       "\n",
       "                                     LearnCodeOnline  ...        Frequency_1  \\\n",
       "0                                                NaN  ...                NaN   \n",
       "1  Formal documentation provided by the owner of ...  ...   1-2 times a week   \n",
       "2  Formal documentation provided by the owner of ...  ...  6-10 times a week   \n",
       "3  Formal documentation provided by the owner of ...  ...   1-2 times a week   \n",
       "4  Formal documentation provided by the owner of ...  ...   1-2 times a week   \n",
       "\n",
       "         Frequency_2       Frequency_3         TimeSearching  \\\n",
       "0                NaN               NaN                   NaN   \n",
       "1   10+ times a week             Never   15-30 minutes a day   \n",
       "2  6-10 times a week  3-5 times a week   30-60 minutes a day   \n",
       "3   10+ times a week  1-2 times a week   15-30 minutes a day   \n",
       "4   1-2 times a week  3-5 times a week  60-120 minutes a day   \n",
       "\n",
       "         TimeAnswering                                   ProfessionalTech  \\\n",
       "0                  NaN                                                NaN   \n",
       "1  15-30 minutes a day  DevOps function;Microservices;Automated testin...   \n",
       "2  30-60 minutes a day  DevOps function;Microservices;Automated testin...   \n",
       "3  30-60 minutes a day  Automated testing;Continuous integration (CI) ...   \n",
       "4  30-60 minutes a day  Microservices;Automated testing;Observability ...   \n",
       "\n",
       "                                            Industry           SurveyLength  \\\n",
       "0                                                NaN                    NaN   \n",
       "1  Information Services, IT, Software Development...  Appropriate in length   \n",
       "2  Information Services, IT, Software Development...  Appropriate in length   \n",
       "3                                                NaN  Appropriate in length   \n",
       "4                                              Other  Appropriate in length   \n",
       "\n",
       "                   SurveyEase ConvertedCompYearly  \n",
       "0                         NaN                 NaN  \n",
       "1                        Easy            285000.0  \n",
       "2                        Easy            250000.0  \n",
       "3                        Easy            156000.0  \n",
       "4  Neither easy nor difficult             23456.0  \n",
       "\n",
       "[5 rows x 84 columns]"
      ]
     },
     "execution_count": 3,
     "metadata": {},
     "output_type": "execute_result"
    }
   ],
   "source": [
    "#getting a check on dataset\n",
    "df.head(5)"
   ]
  },
  {
   "cell_type": "code",
   "execution_count": 4,
   "metadata": {
    "tags": []
   },
   "outputs": [],
   "source": [
    "#After Research Only these Columns are Selected\n",
    "df1 = df[['Age', 'EdLevel', 'DevType', 'Country', 'ConvertedCompYearly', 'WorkExp',\n",
    "       'Industry']]"
   ]
  },
  {
   "cell_type": "code",
   "execution_count": 5,
   "metadata": {
    "tags": []
   },
   "outputs": [
    {
     "data": {
      "text/html": [
       "<div>\n",
       "<style scoped>\n",
       "    .dataframe tbody tr th:only-of-type {\n",
       "        vertical-align: middle;\n",
       "    }\n",
       "\n",
       "    .dataframe tbody tr th {\n",
       "        vertical-align: top;\n",
       "    }\n",
       "\n",
       "    .dataframe thead th {\n",
       "        text-align: right;\n",
       "    }\n",
       "</style>\n",
       "<table border=\"1\" class=\"dataframe\">\n",
       "  <thead>\n",
       "    <tr style=\"text-align: right;\">\n",
       "      <th></th>\n",
       "      <th>Age</th>\n",
       "      <th>EdLevel</th>\n",
       "      <th>DevType</th>\n",
       "      <th>Country</th>\n",
       "      <th>ConvertedCompYearly</th>\n",
       "      <th>WorkExp</th>\n",
       "      <th>Industry</th>\n",
       "    </tr>\n",
       "  </thead>\n",
       "  <tbody>\n",
       "    <tr>\n",
       "      <th>0</th>\n",
       "      <td>18-24 years old</td>\n",
       "      <td>NaN</td>\n",
       "      <td>NaN</td>\n",
       "      <td>NaN</td>\n",
       "      <td>NaN</td>\n",
       "      <td>NaN</td>\n",
       "      <td>NaN</td>\n",
       "    </tr>\n",
       "    <tr>\n",
       "      <th>1</th>\n",
       "      <td>25-34 years old</td>\n",
       "      <td>Bachelor’s degree (B.A., B.S., B.Eng., etc.)</td>\n",
       "      <td>Senior Executive (C-Suite, VP, etc.)</td>\n",
       "      <td>United States of America</td>\n",
       "      <td>285000.0</td>\n",
       "      <td>10.0</td>\n",
       "      <td>Information Services, IT, Software Development...</td>\n",
       "    </tr>\n",
       "    <tr>\n",
       "      <th>2</th>\n",
       "      <td>45-54 years old</td>\n",
       "      <td>Bachelor’s degree (B.A., B.S., B.Eng., etc.)</td>\n",
       "      <td>Developer, back-end</td>\n",
       "      <td>United States of America</td>\n",
       "      <td>250000.0</td>\n",
       "      <td>23.0</td>\n",
       "      <td>Information Services, IT, Software Development...</td>\n",
       "    </tr>\n",
       "    <tr>\n",
       "      <th>3</th>\n",
       "      <td>25-34 years old</td>\n",
       "      <td>Bachelor’s degree (B.A., B.S., B.Eng., etc.)</td>\n",
       "      <td>Developer, front-end</td>\n",
       "      <td>United States of America</td>\n",
       "      <td>156000.0</td>\n",
       "      <td>7.0</td>\n",
       "      <td>NaN</td>\n",
       "    </tr>\n",
       "    <tr>\n",
       "      <th>4</th>\n",
       "      <td>25-34 years old</td>\n",
       "      <td>Bachelor’s degree (B.A., B.S., B.Eng., etc.)</td>\n",
       "      <td>Developer, full-stack</td>\n",
       "      <td>Philippines</td>\n",
       "      <td>23456.0</td>\n",
       "      <td>6.0</td>\n",
       "      <td>Other</td>\n",
       "    </tr>\n",
       "    <tr>\n",
       "      <th>...</th>\n",
       "      <td>...</td>\n",
       "      <td>...</td>\n",
       "      <td>...</td>\n",
       "      <td>...</td>\n",
       "      <td>...</td>\n",
       "      <td>...</td>\n",
       "      <td>...</td>\n",
       "    </tr>\n",
       "    <tr>\n",
       "      <th>89179</th>\n",
       "      <td>25-34 years old</td>\n",
       "      <td>Associate degree (A.A., A.S., etc.)</td>\n",
       "      <td>Developer, front-end</td>\n",
       "      <td>Brazil</td>\n",
       "      <td>NaN</td>\n",
       "      <td>NaN</td>\n",
       "      <td>NaN</td>\n",
       "    </tr>\n",
       "    <tr>\n",
       "      <th>89180</th>\n",
       "      <td>18-24 years old</td>\n",
       "      <td>Bachelor’s degree (B.A., B.S., B.Eng., etc.)</td>\n",
       "      <td>Developer, back-end</td>\n",
       "      <td>Romania</td>\n",
       "      <td>NaN</td>\n",
       "      <td>NaN</td>\n",
       "      <td>NaN</td>\n",
       "    </tr>\n",
       "    <tr>\n",
       "      <th>89181</th>\n",
       "      <td>Prefer not to say</td>\n",
       "      <td>Something else</td>\n",
       "      <td>NaN</td>\n",
       "      <td>Israel</td>\n",
       "      <td>NaN</td>\n",
       "      <td>NaN</td>\n",
       "      <td>NaN</td>\n",
       "    </tr>\n",
       "    <tr>\n",
       "      <th>89182</th>\n",
       "      <td>Under 18 years old</td>\n",
       "      <td>Secondary school (e.g. American high school, G...</td>\n",
       "      <td>System administrator</td>\n",
       "      <td>Switzerland</td>\n",
       "      <td>NaN</td>\n",
       "      <td>NaN</td>\n",
       "      <td>NaN</td>\n",
       "    </tr>\n",
       "    <tr>\n",
       "      <th>89183</th>\n",
       "      <td>35-44 years old</td>\n",
       "      <td>Bachelor’s degree (B.A., B.S., B.Eng., etc.)</td>\n",
       "      <td>Developer, full-stack</td>\n",
       "      <td>Iran, Islamic Republic of...</td>\n",
       "      <td>NaN</td>\n",
       "      <td>14.0</td>\n",
       "      <td>Information Services, IT, Software Development...</td>\n",
       "    </tr>\n",
       "  </tbody>\n",
       "</table>\n",
       "<p>89184 rows × 7 columns</p>\n",
       "</div>"
      ],
      "text/plain": [
       "                      Age                                            EdLevel  \\\n",
       "0         18-24 years old                                                NaN   \n",
       "1         25-34 years old       Bachelor’s degree (B.A., B.S., B.Eng., etc.)   \n",
       "2         45-54 years old       Bachelor’s degree (B.A., B.S., B.Eng., etc.)   \n",
       "3         25-34 years old       Bachelor’s degree (B.A., B.S., B.Eng., etc.)   \n",
       "4         25-34 years old       Bachelor’s degree (B.A., B.S., B.Eng., etc.)   \n",
       "...                   ...                                                ...   \n",
       "89179     25-34 years old                Associate degree (A.A., A.S., etc.)   \n",
       "89180     18-24 years old       Bachelor’s degree (B.A., B.S., B.Eng., etc.)   \n",
       "89181   Prefer not to say                                     Something else   \n",
       "89182  Under 18 years old  Secondary school (e.g. American high school, G...   \n",
       "89183     35-44 years old       Bachelor’s degree (B.A., B.S., B.Eng., etc.)   \n",
       "\n",
       "                                    DevType                       Country  \\\n",
       "0                                       NaN                           NaN   \n",
       "1      Senior Executive (C-Suite, VP, etc.)      United States of America   \n",
       "2                       Developer, back-end      United States of America   \n",
       "3                      Developer, front-end      United States of America   \n",
       "4                     Developer, full-stack                   Philippines   \n",
       "...                                     ...                           ...   \n",
       "89179                  Developer, front-end                        Brazil   \n",
       "89180                   Developer, back-end                       Romania   \n",
       "89181                                   NaN                        Israel   \n",
       "89182                  System administrator                   Switzerland   \n",
       "89183                 Developer, full-stack  Iran, Islamic Republic of...   \n",
       "\n",
       "       ConvertedCompYearly  WorkExp  \\\n",
       "0                      NaN      NaN   \n",
       "1                 285000.0     10.0   \n",
       "2                 250000.0     23.0   \n",
       "3                 156000.0      7.0   \n",
       "4                  23456.0      6.0   \n",
       "...                    ...      ...   \n",
       "89179                  NaN      NaN   \n",
       "89180                  NaN      NaN   \n",
       "89181                  NaN      NaN   \n",
       "89182                  NaN      NaN   \n",
       "89183                  NaN     14.0   \n",
       "\n",
       "                                                Industry  \n",
       "0                                                    NaN  \n",
       "1      Information Services, IT, Software Development...  \n",
       "2      Information Services, IT, Software Development...  \n",
       "3                                                    NaN  \n",
       "4                                                  Other  \n",
       "...                                                  ...  \n",
       "89179                                                NaN  \n",
       "89180                                                NaN  \n",
       "89181                                                NaN  \n",
       "89182                                                NaN  \n",
       "89183  Information Services, IT, Software Development...  \n",
       "\n",
       "[89184 rows x 7 columns]"
      ]
     },
     "execution_count": 5,
     "metadata": {},
     "output_type": "execute_result"
    }
   ],
   "source": [
    "df1"
   ]
  },
  {
   "cell_type": "code",
   "execution_count": 6,
   "metadata": {
    "tags": []
   },
   "outputs": [
    {
     "data": {
      "text/plain": [
       "Index(['Age', 'EdLevel', 'DevType', 'Country', 'ConvertedCompYearly',\n",
       "       'WorkExp', 'Industry'],\n",
       "      dtype='object')"
      ]
     },
     "execution_count": 6,
     "metadata": {},
     "output_type": "execute_result"
    }
   ],
   "source": [
    "df1.columns"
   ]
  },
  {
   "cell_type": "code",
   "execution_count": 7,
   "metadata": {
    "tags": []
   },
   "outputs": [
    {
     "data": {
      "text/plain": [
       "array(['18-24 years old', '25-34 years old', '45-54 years old',\n",
       "       '35-44 years old', 'Under 18 years old', '55-64 years old',\n",
       "       '65 years or older', 'Prefer not to say'], dtype=object)"
      ]
     },
     "execution_count": 7,
     "metadata": {},
     "output_type": "execute_result"
    }
   ],
   "source": [
    "df1.Age.unique()"
   ]
  },
  {
   "cell_type": "code",
   "execution_count": 8,
   "metadata": {
    "tags": []
   },
   "outputs": [
    {
     "data": {
      "text/plain": [
       "array([nan, 'Bachelor’s degree (B.A., B.S., B.Eng., etc.)',\n",
       "       'Some college/university study without earning a degree',\n",
       "       'Master’s degree (M.A., M.S., M.Eng., MBA, etc.)',\n",
       "       'Primary/elementary school',\n",
       "       'Professional degree (JD, MD, Ph.D, Ed.D, etc.)',\n",
       "       'Associate degree (A.A., A.S., etc.)',\n",
       "       'Secondary school (e.g. American high school, German Realschule or Gymnasium, etc.)',\n",
       "       'Something else'], dtype=object)"
      ]
     },
     "execution_count": 8,
     "metadata": {},
     "output_type": "execute_result"
    }
   ],
   "source": [
    "df1.EdLevel.unique()"
   ]
  },
  {
   "cell_type": "code",
   "execution_count": 9,
   "metadata": {
    "tags": []
   },
   "outputs": [
    {
     "data": {
      "text/plain": [
       "array([nan, 'Senior Executive (C-Suite, VP, etc.)', 'Developer, back-end',\n",
       "       'Developer, front-end', 'Developer, full-stack',\n",
       "       'System administrator',\n",
       "       'Developer, desktop or enterprise applications',\n",
       "       'Developer, QA or test', 'Designer',\n",
       "       'Data scientist or machine learning specialist',\n",
       "       'Data or business analyst', 'Security professional', 'Educator',\n",
       "       'Research & Development role', 'Other (please specify):',\n",
       "       'Developer, mobile', 'Database administrator',\n",
       "       'Developer, embedded applications or devices', 'Student',\n",
       "       'Engineer, data', 'Hardware Engineer', 'Product manager',\n",
       "       'Academic researcher', 'Developer, game or graphics',\n",
       "       'Cloud infrastructure engineer', 'Engineering manager',\n",
       "       'Developer Experience', 'Project manager', 'DevOps specialist',\n",
       "       'Engineer, site reliability', 'Blockchain', 'Developer Advocate',\n",
       "       'Scientist', 'Marketing or sales professional'], dtype=object)"
      ]
     },
     "execution_count": 9,
     "metadata": {},
     "output_type": "execute_result"
    }
   ],
   "source": [
    "df1.DevType.unique()"
   ]
  },
  {
   "cell_type": "code",
   "execution_count": 10,
   "metadata": {
    "tags": []
   },
   "outputs": [],
   "source": [
    "import seaborn as sns\n",
    "import matplotlib.pyplot as plt"
   ]
  },
  {
   "cell_type": "code",
   "execution_count": 11,
   "metadata": {
    "tags": []
   },
   "outputs": [
    {
     "data": {
      "text/plain": [
       "0                                                      NaN\n",
       "1             Bachelor’s degree (B.A., B.S., B.Eng., etc.)\n",
       "2             Bachelor’s degree (B.A., B.S., B.Eng., etc.)\n",
       "3             Bachelor’s degree (B.A., B.S., B.Eng., etc.)\n",
       "4             Bachelor’s degree (B.A., B.S., B.Eng., etc.)\n",
       "                               ...                        \n",
       "89179                  Associate degree (A.A., A.S., etc.)\n",
       "89180         Bachelor’s degree (B.A., B.S., B.Eng., etc.)\n",
       "89181                                       Something else\n",
       "89182    Secondary school (e.g. American high school, G...\n",
       "89183         Bachelor’s degree (B.A., B.S., B.Eng., etc.)\n",
       "Name: EdLevel, Length: 89184, dtype: object"
      ]
     },
     "execution_count": 11,
     "metadata": {},
     "output_type": "execute_result"
    }
   ],
   "source": [
    "df['EdLevel']"
   ]
  },
  {
   "cell_type": "code",
   "execution_count": 12,
   "metadata": {
    "tags": []
   },
   "outputs": [],
   "source": [
    "def shorten_categories (categories, cutoff):\n",
    "    \n",
    "    categorical_map = {}\n",
    "    for i in range (len (categories) ):\n",
    "        if categories.values[i] >= cutoff:\n",
    "            categorical_map[categories.index[i]] = categories.index[i]\n",
    "        else:\n",
    "            categorical_map[categories.index[i]] = 'Other'\n",
    "    return categorical_map"
   ]
  },
  {
   "cell_type": "code",
   "execution_count": 13,
   "metadata": {},
   "outputs": [
    {
     "data": {
      "text/plain": [
       "Country\n",
       "Other                                                   25785\n",
       "United States of America                                18647\n",
       "Germany                                                  7328\n",
       "India                                                    5625\n",
       "United Kingdom of Great Britain and Northern Ireland     5552\n",
       "Canada                                                   3507\n",
       "France                                                   2933\n",
       "Poland                                                   2435\n",
       "Netherlands                                              2383\n",
       "Australia                                                2078\n",
       "Brazil                                                   2042\n",
       "Italy                                                    1835\n",
       "Spain                                                    1834\n",
       "Sweden                                                   1641\n",
       "Switzerland                                              1149\n",
       "Russian Federation                                       1094\n",
       "Czech Republic                                           1072\n",
       "Austria                                                  1033\n",
       "Name: count, dtype: int64"
      ]
     },
     "execution_count": 13,
     "metadata": {},
     "output_type": "execute_result"
    }
   ],
   "source": [
    "country_map = shorten_categories (df1.Country.value_counts(), 1000)\n",
    "df1[ 'Country'] = df1[ 'Country' ].map(country_map)\n",
    "df1.Country.value_counts () "
   ]
  },
  {
   "cell_type": "code",
   "execution_count": 14,
   "metadata": {},
   "outputs": [],
   "source": [
    "df1 = df1.rename({\"ConvertedComp\": \"Salary\"}, axis=1)"
   ]
  },
  {
   "cell_type": "code",
   "execution_count": 15,
   "metadata": {},
   "outputs": [],
   "source": [
    "df1.dropna(inplace=True)"
   ]
  },
  {
   "cell_type": "code",
   "execution_count": 16,
   "metadata": {},
   "outputs": [],
   "source": [
    "percentile_unique={}\n",
    "for i in df1.columns:\n",
    "      percentile_unique[i]=df1[i].value_counts(dropna=False,normalize=True)*100"
   ]
  },
  {
   "cell_type": "code",
   "execution_count": 17,
   "metadata": {},
   "outputs": [],
   "source": [
    "percentile_missing={}\n",
    "for i in df1.columns:\n",
    "    percentile_missing[i]=df1[i].isnull().mean()*100"
   ]
  },
  {
   "cell_type": "markdown",
   "metadata": {},
   "source": [
    "PLOTTING THE BARS FOR UNIQUE VALUES IN EACH COLUMNS"
   ]
  },
  {
   "cell_type": "code",
   "execution_count": 18,
   "metadata": {
    "tags": []
   },
   "outputs": [
    {
     "data": {
      "image/png": "[encoded data removed]",
      "text/plain": [
       "<Figure size 1000x600 with 1 Axes>"
      ]
     },
     "metadata": {},
     "output_type": "display_data"
    }
   ],
   "source": [
    "sns.set_style(\"whitegrid\")\n",
    "plt.figure(figsize=(10,6))  # Adjust the figure size as per your preference\n",
    "labels = [str(label) for label in df1['EdLevel'].unique()]  # Convert the labels to strings\n",
    "plt.bar(labels, percentile_unique.get('EdLevel'))  # Use plt.bar for creating a bar chart\n",
    "plt.xlabel('Education Level')  # Set the label for x-axis\n",
    "plt.ylabel('Percentage')  # Set the label for y-axis\n",
    "plt.title('Education')\n",
    "plt.xticks(rotation=90, ha='right')# Set the title for the chart\n",
    "plt.show()"
   ]
  },
  {
   "cell_type": "code",
   "execution_count": 19,
   "metadata": {
    "tags": []
   },
   "outputs": [
    {
     "data": {
      "image/png": "[encoded data removed]",
      "text/plain": [
       "<Figure size 1000x600 with 1 Axes>"
      ]
     },
     "metadata": {},
     "output_type": "display_data"
    }
   ],
   "source": [
    "sns.set_style(\"whitegrid\")\n",
    "plt.figure(figsize=(10,6))  # Adjust the figure size as per your preference\n",
    "labels = [str(label) for label in df1['DevType'].unique()]  # Convert the labels to strings\n",
    "plt.bar(labels, percentile_unique.get('DevType'))  # Use plt.bar for creating a bar chart\n",
    "plt.xlabel('Developer Type')  # Set the label for x-axis\n",
    "plt.ylabel('Percentage')  # Set the label for y-axis\n",
    "plt.title('DevType')\n",
    "plt.xticks(rotation=90, ha='right')# Set the title for the chart\n",
    "plt.show()"
   ]
  },
  {
   "cell_type": "code",
   "execution_count": 20,
   "metadata": {
    "tags": []
   },
   "outputs": [
    {
     "data": {
      "image/png": "[encoded data removed]",
      "text/plain": [
       "<Figure size 1000x600 with 1 Axes>"
      ]
     },
     "metadata": {},
     "output_type": "display_data"
    }
   ],
   "source": [
    "sns.set_style(\"whitegrid\")\n",
    "plt.figure(figsize=(10,6))  # Adjust the figure size as per your preference\n",
    "labels = [str(label) for label in df1['Age'].unique()]  # Convert the labels to strings\n",
    "plt.bar(labels, percentile_unique.get('Age'))  # Use plt.bar for creating a bar chart\n",
    "plt.xlabel('Age')  # Set the label for x-axis\n",
    "plt.ylabel('Percentage')  # Set the label for y-axis\n",
    "plt.title('Age')\n",
    "plt.xticks(rotation=90, ha='right')# Set the title for the chart\n",
    "plt.show()"
   ]
  },
  {
   "cell_type": "code",
   "execution_count": 21,
   "metadata": {
    "tags": []
   },
   "outputs": [
    {
     "data": {
      "image/png": "[encoded data removed]",
      "text/plain": [
       "<Figure size 1000x600 with 1 Axes>"
      ]
     },
     "metadata": {},
     "output_type": "display_data"
    }
   ],
   "source": [
    "sns.set_style(\"whitegrid\")\n",
    "plt.figure(figsize=(10,6))  # Adjust the figure size as per your preference\n",
    "labels = [str(label) for label in df1['Industry'].unique()]  # Convert the labels to strings\n",
    "plt.bar(labels, percentile_unique.get('Industry'))  # Use plt.bar for creating a bar chart\n",
    "plt.xlabel('Industry')  # Set the label for x-axis\n",
    "plt.ylabel('Percentage')  # Set the label for y-axis\n",
    "plt.title('Industry')\n",
    "plt.xticks(rotation=90, ha='right')# Set the title for the chart\n",
    "plt.show()"
   ]
  },
  {
   "cell_type": "code",
   "execution_count": 22,
   "metadata": {},
   "outputs": [],
   "source": [
    "#keeping only the rows that have USA and Canada\n",
    "df1 = pd.concat([df1[df['Country'] == 'United States of America'] , df1[df['Country'] == 'Canada']], ignore_index=True)"
   ]
  },
  {
   "cell_type": "code",
   "execution_count": 23,
   "metadata": {
    "tags": []
   },
   "outputs": [
    {
     "data": {
      "text/html": [
       "<div>\n",
       "<style scoped>\n",
       "    .dataframe tbody tr th:only-of-type {\n",
       "        vertical-align: middle;\n",
       "    }\n",
       "\n",
       "    .dataframe tbody tr th {\n",
       "        vertical-align: top;\n",
       "    }\n",
       "\n",
       "    .dataframe thead th {\n",
       "        text-align: right;\n",
       "    }\n",
       "</style>\n",
       "<table border=\"1\" class=\"dataframe\">\n",
       "  <thead>\n",
       "    <tr style=\"text-align: right;\">\n",
       "      <th></th>\n",
       "      <th>Age</th>\n",
       "      <th>EdLevel</th>\n",
       "      <th>DevType</th>\n",
       "      <th>Country</th>\n",
       "      <th>ConvertedCompYearly</th>\n",
       "      <th>WorkExp</th>\n",
       "      <th>Industry</th>\n",
       "    </tr>\n",
       "  </thead>\n",
       "  <tbody>\n",
       "    <tr>\n",
       "      <th>0</th>\n",
       "      <td>25-34 years old</td>\n",
       "      <td>Bachelor’s degree (B.A., B.S., B.Eng., etc.)</td>\n",
       "      <td>Senior Executive (C-Suite, VP, etc.)</td>\n",
       "      <td>United States of America</td>\n",
       "      <td>285000.0</td>\n",
       "      <td>10.0</td>\n",
       "      <td>Information Services, IT, Software Development...</td>\n",
       "    </tr>\n",
       "    <tr>\n",
       "      <th>1</th>\n",
       "      <td>45-54 years old</td>\n",
       "      <td>Bachelor’s degree (B.A., B.S., B.Eng., etc.)</td>\n",
       "      <td>Developer, back-end</td>\n",
       "      <td>United States of America</td>\n",
       "      <td>250000.0</td>\n",
       "      <td>23.0</td>\n",
       "      <td>Information Services, IT, Software Development...</td>\n",
       "    </tr>\n",
       "    <tr>\n",
       "      <th>2</th>\n",
       "      <td>35-44 years old</td>\n",
       "      <td>Some college/university study without earning ...</td>\n",
       "      <td>Developer, full-stack</td>\n",
       "      <td>United States of America</td>\n",
       "      <td>135000.0</td>\n",
       "      <td>4.0</td>\n",
       "      <td>Information Services, IT, Software Development...</td>\n",
       "    </tr>\n",
       "    <tr>\n",
       "      <th>3</th>\n",
       "      <td>25-34 years old</td>\n",
       "      <td>Bachelor’s degree (B.A., B.S., B.Eng., etc.)</td>\n",
       "      <td>Developer, full-stack</td>\n",
       "      <td>United States of America</td>\n",
       "      <td>80000.0</td>\n",
       "      <td>5.0</td>\n",
       "      <td>Financial Services</td>\n",
       "    </tr>\n",
       "    <tr>\n",
       "      <th>4</th>\n",
       "      <td>25-34 years old</td>\n",
       "      <td>Bachelor’s degree (B.A., B.S., B.Eng., etc.)</td>\n",
       "      <td>Developer, full-stack</td>\n",
       "      <td>United States of America</td>\n",
       "      <td>75000.0</td>\n",
       "      <td>9.0</td>\n",
       "      <td>Other</td>\n",
       "    </tr>\n",
       "    <tr>\n",
       "      <th>...</th>\n",
       "      <td>...</td>\n",
       "      <td>...</td>\n",
       "      <td>...</td>\n",
       "      <td>...</td>\n",
       "      <td>...</td>\n",
       "      <td>...</td>\n",
       "      <td>...</td>\n",
       "    </tr>\n",
       "    <tr>\n",
       "      <th>7929</th>\n",
       "      <td>25-34 years old</td>\n",
       "      <td>Bachelor’s degree (B.A., B.S., B.Eng., etc.)</td>\n",
       "      <td>Engineer, data</td>\n",
       "      <td>Canada</td>\n",
       "      <td>81787.0</td>\n",
       "      <td>8.0</td>\n",
       "      <td>Information Services, IT, Software Development...</td>\n",
       "    </tr>\n",
       "    <tr>\n",
       "      <th>7930</th>\n",
       "      <td>45-54 years old</td>\n",
       "      <td>Bachelor’s degree (B.A., B.S., B.Eng., etc.)</td>\n",
       "      <td>Other (please specify):</td>\n",
       "      <td>Canada</td>\n",
       "      <td>185879.0</td>\n",
       "      <td>20.0</td>\n",
       "      <td>Information Services, IT, Software Development...</td>\n",
       "    </tr>\n",
       "    <tr>\n",
       "      <th>7931</th>\n",
       "      <td>35-44 years old</td>\n",
       "      <td>Bachelor’s degree (B.A., B.S., B.Eng., etc.)</td>\n",
       "      <td>Developer, game or graphics</td>\n",
       "      <td>Canada</td>\n",
       "      <td>78069.0</td>\n",
       "      <td>12.0</td>\n",
       "      <td>Information Services, IT, Software Development...</td>\n",
       "    </tr>\n",
       "    <tr>\n",
       "      <th>7932</th>\n",
       "      <td>25-34 years old</td>\n",
       "      <td>Bachelor’s degree (B.A., B.S., B.Eng., etc.)</td>\n",
       "      <td>Developer, desktop or enterprise applications</td>\n",
       "      <td>Canada</td>\n",
       "      <td>44611.0</td>\n",
       "      <td>7.0</td>\n",
       "      <td>Other</td>\n",
       "    </tr>\n",
       "    <tr>\n",
       "      <th>7933</th>\n",
       "      <td>25-34 years old</td>\n",
       "      <td>Bachelor’s degree (B.A., B.S., B.Eng., etc.)</td>\n",
       "      <td>Developer, mobile</td>\n",
       "      <td>Canada</td>\n",
       "      <td>319711.0</td>\n",
       "      <td>12.0</td>\n",
       "      <td>Information Services, IT, Software Development...</td>\n",
       "    </tr>\n",
       "  </tbody>\n",
       "</table>\n",
       "<p>7934 rows × 7 columns</p>\n",
       "</div>"
      ],
      "text/plain": [
       "                  Age                                            EdLevel  \\\n",
       "0     25-34 years old       Bachelor’s degree (B.A., B.S., B.Eng., etc.)   \n",
       "1     45-54 years old       Bachelor’s degree (B.A., B.S., B.Eng., etc.)   \n",
       "2     35-44 years old  Some college/university study without earning ...   \n",
       "3     25-34 years old       Bachelor’s degree (B.A., B.S., B.Eng., etc.)   \n",
       "4     25-34 years old       Bachelor’s degree (B.A., B.S., B.Eng., etc.)   \n",
       "...               ...                                                ...   \n",
       "7929  25-34 years old       Bachelor’s degree (B.A., B.S., B.Eng., etc.)   \n",
       "7930  45-54 years old       Bachelor’s degree (B.A., B.S., B.Eng., etc.)   \n",
       "7931  35-44 years old       Bachelor’s degree (B.A., B.S., B.Eng., etc.)   \n",
       "7932  25-34 years old       Bachelor’s degree (B.A., B.S., B.Eng., etc.)   \n",
       "7933  25-34 years old       Bachelor’s degree (B.A., B.S., B.Eng., etc.)   \n",
       "\n",
       "                                            DevType                   Country  \\\n",
       "0              Senior Executive (C-Suite, VP, etc.)  United States of America   \n",
       "1                               Developer, back-end  United States of America   \n",
       "2                             Developer, full-stack  United States of America   \n",
       "3                             Developer, full-stack  United States of America   \n",
       "4                             Developer, full-stack  United States of America   \n",
       "...                                             ...                       ...   \n",
       "7929                                 Engineer, data                    Canada   \n",
       "7930                        Other (please specify):                    Canada   \n",
       "7931                    Developer, game or graphics                    Canada   \n",
       "7932  Developer, desktop or enterprise applications                    Canada   \n",
       "7933                              Developer, mobile                    Canada   \n",
       "\n",
       "      ConvertedCompYearly  WorkExp  \\\n",
       "0                285000.0     10.0   \n",
       "1                250000.0     23.0   \n",
       "2                135000.0      4.0   \n",
       "3                 80000.0      5.0   \n",
       "4                 75000.0      9.0   \n",
       "...                   ...      ...   \n",
       "7929              81787.0      8.0   \n",
       "7930             185879.0     20.0   \n",
       "7931              78069.0     12.0   \n",
       "7932              44611.0      7.0   \n",
       "7933             319711.0     12.0   \n",
       "\n",
       "                                               Industry  \n",
       "0     Information Services, IT, Software Development...  \n",
       "1     Information Services, IT, Software Development...  \n",
       "2     Information Services, IT, Software Development...  \n",
       "3                                    Financial Services  \n",
       "4                                                 Other  \n",
       "...                                                 ...  \n",
       "7929  Information Services, IT, Software Development...  \n",
       "7930  Information Services, IT, Software Development...  \n",
       "7931  Information Services, IT, Software Development...  \n",
       "7932                                              Other  \n",
       "7933  Information Services, IT, Software Development...  \n",
       "\n",
       "[7934 rows x 7 columns]"
      ]
     },
     "execution_count": 23,
     "metadata": {},
     "output_type": "execute_result"
    }
   ],
   "source": [
    "df1"
   ]
  },
  {
   "cell_type": "code",
   "execution_count": 24,
   "metadata": {
    "tags": []
   },
   "outputs": [
    {
     "data": {
      "text/html": [
       "<div>\n",
       "<style scoped>\n",
       "    .dataframe tbody tr th:only-of-type {\n",
       "        vertical-align: middle;\n",
       "    }\n",
       "\n",
       "    .dataframe tbody tr th {\n",
       "        vertical-align: top;\n",
       "    }\n",
       "\n",
       "    .dataframe thead th {\n",
       "        text-align: right;\n",
       "    }\n",
       "</style>\n",
       "<table border=\"1\" class=\"dataframe\">\n",
       "  <thead>\n",
       "    <tr style=\"text-align: right;\">\n",
       "      <th></th>\n",
       "      <th>Age</th>\n",
       "      <th>EdLevel</th>\n",
       "      <th>DevType</th>\n",
       "      <th>Country</th>\n",
       "      <th>ConvertedCompYearly</th>\n",
       "      <th>WorkExp</th>\n",
       "      <th>Industry</th>\n",
       "    </tr>\n",
       "  </thead>\n",
       "  <tbody>\n",
       "    <tr>\n",
       "      <th>0</th>\n",
       "      <td>25-34 years old</td>\n",
       "      <td>Bachelor’s degree (B.A., B.S., B.Eng., etc.)</td>\n",
       "      <td>Senior Executive (C-Suite, VP, etc.)</td>\n",
       "      <td>United States of America</td>\n",
       "      <td>285000.0</td>\n",
       "      <td>10.0</td>\n",
       "      <td>Information Services, IT, Software Development...</td>\n",
       "    </tr>\n",
       "    <tr>\n",
       "      <th>1</th>\n",
       "      <td>45-54 years old</td>\n",
       "      <td>Bachelor’s degree (B.A., B.S., B.Eng., etc.)</td>\n",
       "      <td>Developer, back-end</td>\n",
       "      <td>United States of America</td>\n",
       "      <td>250000.0</td>\n",
       "      <td>23.0</td>\n",
       "      <td>Information Services, IT, Software Development...</td>\n",
       "    </tr>\n",
       "    <tr>\n",
       "      <th>2</th>\n",
       "      <td>35-44 years old</td>\n",
       "      <td>Some college/university study without earning ...</td>\n",
       "      <td>Developer, full-stack</td>\n",
       "      <td>United States of America</td>\n",
       "      <td>135000.0</td>\n",
       "      <td>4.0</td>\n",
       "      <td>Information Services, IT, Software Development...</td>\n",
       "    </tr>\n",
       "    <tr>\n",
       "      <th>3</th>\n",
       "      <td>25-34 years old</td>\n",
       "      <td>Bachelor’s degree (B.A., B.S., B.Eng., etc.)</td>\n",
       "      <td>Developer, full-stack</td>\n",
       "      <td>United States of America</td>\n",
       "      <td>80000.0</td>\n",
       "      <td>5.0</td>\n",
       "      <td>Financial Services</td>\n",
       "    </tr>\n",
       "    <tr>\n",
       "      <th>4</th>\n",
       "      <td>25-34 years old</td>\n",
       "      <td>Bachelor’s degree (B.A., B.S., B.Eng., etc.)</td>\n",
       "      <td>Developer, full-stack</td>\n",
       "      <td>United States of America</td>\n",
       "      <td>75000.0</td>\n",
       "      <td>9.0</td>\n",
       "      <td>Other</td>\n",
       "    </tr>\n",
       "    <tr>\n",
       "      <th>...</th>\n",
       "      <td>...</td>\n",
       "      <td>...</td>\n",
       "      <td>...</td>\n",
       "      <td>...</td>\n",
       "      <td>...</td>\n",
       "      <td>...</td>\n",
       "      <td>...</td>\n",
       "    </tr>\n",
       "    <tr>\n",
       "      <th>7929</th>\n",
       "      <td>25-34 years old</td>\n",
       "      <td>Bachelor’s degree (B.A., B.S., B.Eng., etc.)</td>\n",
       "      <td>Engineer, data</td>\n",
       "      <td>Canada</td>\n",
       "      <td>81787.0</td>\n",
       "      <td>8.0</td>\n",
       "      <td>Information Services, IT, Software Development...</td>\n",
       "    </tr>\n",
       "    <tr>\n",
       "      <th>7930</th>\n",
       "      <td>45-54 years old</td>\n",
       "      <td>Bachelor’s degree (B.A., B.S., B.Eng., etc.)</td>\n",
       "      <td>Other (please specify):</td>\n",
       "      <td>Canada</td>\n",
       "      <td>185879.0</td>\n",
       "      <td>20.0</td>\n",
       "      <td>Information Services, IT, Software Development...</td>\n",
       "    </tr>\n",
       "    <tr>\n",
       "      <th>7931</th>\n",
       "      <td>35-44 years old</td>\n",
       "      <td>Bachelor’s degree (B.A., B.S., B.Eng., etc.)</td>\n",
       "      <td>Developer, game or graphics</td>\n",
       "      <td>Canada</td>\n",
       "      <td>78069.0</td>\n",
       "      <td>12.0</td>\n",
       "      <td>Information Services, IT, Software Development...</td>\n",
       "    </tr>\n",
       "    <tr>\n",
       "      <th>7932</th>\n",
       "      <td>25-34 years old</td>\n",
       "      <td>Bachelor’s degree (B.A., B.S., B.Eng., etc.)</td>\n",
       "      <td>Developer, desktop or enterprise applications</td>\n",
       "      <td>Canada</td>\n",
       "      <td>44611.0</td>\n",
       "      <td>7.0</td>\n",
       "      <td>Other</td>\n",
       "    </tr>\n",
       "    <tr>\n",
       "      <th>7933</th>\n",
       "      <td>25-34 years old</td>\n",
       "      <td>Bachelor’s degree (B.A., B.S., B.Eng., etc.)</td>\n",
       "      <td>Developer, mobile</td>\n",
       "      <td>Canada</td>\n",
       "      <td>319711.0</td>\n",
       "      <td>12.0</td>\n",
       "      <td>Information Services, IT, Software Development...</td>\n",
       "    </tr>\n",
       "  </tbody>\n",
       "</table>\n",
       "<p>7934 rows × 7 columns</p>\n",
       "</div>"
      ],
      "text/plain": [
       "                  Age                                            EdLevel  \\\n",
       "0     25-34 years old       Bachelor’s degree (B.A., B.S., B.Eng., etc.)   \n",
       "1     45-54 years old       Bachelor’s degree (B.A., B.S., B.Eng., etc.)   \n",
       "2     35-44 years old  Some college/university study without earning ...   \n",
       "3     25-34 years old       Bachelor’s degree (B.A., B.S., B.Eng., etc.)   \n",
       "4     25-34 years old       Bachelor’s degree (B.A., B.S., B.Eng., etc.)   \n",
       "...               ...                                                ...   \n",
       "7929  25-34 years old       Bachelor’s degree (B.A., B.S., B.Eng., etc.)   \n",
       "7930  45-54 years old       Bachelor’s degree (B.A., B.S., B.Eng., etc.)   \n",
       "7931  35-44 years old       Bachelor’s degree (B.A., B.S., B.Eng., etc.)   \n",
       "7932  25-34 years old       Bachelor’s degree (B.A., B.S., B.Eng., etc.)   \n",
       "7933  25-34 years old       Bachelor’s degree (B.A., B.S., B.Eng., etc.)   \n",
       "\n",
       "                                            DevType                   Country  \\\n",
       "0              Senior Executive (C-Suite, VP, etc.)  United States of America   \n",
       "1                               Developer, back-end  United States of America   \n",
       "2                             Developer, full-stack  United States of America   \n",
       "3                             Developer, full-stack  United States of America   \n",
       "4                             Developer, full-stack  United States of America   \n",
       "...                                             ...                       ...   \n",
       "7929                                 Engineer, data                    Canada   \n",
       "7930                        Other (please specify):                    Canada   \n",
       "7931                    Developer, game or graphics                    Canada   \n",
       "7932  Developer, desktop or enterprise applications                    Canada   \n",
       "7933                              Developer, mobile                    Canada   \n",
       "\n",
       "      ConvertedCompYearly  WorkExp  \\\n",
       "0                285000.0     10.0   \n",
       "1                250000.0     23.0   \n",
       "2                135000.0      4.0   \n",
       "3                 80000.0      5.0   \n",
       "4                 75000.0      9.0   \n",
       "...                   ...      ...   \n",
       "7929              81787.0      8.0   \n",
       "7930             185879.0     20.0   \n",
       "7931              78069.0     12.0   \n",
       "7932              44611.0      7.0   \n",
       "7933             319711.0     12.0   \n",
       "\n",
       "                                               Industry  \n",
       "0     Information Services, IT, Software Development...  \n",
       "1     Information Services, IT, Software Development...  \n",
       "2     Information Services, IT, Software Development...  \n",
       "3                                    Financial Services  \n",
       "4                                                 Other  \n",
       "...                                                 ...  \n",
       "7929  Information Services, IT, Software Development...  \n",
       "7930  Information Services, IT, Software Development...  \n",
       "7931  Information Services, IT, Software Development...  \n",
       "7932                                              Other  \n",
       "7933  Information Services, IT, Software Development...  \n",
       "\n",
       "[7934 rows x 7 columns]"
      ]
     },
     "execution_count": 24,
     "metadata": {},
     "output_type": "execute_result"
    }
   ],
   "source": [
    "df1"
   ]
  },
  {
   "cell_type": "code",
   "execution_count": 25,
   "metadata": {
    "tags": []
   },
   "outputs": [],
   "source": [
    "#Converting the USA Dollar value to CAD value\n",
    "df1['ConvertedCompYearly'] = df1.apply(lambda row: row['ConvertedCompYearly'] * 1.35 if row['Country'] == 'United States of America' else row['ConvertedCompYearly'], axis=1)"
   ]
  },
  {
   "cell_type": "code",
   "execution_count": 26,
   "metadata": {
    "tags": []
   },
   "outputs": [
    {
     "data": {
      "text/plain": [
       "Index(['Age', 'EdLevel', 'DevType', 'Country', 'ConvertedCompYearly',\n",
       "       'WorkExp', 'Industry'],\n",
       "      dtype='object')"
      ]
     },
     "execution_count": 26,
     "metadata": {},
     "output_type": "execute_result"
    }
   ],
   "source": [
    "df1.columns"
   ]
  },
  {
   "cell_type": "code",
   "execution_count": 27,
   "metadata": {
    "tags": []
   },
   "outputs": [
    {
     "data": {
      "image/png": "[encoded data removed]",
      "text/plain": [
       "<Figure size 1200x700 with 1 Axes>"
      ]
     },
     "metadata": {},
     "output_type": "display_data"
    }
   ],
   "source": [
    "fig, ax = plt.subplots(1,1, figsize=(12, 7))\n",
    "df1.boxplot('ConvertedCompYearly', 'Country', ax=ax)\n",
    "plt.suptitle('Salary (CAD$) v Country')\n",
    "plt.title('')\n",
    "plt.ylabel('Salary')\n",
    "plt.xticks(rotation=90)\n",
    "plt.show()"
   ]
  },
  {
   "cell_type": "code",
   "execution_count": 28,
   "metadata": {
    "tags": []
   },
   "outputs": [],
   "source": [
    "df1 = df1[df1[\"ConvertedCompYearly\"] <= 250000]\n",
    "df1 = df1[df1[\"ConvertedCompYearly\"] >= 10000]"
   ]
  },
  {
   "cell_type": "code",
   "execution_count": 29,
   "metadata": {
    "tags": []
   },
   "outputs": [
    {
     "data": {
      "image/png": "[encoded data removed]",
      "text/plain": [
       "<Figure size 1200x700 with 1 Axes>"
      ]
     },
     "metadata": {},
     "output_type": "display_data"
    }
   ],
   "source": [
    "fig, ax = plt.subplots(1,1, figsize=(12, 7))\n",
    "df1.boxplot('ConvertedCompYearly', 'Country', ax=ax)\n",
    "plt.suptitle('Salary (CAD$) v Country')\n",
    "plt.title('')\n",
    "plt.ylabel('Salary')\n",
    "plt.xticks(rotation=90)\n",
    "plt.show()"
   ]
  },
  {
   "cell_type": "code",
   "execution_count": 30,
   "metadata": {
    "tags": []
   },
   "outputs": [
    {
     "data": {
      "text/plain": [
       "<seaborn.axisgrid.PairGrid at 0x2233a392510>"
      ]
     },
     "execution_count": 30,
     "metadata": {},
     "output_type": "execute_result"
    },
    {
     "data": {
      "image/png": "[encoded data removed]",
      "text/plain": [
       "<Figure size 500x500 with 6 Axes>"
      ]
     },
     "metadata": {},
     "output_type": "display_data"
    }
   ],
   "source": [
    "sns.pairplot(df1)"
   ]
  },
  {
   "cell_type": "code",
   "execution_count": 31,
   "metadata": {
    "tags": []
   },
   "outputs": [
    {
     "data": {
      "text/plain": [
       "array([ 4.,  5.,  9., 10., 39.,  2., 30., 32., 16., 11., 14., 15.,  7.,\n",
       "       27., 28.,  8.,  1., 13., 36., 21., 31.,  3., 23., 20., 12.,  6.,\n",
       "       25., 17., 40., 24., 37., 35., 18., 26., 19., 22., 42., 38., 41.,\n",
       "       33., 44., 29.,  0., 46., 34., 45., 50., 48., 43., 47., 49.])"
      ]
     },
     "execution_count": 31,
     "metadata": {},
     "output_type": "execute_result"
    }
   ],
   "source": [
    "df1[\"WorkExp\"].unique()"
   ]
  },
  {
   "cell_type": "code",
   "execution_count": 32,
   "metadata": {
    "tags": []
   },
   "outputs": [
    {
     "data": {
      "text/plain": [
       "array(['35-44 years old', '25-34 years old', '55-64 years old',\n",
       "       '18-24 years old', '45-54 years old', '65 years or older',\n",
       "       'Under 18 years old', 'Prefer not to say'], dtype=object)"
      ]
     },
     "execution_count": 32,
     "metadata": {},
     "output_type": "execute_result"
    }
   ],
   "source": [
    "df1[\"Age\"].unique()"
   ]
  },
  {
   "cell_type": "code",
   "execution_count": 33,
   "metadata": {
    "tags": []
   },
   "outputs": [
    {
     "data": {
      "text/plain": [
       "2       35-44 years old\n",
       "3       25-34 years old\n",
       "4       25-34 years old\n",
       "5       35-44 years old\n",
       "6       55-64 years old\n",
       "             ...       \n",
       "7928    18-24 years old\n",
       "7929    25-34 years old\n",
       "7930    45-54 years old\n",
       "7931    35-44 years old\n",
       "7932    25-34 years old\n",
       "Name: Age, Length: 5845, dtype: object"
      ]
     },
     "execution_count": 33,
     "metadata": {},
     "output_type": "execute_result"
    }
   ],
   "source": [
    "df1[\"Age\"]"
   ]
  },
  {
   "cell_type": "code",
   "execution_count": 34,
   "metadata": {
    "tags": []
   },
   "outputs": [
    {
     "data": {
      "text/plain": [
       "array(['Some college/university study without earning a degree',\n",
       "       'Bachelor’s degree (B.A., B.S., B.Eng., etc.)',\n",
       "       'Master’s degree (M.A., M.S., M.Eng., MBA, etc.)',\n",
       "       'Secondary school (e.g. American high school, German Realschule or Gymnasium, etc.)',\n",
       "       'Professional degree (JD, MD, Ph.D, Ed.D, etc.)',\n",
       "       'Associate degree (A.A., A.S., etc.)', 'Something else',\n",
       "       'Primary/elementary school'], dtype=object)"
      ]
     },
     "execution_count": 34,
     "metadata": {},
     "output_type": "execute_result"
    }
   ],
   "source": [
    "df1[\"EdLevel\"].unique()"
   ]
  },
  {
   "cell_type": "code",
   "execution_count": 35,
   "metadata": {
    "tags": []
   },
   "outputs": [],
   "source": [
    "def clean_education(x):\n",
    "    if 'Bachelor’s degree' in x:\n",
    "        return 'Bachelor’s degree'\n",
    "    if 'Master’s degree' in x:\n",
    "        return 'Master’s degree'\n",
    "    if 'Professional degree' in x or 'Other doctoral' in x:\n",
    "        return 'Post grad'\n",
    "    return 'Less than a Bachelors'\n",
    "\n",
    "df1['EdLevel'] = df1['EdLevel'].apply(clean_education)"
   ]
  },
  {
   "cell_type": "code",
   "execution_count": 36,
   "metadata": {
    "tags": []
   },
   "outputs": [
    {
     "data": {
      "text/plain": [
       "array(['Less than a Bachelors', 'Bachelor’s degree', 'Master’s degree',\n",
       "       'Post grad'], dtype=object)"
      ]
     },
     "execution_count": 36,
     "metadata": {},
     "output_type": "execute_result"
    }
   ],
   "source": [
    "df1[\"EdLevel\"].unique()"
   ]
  },
  {
   "cell_type": "code",
   "execution_count": 37,
   "metadata": {
    "tags": []
   },
   "outputs": [
    {
     "data": {
      "text/plain": [
       "array(['Developer, full-stack', 'Developer, QA or test',\n",
       "       'System administrator', 'Cloud infrastructure engineer',\n",
       "       'Other (please specify):', 'Developer, back-end',\n",
       "       'Engineering manager', 'Developer, mobile',\n",
       "       'Data scientist or machine learning specialist',\n",
       "       'Academic researcher',\n",
       "       'Developer, embedded applications or devices',\n",
       "       'Developer, desktop or enterprise applications', 'Project manager',\n",
       "       'Developer, front-end', 'Hardware Engineer', 'DevOps specialist',\n",
       "       'Research & Development role', 'Engineer, site reliability',\n",
       "       'Data or business analyst', 'Engineer, data',\n",
       "       'Senior Executive (C-Suite, VP, etc.)',\n",
       "       'Developer, game or graphics', 'Designer', 'Scientist',\n",
       "       'Database administrator', 'Blockchain', 'Security professional',\n",
       "       'Developer Experience', 'Product manager', 'Developer Advocate',\n",
       "       'Educator', 'Marketing or sales professional'], dtype=object)"
      ]
     },
     "execution_count": 37,
     "metadata": {},
     "output_type": "execute_result"
    }
   ],
   "source": [
    "df1.DevType.unique()"
   ]
  },
  {
   "cell_type": "code",
   "execution_count": 38,
   "metadata": {
    "tags": []
   },
   "outputs": [],
   "source": [
    "def clean_devtype(x):\n",
    "    if 'Developer' in x:\n",
    "        return 'Full-Stack/Backend/Frontend Dev'\n",
    "    if 'Data' in x:\n",
    "        return 'Data Specialist(AI/ML/DBMS)'\n",
    "    if 'manager' in x or 'Senior' in x:\n",
    "        return 'Managers/Team leads'\n",
    "    return 'Other professionals'\n",
    "\n",
    "df1['DevType'] = df1['DevType'].apply(clean_devtype)"
   ]
  },
  {
   "cell_type": "code",
   "execution_count": 39,
   "metadata": {
    "tags": []
   },
   "outputs": [
    {
     "data": {
      "text/plain": [
       "array(['Information Services, IT, Software Development, or other Technology',\n",
       "       'Financial Services', 'Other',\n",
       "       'Manufacturing, Transportation, or Supply Chain', 'Oil & Gas',\n",
       "       'Healthcare', 'Higher Education', 'Insurance',\n",
       "       'Retail and Consumer Services', 'Advertising Services',\n",
       "       'Legal Services', 'Wholesale'], dtype=object)"
      ]
     },
     "execution_count": 39,
     "metadata": {},
     "output_type": "execute_result"
    }
   ],
   "source": [
    "df1.Industry.unique()"
   ]
  },
  {
   "cell_type": "code",
   "execution_count": 40,
   "metadata": {
    "tags": []
   },
   "outputs": [],
   "source": [
    "def clean_industry(x):\n",
    "    if 'IT' in x:\n",
    "        return 'IT industry professional'\n",
    "    if 'Financial' in x:\n",
    "        return 'Financial professional'\n",
    "    elif x!= \"Other\":\n",
    "        return 'Different Type of Sector Professional'\n",
    "    return 'Other'\n",
    "\n",
    "df1['Industry'] = df1['Industry'].apply(clean_industry)"
   ]
  },
  {
   "cell_type": "code",
   "execution_count": 41,
   "metadata": {
    "tags": []
   },
   "outputs": [
    {
     "data": {
      "text/plain": [
       "array([1, 0, 2, 3])"
      ]
     },
     "execution_count": 41,
     "metadata": {},
     "output_type": "execute_result"
    }
   ],
   "source": [
    "from sklearn.preprocessing import LabelEncoder\n",
    "le_education = LabelEncoder()\n",
    "df1['EdLevel'] = le_education.fit_transform(df1['EdLevel'])\n",
    "df1[\"EdLevel\"].unique()"
   ]
  },
  {
   "cell_type": "code",
   "execution_count": 42,
   "metadata": {
    "tags": []
   },
   "outputs": [
    {
     "data": {
      "text/plain": [
       "array([1, 0])"
      ]
     },
     "execution_count": 42,
     "metadata": {},
     "output_type": "execute_result"
    }
   ],
   "source": [
    "le_country = LabelEncoder()\n",
    "df1['Country'] = le_country.fit_transform(df1['Country'])\n",
    "df1[\"Country\"].unique()"
   ]
  },
  {
   "cell_type": "code",
   "execution_count": 43,
   "metadata": {
    "tags": []
   },
   "outputs": [
    {
     "data": {
      "text/plain": [
       "array([2, 1, 4, 0, 3, 5, 7, 6])"
      ]
     },
     "execution_count": 43,
     "metadata": {},
     "output_type": "execute_result"
    }
   ],
   "source": [
    "le_age = LabelEncoder()\n",
    "df1['Age'] = le_age.fit_transform(df1['Age'])\n",
    "df1[\"Age\"].unique()"
   ]
  },
  {
   "cell_type": "code",
   "execution_count": 44,
   "metadata": {
    "tags": []
   },
   "outputs": [
    {
     "data": {
      "text/plain": [
       "array([1, 3, 2, 0])"
      ]
     },
     "execution_count": 44,
     "metadata": {},
     "output_type": "execute_result"
    }
   ],
   "source": [
    "le_dev = LabelEncoder()\n",
    "df1['DevType'] = le_dev.fit_transform(df1['DevType'])\n",
    "df1[\"DevType\"].unique()"
   ]
  },
  {
   "cell_type": "code",
   "execution_count": 45,
   "metadata": {
    "tags": []
   },
   "outputs": [
    {
     "data": {
      "text/plain": [
       "array([2, 1, 3, 0])"
      ]
     },
     "execution_count": 45,
     "metadata": {},
     "output_type": "execute_result"
    }
   ],
   "source": [
    "le_ind = LabelEncoder()\n",
    "df1['Industry'] = le_ind.fit_transform(df1['Industry'])\n",
    "df1[\"Industry\"].unique()"
   ]
  },
  {
   "cell_type": "code",
   "execution_count": 46,
   "metadata": {
    "tags": []
   },
   "outputs": [],
   "source": [
    "X = df1.drop(\"ConvertedCompYearly\", axis=1)\n",
    "y = df1[\"ConvertedCompYearly\"]"
   ]
  },
  {
   "cell_type": "code",
   "execution_count": 47,
   "metadata": {},
   "outputs": [
    {
     "data": {
      "text/html": [
       "<style>#sk-container-id-1 {color: black;background-color: white;}#sk-container-id-1 pre{padding: 0;}#sk-container-id-1 div.sk-toggleable {background-color: white;}#sk-container-id-1 label.sk-toggleable__label {cursor: pointer;display: block;width: 100%;margin-bottom: 0;padding: 0.3em;box-sizing: border-box;text-align: center;}#sk-container-id-1 label.sk-toggleable__label-arrow:before {content: \"▸\";float: left;margin-right: 0.25em;color: #696969;}#sk-container-id-1 label.sk-toggleable__label-arrow:hover:before {color: black;}#sk-container-id-1 div.sk-estimator:hover label.sk-toggleable__label-arrow:before {color: black;}#sk-container-id-1 div.sk-toggleable__content {max-height: 0;max-width: 0;overflow: hidden;text-align: left;background-color: #f0f8ff;}#sk-container-id-1 div.sk-toggleable__content pre {margin: 0.2em;color: black;border-radius: 0.25em;background-color: #f0f8ff;}#sk-container-id-1 input.sk-toggleable__control:checked~div.sk-toggleable__content {max-height: 200px;max-width: 100%;overflow: auto;}#sk-container-id-1 input.sk-toggleable__control:checked~label.sk-toggleable__label-arrow:before {content: \"▾\";}#sk-container-id-1 div.sk-estimator input.sk-toggleable__control:checked~label.sk-toggleable__label {background-color: #d4ebff;}#sk-container-id-1 div.sk-label input.sk-toggleable__control:checked~label.sk-toggleable__label {background-color: #d4ebff;}#sk-container-id-1 input.sk-hidden--visually {border: 0;clip: rect(1px 1px 1px 1px);clip: rect(1px, 1px, 1px, 1px);height: 1px;margin: -1px;overflow: hidden;padding: 0;position: absolute;width: 1px;}#sk-container-id-1 div.sk-estimator {font-family: monospace;background-color: #f0f8ff;border: 1px dotted black;border-radius: 0.25em;box-sizing: border-box;margin-bottom: 0.5em;}#sk-container-id-1 div.sk-estimator:hover {background-color: #d4ebff;}#sk-container-id-1 div.sk-parallel-item::after {content: \"\";width: 100%;border-bottom: 1px solid gray;flex-grow: 1;}#sk-container-id-1 div.sk-label:hover label.sk-toggleable__label {background-color: #d4ebff;}#sk-container-id-1 div.sk-serial::before {content: \"\";position: absolute;border-left: 1px solid gray;box-sizing: border-box;top: 0;bottom: 0;left: 50%;z-index: 0;}#sk-container-id-1 div.sk-serial {display: flex;flex-direction: column;align-items: center;background-color: white;padding-right: 0.2em;padding-left: 0.2em;position: relative;}#sk-container-id-1 div.sk-item {position: relative;z-index: 1;}#sk-container-id-1 div.sk-parallel {display: flex;align-items: stretch;justify-content: center;background-color: white;position: relative;}#sk-container-id-1 div.sk-item::before, #sk-container-id-1 div.sk-parallel-item::before {content: \"\";position: absolute;border-left: 1px solid gray;box-sizing: border-box;top: 0;bottom: 0;left: 50%;z-index: -1;}#sk-container-id-1 div.sk-parallel-item {display: flex;flex-direction: column;z-index: 1;position: relative;background-color: white;}#sk-container-id-1 div.sk-parallel-item:first-child::after {align-self: flex-end;width: 50%;}#sk-container-id-1 div.sk-parallel-item:last-child::after {align-self: flex-start;width: 50%;}#sk-container-id-1 div.sk-parallel-item:only-child::after {width: 0;}#sk-container-id-1 div.sk-dashed-wrapped {border: 1px dashed gray;margin: 0 0.4em 0.5em 0.4em;box-sizing: border-box;padding-bottom: 0.4em;background-color: white;}#sk-container-id-1 div.sk-label label {font-family: monospace;font-weight: bold;display: inline-block;line-height: 1.2em;}#sk-container-id-1 div.sk-label-container {text-align: center;}#sk-container-id-1 div.sk-container {/* jupyter's `normalize.less` sets `[hidden] { display: none; }` but bootstrap.min.css set `[hidden] { display: none !important; }` so we also need the `!important` here to be able to override the default hidden behavior on the sphinx rendered scikit-learn.org. See: https://github.com/scikit-learn/scikit-learn/issues/21755 */display: inline-block !important;position: relative;}#sk-container-id-1 div.sk-text-repr-fallback {display: none;}</style><div id=\"sk-container-id-1\" class=\"sk-top-container\"><div class=\"sk-text-repr-fallback\"><pre>LinearRegression()</pre><b>In a Jupyter environment, please rerun this cell to show the HTML representation or trust the notebook. <br />On GitHub, the HTML representation is unable to render, please try loading this page with nbviewer.org.</b></div><div class=\"sk-container\" hidden><div class=\"sk-item\"><div class=\"sk-estimator sk-toggleable\"><input class=\"sk-toggleable__control sk-hidden--visually\" id=\"sk-estimator-id-1\" type=\"checkbox\" checked><label for=\"sk-estimator-id-1\" class=\"sk-toggleable__label sk-toggleable__label-arrow\">LinearRegression</label><div class=\"sk-toggleable__content\"><pre>LinearRegression()</pre></div></div></div></div></div>"
      ],
      "text/plain": [
       "LinearRegression()"
      ]
     },
     "execution_count": 47,
     "metadata": {},
     "output_type": "execute_result"
    }
   ],
   "source": [
    "from sklearn.linear_model import LinearRegression\n",
    "linear_reg = LinearRegression()\n",
    "linear_reg.fit(X, y.values)"
   ]
  },
  {
   "cell_type": "code",
   "execution_count": 48,
   "metadata": {
    "tags": []
   },
   "outputs": [],
   "source": [
    "y_pred = linear_reg.predict(X)"
   ]
  },
  {
   "cell_type": "code",
   "execution_count": 49,
   "metadata": {
    "tags": []
   },
   "outputs": [],
   "source": [
    "from sklearn.metrics import mean_squared_error, mean_absolute_error\n",
    "import numpy as np\n",
    "error = np.sqrt(mean_squared_error(y, y_pred))"
   ]
  },
  {
   "cell_type": "code",
   "execution_count": 50,
   "metadata": {
    "tags": []
   },
   "outputs": [
    {
     "data": {
      "text/plain": [
       "45340.66090977998"
      ]
     },
     "execution_count": 50,
     "metadata": {},
     "output_type": "execute_result"
    }
   ],
   "source": [
    "error"
   ]
  },
  {
   "cell_type": "code",
   "execution_count": 51,
   "metadata": {
    "tags": []
   },
   "outputs": [
    {
     "data": {
      "text/html": [
       "<style>#sk-container-id-2 {color: black;background-color: white;}#sk-container-id-2 pre{padding: 0;}#sk-container-id-2 div.sk-toggleable {background-color: white;}#sk-container-id-2 label.sk-toggleable__label {cursor: pointer;display: block;width: 100%;margin-bottom: 0;padding: 0.3em;box-sizing: border-box;text-align: center;}#sk-container-id-2 label.sk-toggleable__label-arrow:before {content: \"▸\";float: left;margin-right: 0.25em;color: #696969;}#sk-container-id-2 label.sk-toggleable__label-arrow:hover:before {color: black;}#sk-container-id-2 div.sk-estimator:hover label.sk-toggleable__label-arrow:before {color: black;}#sk-container-id-2 div.sk-toggleable__content {max-height: 0;max-width: 0;overflow: hidden;text-align: left;background-color: #f0f8ff;}#sk-container-id-2 div.sk-toggleable__content pre {margin: 0.2em;color: black;border-radius: 0.25em;background-color: #f0f8ff;}#sk-container-id-2 input.sk-toggleable__control:checked~div.sk-toggleable__content {max-height: 200px;max-width: 100%;overflow: auto;}#sk-container-id-2 input.sk-toggleable__control:checked~label.sk-toggleable__label-arrow:before {content: \"▾\";}#sk-container-id-2 div.sk-estimator input.sk-toggleable__control:checked~label.sk-toggleable__label {background-color: #d4ebff;}#sk-container-id-2 div.sk-label input.sk-toggleable__control:checked~label.sk-toggleable__label {background-color: #d4ebff;}#sk-container-id-2 input.sk-hidden--visually {border: 0;clip: rect(1px 1px 1px 1px);clip: rect(1px, 1px, 1px, 1px);height: 1px;margin: -1px;overflow: hidden;padding: 0;position: absolute;width: 1px;}#sk-container-id-2 div.sk-estimator {font-family: monospace;background-color: #f0f8ff;border: 1px dotted black;border-radius: 0.25em;box-sizing: border-box;margin-bottom: 0.5em;}#sk-container-id-2 div.sk-estimator:hover {background-color: #d4ebff;}#sk-container-id-2 div.sk-parallel-item::after {content: \"\";width: 100%;border-bottom: 1px solid gray;flex-grow: 1;}#sk-container-id-2 div.sk-label:hover label.sk-toggleable__label {background-color: #d4ebff;}#sk-container-id-2 div.sk-serial::before {content: \"\";position: absolute;border-left: 1px solid gray;box-sizing: border-box;top: 0;bottom: 0;left: 50%;z-index: 0;}#sk-container-id-2 div.sk-serial {display: flex;flex-direction: column;align-items: center;background-color: white;padding-right: 0.2em;padding-left: 0.2em;position: relative;}#sk-container-id-2 div.sk-item {position: relative;z-index: 1;}#sk-container-id-2 div.sk-parallel {display: flex;align-items: stretch;justify-content: center;background-color: white;position: relative;}#sk-container-id-2 div.sk-item::before, #sk-container-id-2 div.sk-parallel-item::before {content: \"\";position: absolute;border-left: 1px solid gray;box-sizing: border-box;top: 0;bottom: 0;left: 50%;z-index: -1;}#sk-container-id-2 div.sk-parallel-item {display: flex;flex-direction: column;z-index: 1;position: relative;background-color: white;}#sk-container-id-2 div.sk-parallel-item:first-child::after {align-self: flex-end;width: 50%;}#sk-container-id-2 div.sk-parallel-item:last-child::after {align-self: flex-start;width: 50%;}#sk-container-id-2 div.sk-parallel-item:only-child::after {width: 0;}#sk-container-id-2 div.sk-dashed-wrapped {border: 1px dashed gray;margin: 0 0.4em 0.5em 0.4em;box-sizing: border-box;padding-bottom: 0.4em;background-color: white;}#sk-container-id-2 div.sk-label label {font-family: monospace;font-weight: bold;display: inline-block;line-height: 1.2em;}#sk-container-id-2 div.sk-label-container {text-align: center;}#sk-container-id-2 div.sk-container {/* jupyter's `normalize.less` sets `[hidden] { display: none; }` but bootstrap.min.css set `[hidden] { display: none !important; }` so we also need the `!important` here to be able to override the default hidden behavior on the sphinx rendered scikit-learn.org. See: https://github.com/scikit-learn/scikit-learn/issues/21755 */display: inline-block !important;position: relative;}#sk-container-id-2 div.sk-text-repr-fallback {display: none;}</style><div id=\"sk-container-id-2\" class=\"sk-top-container\"><div class=\"sk-text-repr-fallback\"><pre>DecisionTreeRegressor(random_state=0)</pre><b>In a Jupyter environment, please rerun this cell to show the HTML representation or trust the notebook. <br />On GitHub, the HTML representation is unable to render, please try loading this page with nbviewer.org.</b></div><div class=\"sk-container\" hidden><div class=\"sk-item\"><div class=\"sk-estimator sk-toggleable\"><input class=\"sk-toggleable__control sk-hidden--visually\" id=\"sk-estimator-id-2\" type=\"checkbox\" checked><label for=\"sk-estimator-id-2\" class=\"sk-toggleable__label sk-toggleable__label-arrow\">DecisionTreeRegressor</label><div class=\"sk-toggleable__content\"><pre>DecisionTreeRegressor(random_state=0)</pre></div></div></div></div></div>"
      ],
      "text/plain": [
       "DecisionTreeRegressor(random_state=0)"
      ]
     },
     "execution_count": 51,
     "metadata": {},
     "output_type": "execute_result"
    }
   ],
   "source": [
    "from sklearn.tree import DecisionTreeRegressor\n",
    "dec_tree_reg = DecisionTreeRegressor(random_state=0)\n",
    "dec_tree_reg.fit(X, y.values)"
   ]
  },
  {
   "cell_type": "code",
   "execution_count": 52,
   "metadata": {
    "tags": []
   },
   "outputs": [],
   "source": [
    "y_pred = dec_tree_reg.predict(X)"
   ]
  },
  {
   "cell_type": "code",
   "execution_count": 53,
   "metadata": {
    "tags": []
   },
   "outputs": [
    {
     "name": "stdout",
     "output_type": "stream",
     "text": [
      "$32,899.52\n"
     ]
    }
   ],
   "source": [
    "error = np.sqrt(mean_squared_error(y, y_pred))\n",
    "print(\"${:,.02f}\".format(error))"
   ]
  },
  {
   "cell_type": "code",
   "execution_count": 54,
   "metadata": {
    "tags": []
   },
   "outputs": [
    {
     "data": {
      "text/html": [
       "<style>#sk-container-id-3 {color: black;background-color: white;}#sk-container-id-3 pre{padding: 0;}#sk-container-id-3 div.sk-toggleable {background-color: white;}#sk-container-id-3 label.sk-toggleable__label {cursor: pointer;display: block;width: 100%;margin-bottom: 0;padding: 0.3em;box-sizing: border-box;text-align: center;}#sk-container-id-3 label.sk-toggleable__label-arrow:before {content: \"▸\";float: left;margin-right: 0.25em;color: #696969;}#sk-container-id-3 label.sk-toggleable__label-arrow:hover:before {color: black;}#sk-container-id-3 div.sk-estimator:hover label.sk-toggleable__label-arrow:before {color: black;}#sk-container-id-3 div.sk-toggleable__content {max-height: 0;max-width: 0;overflow: hidden;text-align: left;background-color: #f0f8ff;}#sk-container-id-3 div.sk-toggleable__content pre {margin: 0.2em;color: black;border-radius: 0.25em;background-color: #f0f8ff;}#sk-container-id-3 input.sk-toggleable__control:checked~div.sk-toggleable__content {max-height: 200px;max-width: 100%;overflow: auto;}#sk-container-id-3 input.sk-toggleable__control:checked~label.sk-toggleable__label-arrow:before {content: \"▾\";}#sk-container-id-3 div.sk-estimator input.sk-toggleable__control:checked~label.sk-toggleable__label {background-color: #d4ebff;}#sk-container-id-3 div.sk-label input.sk-toggleable__control:checked~label.sk-toggleable__label {background-color: #d4ebff;}#sk-container-id-3 input.sk-hidden--visually {border: 0;clip: rect(1px 1px 1px 1px);clip: rect(1px, 1px, 1px, 1px);height: 1px;margin: -1px;overflow: hidden;padding: 0;position: absolute;width: 1px;}#sk-container-id-3 div.sk-estimator {font-family: monospace;background-color: #f0f8ff;border: 1px dotted black;border-radius: 0.25em;box-sizing: border-box;margin-bottom: 0.5em;}#sk-container-id-3 div.sk-estimator:hover {background-color: #d4ebff;}#sk-container-id-3 div.sk-parallel-item::after {content: \"\";width: 100%;border-bottom: 1px solid gray;flex-grow: 1;}#sk-container-id-3 div.sk-label:hover label.sk-toggleable__label {background-color: #d4ebff;}#sk-container-id-3 div.sk-serial::before {content: \"\";position: absolute;border-left: 1px solid gray;box-sizing: border-box;top: 0;bottom: 0;left: 50%;z-index: 0;}#sk-container-id-3 div.sk-serial {display: flex;flex-direction: column;align-items: center;background-color: white;padding-right: 0.2em;padding-left: 0.2em;position: relative;}#sk-container-id-3 div.sk-item {position: relative;z-index: 1;}#sk-container-id-3 div.sk-parallel {display: flex;align-items: stretch;justify-content: center;background-color: white;position: relative;}#sk-container-id-3 div.sk-item::before, #sk-container-id-3 div.sk-parallel-item::before {content: \"\";position: absolute;border-left: 1px solid gray;box-sizing: border-box;top: 0;bottom: 0;left: 50%;z-index: -1;}#sk-container-id-3 div.sk-parallel-item {display: flex;flex-direction: column;z-index: 1;position: relative;background-color: white;}#sk-container-id-3 div.sk-parallel-item:first-child::after {align-self: flex-end;width: 50%;}#sk-container-id-3 div.sk-parallel-item:last-child::after {align-self: flex-start;width: 50%;}#sk-container-id-3 div.sk-parallel-item:only-child::after {width: 0;}#sk-container-id-3 div.sk-dashed-wrapped {border: 1px dashed gray;margin: 0 0.4em 0.5em 0.4em;box-sizing: border-box;padding-bottom: 0.4em;background-color: white;}#sk-container-id-3 div.sk-label label {font-family: monospace;font-weight: bold;display: inline-block;line-height: 1.2em;}#sk-container-id-3 div.sk-label-container {text-align: center;}#sk-container-id-3 div.sk-container {/* jupyter's `normalize.less` sets `[hidden] { display: none; }` but bootstrap.min.css set `[hidden] { display: none !important; }` so we also need the `!important` here to be able to override the default hidden behavior on the sphinx rendered scikit-learn.org. See: https://github.com/scikit-learn/scikit-learn/issues/21755 */display: inline-block !important;position: relative;}#sk-container-id-3 div.sk-text-repr-fallback {display: none;}</style><div id=\"sk-container-id-3\" class=\"sk-top-container\"><div class=\"sk-text-repr-fallback\"><pre>RandomForestRegressor(random_state=0)</pre><b>In a Jupyter environment, please rerun this cell to show the HTML representation or trust the notebook. <br />On GitHub, the HTML representation is unable to render, please try loading this page with nbviewer.org.</b></div><div class=\"sk-container\" hidden><div class=\"sk-item\"><div class=\"sk-estimator sk-toggleable\"><input class=\"sk-toggleable__control sk-hidden--visually\" id=\"sk-estimator-id-3\" type=\"checkbox\" checked><label for=\"sk-estimator-id-3\" class=\"sk-toggleable__label sk-toggleable__label-arrow\">RandomForestRegressor</label><div class=\"sk-toggleable__content\"><pre>RandomForestRegressor(random_state=0)</pre></div></div></div></div></div>"
      ],
      "text/plain": [
       "RandomForestRegressor(random_state=0)"
      ]
     },
     "execution_count": 54,
     "metadata": {},
     "output_type": "execute_result"
    }
   ],
   "source": [
    "from sklearn.ensemble import RandomForestRegressor\n",
    "random_forest_reg = RandomForestRegressor(random_state=0)\n",
    "random_forest_reg.fit(X, y.values)"
   ]
  },
  {
   "cell_type": "code",
   "execution_count": 55,
   "metadata": {
    "tags": []
   },
   "outputs": [],
   "source": [
    "y_pred = random_forest_reg.predict(X)"
   ]
  },
  {
   "cell_type": "code",
   "execution_count": 56,
   "metadata": {
    "tags": []
   },
   "outputs": [
    {
     "name": "stdout",
     "output_type": "stream",
     "text": [
      "$34,021.85\n"
     ]
    }
   ],
   "source": [
    "error = np.sqrt(mean_squared_error(y, y_pred))\n",
    "print(\"${:,.02f}\".format(error))"
   ]
  },
  {
   "cell_type": "code",
   "execution_count": 57,
   "metadata": {},
   "outputs": [],
   "source": [
    "import catboost as cb\n",
    "catboost_model = cb.CatBoostRegressor(loss_function=\"RMSE\")"
   ]
  },
  {
   "cell_type": "code",
   "execution_count": 58,
   "metadata": {},
   "outputs": [
    {
     "name": "stdout",
     "output_type": "stream",
     "text": [
      "Learning rate set to 0.054117\n",
      "0:\tlearn: 53846.5484160\ttotal: 119ms\tremaining: 1m 58s\n",
      "1:\tlearn: 52928.7543317\ttotal: 121ms\tremaining: 1m\n",
      "2:\tlearn: 52061.9066076\ttotal: 124ms\tremaining: 41.3s\n",
      "3:\tlearn: 51273.6109022\ttotal: 127ms\tremaining: 31.6s\n",
      "4:\tlearn: 50515.4809533\ttotal: 129ms\tremaining: 25.8s\n",
      "5:\tlearn: 49845.2869438\ttotal: 132ms\tremaining: 21.9s\n",
      "6:\tlearn: 49226.2130639\ttotal: 134ms\tremaining: 19.1s\n",
      "7:\tlearn: 48629.9466432\ttotal: 138ms\tremaining: 17.1s\n",
      "8:\tlearn: 48086.2981750\ttotal: 141ms\tremaining: 15.5s\n",
      "9:\tlearn: 47636.6369568\ttotal: 143ms\tremaining: 14.1s\n",
      "10:\tlearn: 47211.3961567\ttotal: 146ms\tremaining: 13.1s\n",
      "11:\tlearn: 46815.8015967\ttotal: 148ms\tremaining: 12.2s\n",
      "12:\tlearn: 46420.1991705\ttotal: 151ms\tremaining: 11.4s\n",
      "13:\tlearn: 46116.3319893\ttotal: 153ms\tremaining: 10.7s\n",
      "14:\tlearn: 45814.3997446\ttotal: 156ms\tremaining: 10.2s\n",
      "15:\tlearn: 45523.9460138\ttotal: 158ms\tremaining: 9.73s\n",
      "16:\tlearn: 45276.9610119\ttotal: 161ms\tremaining: 9.33s\n",
      "17:\tlearn: 45087.7113008\ttotal: 164ms\tremaining: 8.92s\n",
      "18:\tlearn: 44879.6031651\ttotal: 166ms\tremaining: 8.56s\n",
      "19:\tlearn: 44764.8651374\ttotal: 168ms\tremaining: 8.21s\n",
      "20:\tlearn: 44552.3978491\ttotal: 170ms\tremaining: 7.93s\n",
      "21:\tlearn: 44357.3637198\ttotal: 173ms\tremaining: 7.69s\n",
      "22:\tlearn: 44221.4343186\ttotal: 175ms\tremaining: 7.44s\n",
      "23:\tlearn: 44066.6595484\ttotal: 178ms\tremaining: 7.25s\n",
      "24:\tlearn: 43916.5456018\ttotal: 181ms\tremaining: 7.07s\n",
      "25:\tlearn: 43785.3544496\ttotal: 184ms\tremaining: 6.9s\n",
      "26:\tlearn: 43665.1354470\ttotal: 187ms\tremaining: 6.75s\n",
      "27:\tlearn: 43557.1309821\ttotal: 190ms\tremaining: 6.59s\n",
      "28:\tlearn: 43454.3817964\ttotal: 193ms\tremaining: 6.45s\n",
      "29:\tlearn: 43357.7579301\ttotal: 195ms\tremaining: 6.31s\n",
      "30:\tlearn: 43295.7632156\ttotal: 198ms\tremaining: 6.18s\n",
      "31:\tlearn: 43233.6957702\ttotal: 200ms\tremaining: 6.05s\n",
      "32:\tlearn: 43148.0790969\ttotal: 203ms\tremaining: 5.94s\n",
      "33:\tlearn: 43105.0884902\ttotal: 204ms\tremaining: 5.81s\n",
      "34:\tlearn: 43039.1006442\ttotal: 207ms\tremaining: 5.71s\n",
      "35:\tlearn: 42977.1966224\ttotal: 210ms\tremaining: 5.63s\n",
      "36:\tlearn: 42916.4627476\ttotal: 213ms\tremaining: 5.55s\n",
      "37:\tlearn: 42885.3859154\ttotal: 215ms\tremaining: 5.45s\n",
      "38:\tlearn: 42836.8499824\ttotal: 218ms\tremaining: 5.38s\n",
      "39:\tlearn: 42790.2068898\ttotal: 221ms\tremaining: 5.31s\n",
      "40:\tlearn: 42749.0634380\ttotal: 224ms\tremaining: 5.24s\n",
      "41:\tlearn: 42718.8374434\ttotal: 226ms\tremaining: 5.17s\n",
      "42:\tlearn: 42676.4206805\ttotal: 229ms\tremaining: 5.1s\n",
      "43:\tlearn: 42636.3716496\ttotal: 233ms\tremaining: 5.05s\n",
      "44:\tlearn: 42603.0696414\ttotal: 235ms\tremaining: 4.99s\n",
      "45:\tlearn: 42565.3515150\ttotal: 238ms\tremaining: 4.94s\n",
      "46:\tlearn: 42534.8554447\ttotal: 241ms\tremaining: 4.89s\n",
      "47:\tlearn: 42505.3935315\ttotal: 244ms\tremaining: 4.84s\n",
      "48:\tlearn: 42478.5526922\ttotal: 247ms\tremaining: 4.79s\n",
      "49:\tlearn: 42448.9367664\ttotal: 250ms\tremaining: 4.75s\n",
      "50:\tlearn: 42420.4919560\ttotal: 253ms\tremaining: 4.71s\n",
      "51:\tlearn: 42393.1461847\ttotal: 256ms\tremaining: 4.67s\n",
      "52:\tlearn: 42367.1117438\ttotal: 259ms\tremaining: 4.63s\n",
      "53:\tlearn: 42339.9664874\ttotal: 263ms\tremaining: 4.61s\n",
      "54:\tlearn: 42321.4028844\ttotal: 266ms\tremaining: 4.57s\n",
      "55:\tlearn: 42300.3631932\ttotal: 269ms\tremaining: 4.53s\n",
      "56:\tlearn: 42293.0755976\ttotal: 271ms\tremaining: 4.48s\n",
      "57:\tlearn: 42277.0889284\ttotal: 274ms\tremaining: 4.44s\n",
      "58:\tlearn: 42262.2776867\ttotal: 276ms\tremaining: 4.41s\n",
      "59:\tlearn: 42239.6957973\ttotal: 279ms\tremaining: 4.37s\n",
      "60:\tlearn: 42227.0268913\ttotal: 282ms\tremaining: 4.34s\n",
      "61:\tlearn: 42218.0873538\ttotal: 285ms\tremaining: 4.31s\n",
      "62:\tlearn: 42196.6303074\ttotal: 288ms\tremaining: 4.28s\n",
      "63:\tlearn: 42181.1657259\ttotal: 291ms\tremaining: 4.25s\n",
      "64:\tlearn: 42171.4088454\ttotal: 293ms\tremaining: 4.22s\n",
      "65:\tlearn: 42150.4087817\ttotal: 296ms\tremaining: 4.19s\n",
      "66:\tlearn: 42148.2712222\ttotal: 299ms\tremaining: 4.16s\n",
      "67:\tlearn: 42125.8447406\ttotal: 302ms\tremaining: 4.13s\n",
      "68:\tlearn: 42105.9851203\ttotal: 305ms\tremaining: 4.12s\n",
      "69:\tlearn: 42102.0607747\ttotal: 307ms\tremaining: 4.08s\n",
      "70:\tlearn: 42086.0264453\ttotal: 311ms\tremaining: 4.07s\n",
      "71:\tlearn: 42075.7280813\ttotal: 314ms\tremaining: 4.04s\n",
      "72:\tlearn: 42070.7388137\ttotal: 317ms\tremaining: 4.02s\n",
      "73:\tlearn: 42057.7717503\ttotal: 320ms\tremaining: 4s\n",
      "74:\tlearn: 42044.7135457\ttotal: 322ms\tremaining: 3.98s\n",
      "75:\tlearn: 42028.0619772\ttotal: 326ms\tremaining: 3.96s\n",
      "76:\tlearn: 42025.2273417\ttotal: 328ms\tremaining: 3.93s\n",
      "77:\tlearn: 42024.5632827\ttotal: 329ms\tremaining: 3.89s\n",
      "78:\tlearn: 42016.3291915\ttotal: 332ms\tremaining: 3.87s\n",
      "79:\tlearn: 41995.6966888\ttotal: 335ms\tremaining: 3.85s\n",
      "80:\tlearn: 41994.9628391\ttotal: 337ms\tremaining: 3.82s\n",
      "81:\tlearn: 41992.7510684\ttotal: 338ms\tremaining: 3.79s\n",
      "82:\tlearn: 41975.7696541\ttotal: 341ms\tremaining: 3.77s\n",
      "83:\tlearn: 41974.3163191\ttotal: 343ms\tremaining: 3.74s\n",
      "84:\tlearn: 41962.6634566\ttotal: 346ms\tremaining: 3.73s\n",
      "85:\tlearn: 41953.3811624\ttotal: 349ms\tremaining: 3.71s\n",
      "86:\tlearn: 41947.3631310\ttotal: 351ms\tremaining: 3.69s\n",
      "87:\tlearn: 41935.8270832\ttotal: 354ms\tremaining: 3.67s\n",
      "88:\tlearn: 41925.8529504\ttotal: 357ms\tremaining: 3.66s\n",
      "89:\tlearn: 41912.6369671\ttotal: 360ms\tremaining: 3.64s\n",
      "90:\tlearn: 41898.0679341\ttotal: 364ms\tremaining: 3.63s\n",
      "91:\tlearn: 41889.4916651\ttotal: 366ms\tremaining: 3.62s\n",
      "92:\tlearn: 41877.5598610\ttotal: 370ms\tremaining: 3.6s\n",
      "93:\tlearn: 41864.9787292\ttotal: 372ms\tremaining: 3.59s\n",
      "94:\tlearn: 41856.4730539\ttotal: 375ms\tremaining: 3.58s\n",
      "95:\tlearn: 41846.5604969\ttotal: 378ms\tremaining: 3.56s\n",
      "96:\tlearn: 41831.5121106\ttotal: 381ms\tremaining: 3.55s\n",
      "97:\tlearn: 41820.6454920\ttotal: 384ms\tremaining: 3.53s\n",
      "98:\tlearn: 41820.1628856\ttotal: 386ms\tremaining: 3.51s\n",
      "99:\tlearn: 41810.3581056\ttotal: 389ms\tremaining: 3.5s\n",
      "100:\tlearn: 41802.7850972\ttotal: 392ms\tremaining: 3.49s\n",
      "101:\tlearn: 41797.7328944\ttotal: 395ms\tremaining: 3.48s\n",
      "102:\tlearn: 41790.9835658\ttotal: 398ms\tremaining: 3.47s\n",
      "103:\tlearn: 41785.4197111\ttotal: 401ms\tremaining: 3.46s\n",
      "104:\tlearn: 41783.9335479\ttotal: 405ms\tremaining: 3.45s\n",
      "105:\tlearn: 41764.0061862\ttotal: 408ms\tremaining: 3.44s\n",
      "106:\tlearn: 41754.8940888\ttotal: 411ms\tremaining: 3.43s\n",
      "107:\tlearn: 41745.3772495\ttotal: 413ms\tremaining: 3.42s\n",
      "108:\tlearn: 41743.6878611\ttotal: 415ms\tremaining: 3.39s\n",
      "109:\tlearn: 41729.9490489\ttotal: 418ms\tremaining: 3.38s\n",
      "110:\tlearn: 41714.4546487\ttotal: 421ms\tremaining: 3.37s\n",
      "111:\tlearn: 41701.6914654\ttotal: 424ms\tremaining: 3.36s\n",
      "112:\tlearn: 41695.8415668\ttotal: 427ms\tremaining: 3.35s\n",
      "113:\tlearn: 41685.4405850\ttotal: 430ms\tremaining: 3.34s\n",
      "114:\tlearn: 41674.1267081\ttotal: 433ms\tremaining: 3.33s\n",
      "115:\tlearn: 41664.8656582\ttotal: 436ms\tremaining: 3.32s\n",
      "116:\tlearn: 41656.7287083\ttotal: 439ms\tremaining: 3.31s\n",
      "117:\tlearn: 41654.7023170\ttotal: 442ms\tremaining: 3.3s\n",
      "118:\tlearn: 41651.7538072\ttotal: 445ms\tremaining: 3.29s\n",
      "119:\tlearn: 41645.9605391\ttotal: 448ms\tremaining: 3.28s\n",
      "120:\tlearn: 41633.7663607\ttotal: 451ms\tremaining: 3.28s\n",
      "121:\tlearn: 41624.7829533\ttotal: 454ms\tremaining: 3.27s\n",
      "122:\tlearn: 41612.9334277\ttotal: 457ms\tremaining: 3.26s\n",
      "123:\tlearn: 41606.5151739\ttotal: 460ms\tremaining: 3.25s\n",
      "124:\tlearn: 41596.0087733\ttotal: 463ms\tremaining: 3.24s\n",
      "125:\tlearn: 41588.7592067\ttotal: 465ms\tremaining: 3.23s\n",
      "126:\tlearn: 41584.8573864\ttotal: 469ms\tremaining: 3.22s\n",
      "127:\tlearn: 41576.9374831\ttotal: 472ms\tremaining: 3.21s\n",
      "128:\tlearn: 41568.2251351\ttotal: 475ms\tremaining: 3.21s\n",
      "129:\tlearn: 41562.8040819\ttotal: 478ms\tremaining: 3.2s\n",
      "130:\tlearn: 41555.3364603\ttotal: 481ms\tremaining: 3.19s\n",
      "131:\tlearn: 41548.2374701\ttotal: 484ms\tremaining: 3.18s\n",
      "132:\tlearn: 41539.6018384\ttotal: 486ms\tremaining: 3.17s\n",
      "133:\tlearn: 41525.8457728\ttotal: 489ms\tremaining: 3.16s\n",
      "134:\tlearn: 41519.8947906\ttotal: 492ms\tremaining: 3.15s\n",
      "135:\tlearn: 41511.9854489\ttotal: 496ms\tremaining: 3.15s\n",
      "136:\tlearn: 41500.1181641\ttotal: 499ms\tremaining: 3.14s\n",
      "137:\tlearn: 41492.0938884\ttotal: 503ms\tremaining: 3.14s\n",
      "138:\tlearn: 41483.0973920\ttotal: 506ms\tremaining: 3.14s\n",
      "139:\tlearn: 41473.5796186\ttotal: 509ms\tremaining: 3.13s\n",
      "140:\tlearn: 41469.7005435\ttotal: 512ms\tremaining: 3.12s\n",
      "141:\tlearn: 41456.8907121\ttotal: 515ms\tremaining: 3.11s\n",
      "142:\tlearn: 41448.3134181\ttotal: 518ms\tremaining: 3.1s\n",
      "143:\tlearn: 41436.3164229\ttotal: 521ms\tremaining: 3.1s\n",
      "144:\tlearn: 41428.7912098\ttotal: 524ms\tremaining: 3.09s\n",
      "145:\tlearn: 41424.7109380\ttotal: 527ms\tremaining: 3.08s\n",
      "146:\tlearn: 41414.1896284\ttotal: 530ms\tremaining: 3.07s\n",
      "147:\tlearn: 41409.9866031\ttotal: 533ms\tremaining: 3.07s\n",
      "148:\tlearn: 41403.3189765\ttotal: 536ms\tremaining: 3.06s\n",
      "149:\tlearn: 41400.4111491\ttotal: 539ms\tremaining: 3.06s\n",
      "150:\tlearn: 41392.1395797\ttotal: 542ms\tremaining: 3.05s\n",
      "151:\tlearn: 41387.3618259\ttotal: 545ms\tremaining: 3.04s\n",
      "152:\tlearn: 41378.3532406\ttotal: 548ms\tremaining: 3.03s\n",
      "153:\tlearn: 41371.0995360\ttotal: 551ms\tremaining: 3.02s\n",
      "154:\tlearn: 41366.1681090\ttotal: 554ms\tremaining: 3.02s\n",
      "155:\tlearn: 41360.5223997\ttotal: 556ms\tremaining: 3.01s\n",
      "156:\tlearn: 41356.3311423\ttotal: 559ms\tremaining: 3s\n",
      "157:\tlearn: 41347.9182880\ttotal: 562ms\tremaining: 3s\n",
      "158:\tlearn: 41334.0114217\ttotal: 565ms\tremaining: 2.99s\n",
      "159:\tlearn: 41328.0951842\ttotal: 568ms\tremaining: 2.98s\n",
      "160:\tlearn: 41320.8508064\ttotal: 571ms\tremaining: 2.98s\n",
      "161:\tlearn: 41307.2723626\ttotal: 574ms\tremaining: 2.97s\n",
      "162:\tlearn: 41299.1411161\ttotal: 577ms\tremaining: 2.96s\n",
      "163:\tlearn: 41288.2855349\ttotal: 579ms\tremaining: 2.95s\n",
      "164:\tlearn: 41280.4961102\ttotal: 582ms\tremaining: 2.95s\n",
      "165:\tlearn: 41273.3677220\ttotal: 585ms\tremaining: 2.94s\n",
      "166:\tlearn: 41266.2056316\ttotal: 588ms\tremaining: 2.93s\n",
      "167:\tlearn: 41258.5496573\ttotal: 591ms\tremaining: 2.92s\n",
      "168:\tlearn: 41249.3656260\ttotal: 594ms\tremaining: 2.92s\n",
      "169:\tlearn: 41239.5558163\ttotal: 597ms\tremaining: 2.91s\n",
      "170:\tlearn: 41230.9605636\ttotal: 599ms\tremaining: 2.91s\n",
      "171:\tlearn: 41223.3219590\ttotal: 602ms\tremaining: 2.9s\n",
      "172:\tlearn: 41218.6703019\ttotal: 606ms\tremaining: 2.9s\n",
      "173:\tlearn: 41213.2522824\ttotal: 609ms\tremaining: 2.89s\n",
      "174:\tlearn: 41201.5392186\ttotal: 612ms\tremaining: 2.88s\n",
      "175:\tlearn: 41190.5874297\ttotal: 615ms\tremaining: 2.88s\n",
      "176:\tlearn: 41182.9708193\ttotal: 618ms\tremaining: 2.87s\n",
      "177:\tlearn: 41178.9742793\ttotal: 620ms\tremaining: 2.86s\n",
      "178:\tlearn: 41175.8289150\ttotal: 623ms\tremaining: 2.86s\n",
      "179:\tlearn: 41168.7339941\ttotal: 625ms\tremaining: 2.85s\n",
      "180:\tlearn: 41159.7076012\ttotal: 628ms\tremaining: 2.84s\n",
      "181:\tlearn: 41148.3588728\ttotal: 631ms\tremaining: 2.84s\n",
      "182:\tlearn: 41135.8222939\ttotal: 634ms\tremaining: 2.83s\n",
      "183:\tlearn: 41129.3106024\ttotal: 637ms\tremaining: 2.82s\n",
      "184:\tlearn: 41118.3483766\ttotal: 640ms\tremaining: 2.82s\n",
      "185:\tlearn: 41107.0187299\ttotal: 643ms\tremaining: 2.81s\n",
      "186:\tlearn: 41103.8629566\ttotal: 646ms\tremaining: 2.81s\n",
      "187:\tlearn: 41091.1903644\ttotal: 649ms\tremaining: 2.8s\n",
      "188:\tlearn: 41084.7945203\ttotal: 652ms\tremaining: 2.8s\n",
      "189:\tlearn: 41081.8128908\ttotal: 655ms\tremaining: 2.79s\n",
      "190:\tlearn: 41076.6947851\ttotal: 658ms\tremaining: 2.79s\n",
      "191:\tlearn: 41065.7053539\ttotal: 661ms\tremaining: 2.78s\n",
      "192:\tlearn: 41060.9025042\ttotal: 663ms\tremaining: 2.77s\n",
      "193:\tlearn: 41056.2683183\ttotal: 666ms\tremaining: 2.77s\n",
      "194:\tlearn: 41049.6509040\ttotal: 669ms\tremaining: 2.76s\n",
      "195:\tlearn: 41041.2922570\ttotal: 671ms\tremaining: 2.75s\n",
      "196:\tlearn: 41029.3514793\ttotal: 674ms\tremaining: 2.75s\n",
      "197:\tlearn: 41020.5580714\ttotal: 677ms\tremaining: 2.74s\n",
      "198:\tlearn: 41008.8475546\ttotal: 680ms\tremaining: 2.74s\n",
      "199:\tlearn: 41006.2486664\ttotal: 683ms\tremaining: 2.73s\n",
      "200:\tlearn: 41000.7862449\ttotal: 687ms\tremaining: 2.73s\n",
      "201:\tlearn: 40993.2266792\ttotal: 690ms\tremaining: 2.72s\n",
      "202:\tlearn: 40988.8892769\ttotal: 692ms\tremaining: 2.72s\n",
      "203:\tlearn: 40982.7443468\ttotal: 695ms\tremaining: 2.71s\n",
      "204:\tlearn: 40978.0563711\ttotal: 698ms\tremaining: 2.71s\n",
      "205:\tlearn: 40974.9610747\ttotal: 701ms\tremaining: 2.7s\n",
      "206:\tlearn: 40966.3428818\ttotal: 704ms\tremaining: 2.7s\n",
      "207:\tlearn: 40962.6302347\ttotal: 707ms\tremaining: 2.69s\n",
      "208:\tlearn: 40954.1923002\ttotal: 710ms\tremaining: 2.69s\n",
      "209:\tlearn: 40947.5087934\ttotal: 713ms\tremaining: 2.68s\n",
      "210:\tlearn: 40939.9198239\ttotal: 716ms\tremaining: 2.68s\n",
      "211:\tlearn: 40936.7848496\ttotal: 719ms\tremaining: 2.67s\n",
      "212:\tlearn: 40926.9330169\ttotal: 722ms\tremaining: 2.67s\n",
      "213:\tlearn: 40920.6182336\ttotal: 725ms\tremaining: 2.66s\n",
      "214:\tlearn: 40914.3468063\ttotal: 728ms\tremaining: 2.66s\n",
      "215:\tlearn: 40903.0939508\ttotal: 732ms\tremaining: 2.65s\n",
      "216:\tlearn: 40897.1877161\ttotal: 734ms\tremaining: 2.65s\n",
      "217:\tlearn: 40891.5716432\ttotal: 737ms\tremaining: 2.64s\n",
      "218:\tlearn: 40888.3552061\ttotal: 740ms\tremaining: 2.64s\n",
      "219:\tlearn: 40880.3689729\ttotal: 743ms\tremaining: 2.63s\n",
      "220:\tlearn: 40878.3219813\ttotal: 746ms\tremaining: 2.63s\n",
      "221:\tlearn: 40875.2487320\ttotal: 748ms\tremaining: 2.62s\n",
      "222:\tlearn: 40866.3546508\ttotal: 751ms\tremaining: 2.62s\n",
      "223:\tlearn: 40857.6021295\ttotal: 754ms\tremaining: 2.61s\n",
      "224:\tlearn: 40850.0793931\ttotal: 757ms\tremaining: 2.61s\n",
      "225:\tlearn: 40842.2471214\ttotal: 760ms\tremaining: 2.6s\n",
      "226:\tlearn: 40836.0206445\ttotal: 763ms\tremaining: 2.6s\n",
      "227:\tlearn: 40832.6467615\ttotal: 766ms\tremaining: 2.59s\n",
      "228:\tlearn: 40830.3075894\ttotal: 769ms\tremaining: 2.59s\n",
      "229:\tlearn: 40825.3896368\ttotal: 771ms\tremaining: 2.58s\n",
      "230:\tlearn: 40822.2960459\ttotal: 774ms\tremaining: 2.58s\n",
      "231:\tlearn: 40812.6471414\ttotal: 777ms\tremaining: 2.57s\n",
      "232:\tlearn: 40810.1764541\ttotal: 780ms\tremaining: 2.57s\n",
      "233:\tlearn: 40801.5150507\ttotal: 782ms\tremaining: 2.56s\n",
      "234:\tlearn: 40798.2756062\ttotal: 785ms\tremaining: 2.56s\n",
      "235:\tlearn: 40786.8076607\ttotal: 788ms\tremaining: 2.55s\n",
      "236:\tlearn: 40778.0697086\ttotal: 791ms\tremaining: 2.54s\n",
      "237:\tlearn: 40775.6009637\ttotal: 793ms\tremaining: 2.54s\n",
      "238:\tlearn: 40770.7374315\ttotal: 796ms\tremaining: 2.54s\n",
      "239:\tlearn: 40767.1833356\ttotal: 799ms\tremaining: 2.53s\n",
      "240:\tlearn: 40760.4056232\ttotal: 802ms\tremaining: 2.52s\n",
      "241:\tlearn: 40752.7100493\ttotal: 804ms\tremaining: 2.52s\n",
      "242:\tlearn: 40745.0708524\ttotal: 808ms\tremaining: 2.52s\n",
      "243:\tlearn: 40738.3986265\ttotal: 811ms\tremaining: 2.51s\n",
      "244:\tlearn: 40732.6768014\ttotal: 814ms\tremaining: 2.51s\n",
      "245:\tlearn: 40727.2926882\ttotal: 817ms\tremaining: 2.5s\n",
      "246:\tlearn: 40724.2648820\ttotal: 819ms\tremaining: 2.5s\n",
      "247:\tlearn: 40715.3678556\ttotal: 822ms\tremaining: 2.49s\n",
      "248:\tlearn: 40707.3628644\ttotal: 825ms\tremaining: 2.49s\n",
      "249:\tlearn: 40705.4995559\ttotal: 828ms\tremaining: 2.48s\n",
      "250:\tlearn: 40702.3321124\ttotal: 831ms\tremaining: 2.48s\n",
      "251:\tlearn: 40699.5743604\ttotal: 834ms\tremaining: 2.48s\n",
      "252:\tlearn: 40697.4580837\ttotal: 837ms\tremaining: 2.47s\n",
      "253:\tlearn: 40689.2418143\ttotal: 839ms\tremaining: 2.46s\n",
      "254:\tlearn: 40681.7997972\ttotal: 842ms\tremaining: 2.46s\n",
      "255:\tlearn: 40678.2876052\ttotal: 845ms\tremaining: 2.46s\n",
      "256:\tlearn: 40673.8688776\ttotal: 849ms\tremaining: 2.45s\n",
      "257:\tlearn: 40665.6486668\ttotal: 852ms\tremaining: 2.45s\n",
      "258:\tlearn: 40664.4073096\ttotal: 854ms\tremaining: 2.44s\n",
      "259:\tlearn: 40653.6045130\ttotal: 857ms\tremaining: 2.44s\n",
      "260:\tlearn: 40643.9953288\ttotal: 860ms\tremaining: 2.44s\n",
      "261:\tlearn: 40637.8187481\ttotal: 863ms\tremaining: 2.43s\n",
      "262:\tlearn: 40633.9093601\ttotal: 866ms\tremaining: 2.43s\n",
      "263:\tlearn: 40622.9482943\ttotal: 869ms\tremaining: 2.42s\n",
      "264:\tlearn: 40621.4469559\ttotal: 871ms\tremaining: 2.42s\n",
      "265:\tlearn: 40615.9628637\ttotal: 874ms\tremaining: 2.41s\n",
      "266:\tlearn: 40612.5160696\ttotal: 877ms\tremaining: 2.41s\n",
      "267:\tlearn: 40609.1737542\ttotal: 880ms\tremaining: 2.4s\n",
      "268:\tlearn: 40602.6558219\ttotal: 884ms\tremaining: 2.4s\n",
      "269:\tlearn: 40593.5692502\ttotal: 887ms\tremaining: 2.4s\n",
      "270:\tlearn: 40589.6377157\ttotal: 889ms\tremaining: 2.39s\n",
      "271:\tlearn: 40584.8260585\ttotal: 892ms\tremaining: 2.39s\n",
      "272:\tlearn: 40580.6122944\ttotal: 895ms\tremaining: 2.38s\n",
      "273:\tlearn: 40577.9279215\ttotal: 898ms\tremaining: 2.38s\n",
      "274:\tlearn: 40575.5407327\ttotal: 901ms\tremaining: 2.38s\n",
      "275:\tlearn: 40566.6826633\ttotal: 904ms\tremaining: 2.37s\n",
      "276:\tlearn: 40563.4232101\ttotal: 907ms\tremaining: 2.37s\n",
      "277:\tlearn: 40559.2818292\ttotal: 910ms\tremaining: 2.36s\n",
      "278:\tlearn: 40552.0197578\ttotal: 913ms\tremaining: 2.36s\n",
      "279:\tlearn: 40546.6544518\ttotal: 916ms\tremaining: 2.35s\n",
      "280:\tlearn: 40545.2050697\ttotal: 919ms\tremaining: 2.35s\n",
      "281:\tlearn: 40532.5906747\ttotal: 922ms\tremaining: 2.35s\n",
      "282:\tlearn: 40529.0966692\ttotal: 925ms\tremaining: 2.34s\n",
      "283:\tlearn: 40522.5296758\ttotal: 928ms\tremaining: 2.34s\n",
      "284:\tlearn: 40516.3994700\ttotal: 931ms\tremaining: 2.33s\n",
      "285:\tlearn: 40507.0277444\ttotal: 934ms\tremaining: 2.33s\n",
      "286:\tlearn: 40505.8345201\ttotal: 936ms\tremaining: 2.33s\n",
      "287:\tlearn: 40498.0651350\ttotal: 939ms\tremaining: 2.32s\n",
      "288:\tlearn: 40496.1336375\ttotal: 943ms\tremaining: 2.32s\n",
      "289:\tlearn: 40492.7331170\ttotal: 954ms\tremaining: 2.34s\n",
      "290:\tlearn: 40486.2932513\ttotal: 957ms\tremaining: 2.33s\n",
      "291:\tlearn: 40475.0159631\ttotal: 960ms\tremaining: 2.33s\n",
      "292:\tlearn: 40469.7620050\ttotal: 964ms\tremaining: 2.33s\n",
      "293:\tlearn: 40463.9431418\ttotal: 968ms\tremaining: 2.32s\n",
      "294:\tlearn: 40456.0713340\ttotal: 970ms\tremaining: 2.32s\n",
      "295:\tlearn: 40452.5463315\ttotal: 973ms\tremaining: 2.31s\n",
      "296:\tlearn: 40449.5703108\ttotal: 976ms\tremaining: 2.31s\n",
      "297:\tlearn: 40441.7485166\ttotal: 979ms\tremaining: 2.31s\n",
      "298:\tlearn: 40435.0261510\ttotal: 982ms\tremaining: 2.3s\n",
      "299:\tlearn: 40426.8227258\ttotal: 985ms\tremaining: 2.3s\n",
      "300:\tlearn: 40423.9667216\ttotal: 988ms\tremaining: 2.29s\n",
      "301:\tlearn: 40418.3695085\ttotal: 991ms\tremaining: 2.29s\n",
      "302:\tlearn: 40408.0093256\ttotal: 994ms\tremaining: 2.29s\n",
      "303:\tlearn: 40400.3298086\ttotal: 998ms\tremaining: 2.28s\n",
      "304:\tlearn: 40398.3876804\ttotal: 1s\tremaining: 2.28s\n",
      "305:\tlearn: 40396.6462861\ttotal: 1s\tremaining: 2.28s\n",
      "306:\tlearn: 40391.2221064\ttotal: 1.01s\tremaining: 2.27s\n",
      "307:\tlearn: 40386.2320469\ttotal: 1.01s\tremaining: 2.27s\n",
      "308:\tlearn: 40385.2978321\ttotal: 1.01s\tremaining: 2.27s\n",
      "309:\tlearn: 40382.8109626\ttotal: 1.02s\tremaining: 2.26s\n",
      "310:\tlearn: 40377.8825851\ttotal: 1.02s\tremaining: 2.26s\n",
      "311:\tlearn: 40371.7557423\ttotal: 1.02s\tremaining: 2.25s\n",
      "312:\tlearn: 40363.4658973\ttotal: 1.02s\tremaining: 2.25s\n",
      "313:\tlearn: 40356.7075259\ttotal: 1.03s\tremaining: 2.25s\n",
      "314:\tlearn: 40350.7043698\ttotal: 1.03s\tremaining: 2.24s\n",
      "315:\tlearn: 40346.3571641\ttotal: 1.03s\tremaining: 2.24s\n",
      "316:\tlearn: 40341.8143116\ttotal: 1.04s\tremaining: 2.23s\n",
      "317:\tlearn: 40340.6823239\ttotal: 1.04s\tremaining: 2.23s\n",
      "318:\tlearn: 40333.4234246\ttotal: 1.04s\tremaining: 2.23s\n",
      "319:\tlearn: 40326.2077355\ttotal: 1.04s\tremaining: 2.22s\n",
      "320:\tlearn: 40318.2299643\ttotal: 1.05s\tremaining: 2.22s\n",
      "321:\tlearn: 40311.5243496\ttotal: 1.05s\tremaining: 2.21s\n",
      "322:\tlearn: 40303.4043788\ttotal: 1.05s\tremaining: 2.21s\n",
      "323:\tlearn: 40297.3268489\ttotal: 1.06s\tremaining: 2.21s\n",
      "324:\tlearn: 40293.8469376\ttotal: 1.06s\tremaining: 2.2s\n",
      "325:\tlearn: 40288.5383943\ttotal: 1.06s\tremaining: 2.2s\n",
      "326:\tlearn: 40285.8200769\ttotal: 1.06s\tremaining: 2.19s\n",
      "327:\tlearn: 40282.2864778\ttotal: 1.07s\tremaining: 2.19s\n",
      "328:\tlearn: 40278.1555725\ttotal: 1.07s\tremaining: 2.19s\n",
      "329:\tlearn: 40276.7062562\ttotal: 1.07s\tremaining: 2.18s\n",
      "330:\tlearn: 40271.8705821\ttotal: 1.08s\tremaining: 2.18s\n",
      "331:\tlearn: 40268.8374687\ttotal: 1.08s\tremaining: 2.17s\n",
      "332:\tlearn: 40263.9815249\ttotal: 1.08s\tremaining: 2.17s\n",
      "333:\tlearn: 40260.1422608\ttotal: 1.09s\tremaining: 2.17s\n",
      "334:\tlearn: 40256.5312832\ttotal: 1.09s\tremaining: 2.16s\n",
      "335:\tlearn: 40248.7778088\ttotal: 1.09s\tremaining: 2.16s\n",
      "336:\tlearn: 40244.4913118\ttotal: 1.09s\tremaining: 2.15s\n",
      "337:\tlearn: 40241.3774139\ttotal: 1.1s\tremaining: 2.15s\n",
      "338:\tlearn: 40237.6773828\ttotal: 1.1s\tremaining: 2.15s\n",
      "339:\tlearn: 40234.5338198\ttotal: 1.1s\tremaining: 2.14s\n",
      "340:\tlearn: 40227.7365326\ttotal: 1.11s\tremaining: 2.14s\n",
      "341:\tlearn: 40223.8629117\ttotal: 1.11s\tremaining: 2.13s\n",
      "342:\tlearn: 40220.3516369\ttotal: 1.11s\tremaining: 2.13s\n",
      "343:\tlearn: 40215.2251586\ttotal: 1.11s\tremaining: 2.13s\n",
      "344:\tlearn: 40207.9259137\ttotal: 1.12s\tremaining: 2.12s\n",
      "345:\tlearn: 40204.8759244\ttotal: 1.12s\tremaining: 2.12s\n",
      "346:\tlearn: 40200.5786159\ttotal: 1.12s\tremaining: 2.12s\n",
      "347:\tlearn: 40194.7143332\ttotal: 1.13s\tremaining: 2.11s\n",
      "348:\tlearn: 40191.9053967\ttotal: 1.13s\tremaining: 2.11s\n",
      "349:\tlearn: 40183.4644140\ttotal: 1.13s\tremaining: 2.1s\n",
      "350:\tlearn: 40177.1375703\ttotal: 1.14s\tremaining: 2.1s\n",
      "351:\tlearn: 40168.9580611\ttotal: 1.14s\tremaining: 2.1s\n",
      "352:\tlearn: 40165.5914160\ttotal: 1.14s\tremaining: 2.09s\n",
      "353:\tlearn: 40158.8395736\ttotal: 1.15s\tremaining: 2.09s\n",
      "354:\tlearn: 40156.6117615\ttotal: 1.15s\tremaining: 2.09s\n",
      "355:\tlearn: 40149.8779723\ttotal: 1.15s\tremaining: 2.08s\n",
      "356:\tlearn: 40143.1994394\ttotal: 1.16s\tremaining: 2.08s\n",
      "357:\tlearn: 40137.2577949\ttotal: 1.16s\tremaining: 2.08s\n",
      "358:\tlearn: 40131.2619531\ttotal: 1.16s\tremaining: 2.07s\n",
      "359:\tlearn: 40124.7523089\ttotal: 1.17s\tremaining: 2.07s\n",
      "360:\tlearn: 40118.5215037\ttotal: 1.17s\tremaining: 2.07s\n",
      "361:\tlearn: 40111.7043802\ttotal: 1.17s\tremaining: 2.06s\n",
      "362:\tlearn: 40107.4795405\ttotal: 1.17s\tremaining: 2.06s\n",
      "363:\tlearn: 40105.8539247\ttotal: 1.18s\tremaining: 2.06s\n",
      "364:\tlearn: 40100.6538332\ttotal: 1.18s\tremaining: 2.05s\n",
      "365:\tlearn: 40096.6175420\ttotal: 1.18s\tremaining: 2.05s\n",
      "366:\tlearn: 40089.9400761\ttotal: 1.19s\tremaining: 2.04s\n",
      "367:\tlearn: 40085.5866753\ttotal: 1.19s\tremaining: 2.04s\n",
      "368:\tlearn: 40079.4735060\ttotal: 1.19s\tremaining: 2.04s\n",
      "369:\tlearn: 40075.2180625\ttotal: 1.19s\tremaining: 2.03s\n",
      "370:\tlearn: 40073.7757680\ttotal: 1.2s\tremaining: 2.03s\n",
      "371:\tlearn: 40072.3269830\ttotal: 1.2s\tremaining: 2.02s\n",
      "372:\tlearn: 40071.5816069\ttotal: 1.2s\tremaining: 2.02s\n",
      "373:\tlearn: 40069.7614400\ttotal: 1.2s\tremaining: 2.02s\n",
      "374:\tlearn: 40068.3162915\ttotal: 1.21s\tremaining: 2.02s\n",
      "375:\tlearn: 40065.4209378\ttotal: 1.21s\tremaining: 2.01s\n",
      "376:\tlearn: 40062.3275102\ttotal: 1.21s\tremaining: 2.01s\n",
      "377:\tlearn: 40057.3464097\ttotal: 1.22s\tremaining: 2s\n",
      "378:\tlearn: 40052.9609634\ttotal: 1.22s\tremaining: 2s\n",
      "379:\tlearn: 40049.8079781\ttotal: 1.22s\tremaining: 2s\n",
      "380:\tlearn: 40047.3532249\ttotal: 1.23s\tremaining: 1.99s\n",
      "381:\tlearn: 40042.4824498\ttotal: 1.23s\tremaining: 1.99s\n",
      "382:\tlearn: 40036.4886343\ttotal: 1.23s\tremaining: 1.99s\n",
      "383:\tlearn: 40033.2464051\ttotal: 1.24s\tremaining: 1.98s\n",
      "384:\tlearn: 40030.9677765\ttotal: 1.24s\tremaining: 1.98s\n",
      "385:\tlearn: 40027.6258068\ttotal: 1.24s\tremaining: 1.97s\n",
      "386:\tlearn: 40022.5746941\ttotal: 1.24s\tremaining: 1.97s\n",
      "387:\tlearn: 40018.7884700\ttotal: 1.25s\tremaining: 1.97s\n",
      "388:\tlearn: 40014.2084748\ttotal: 1.25s\tremaining: 1.96s\n",
      "389:\tlearn: 40009.0643605\ttotal: 1.25s\tremaining: 1.96s\n",
      "390:\tlearn: 40004.9928634\ttotal: 1.26s\tremaining: 1.96s\n",
      "391:\tlearn: 40001.1133432\ttotal: 1.26s\tremaining: 1.96s\n",
      "392:\tlearn: 39997.0818091\ttotal: 1.26s\tremaining: 1.95s\n",
      "393:\tlearn: 39994.4827351\ttotal: 1.27s\tremaining: 1.95s\n",
      "394:\tlearn: 39993.2167594\ttotal: 1.27s\tremaining: 1.95s\n",
      "395:\tlearn: 39991.6171978\ttotal: 1.27s\tremaining: 1.94s\n",
      "396:\tlearn: 39988.5492512\ttotal: 1.28s\tremaining: 1.94s\n",
      "397:\tlearn: 39985.8652770\ttotal: 1.28s\tremaining: 1.93s\n",
      "398:\tlearn: 39981.6742067\ttotal: 1.28s\tremaining: 1.93s\n",
      "399:\tlearn: 39975.3692270\ttotal: 1.28s\tremaining: 1.93s\n",
      "400:\tlearn: 39973.9871554\ttotal: 1.29s\tremaining: 1.92s\n",
      "401:\tlearn: 39967.1598594\ttotal: 1.29s\tremaining: 1.92s\n",
      "402:\tlearn: 39961.3356350\ttotal: 1.29s\tremaining: 1.92s\n",
      "403:\tlearn: 39960.1901408\ttotal: 1.3s\tremaining: 1.91s\n",
      "404:\tlearn: 39955.3473937\ttotal: 1.3s\tremaining: 1.91s\n",
      "405:\tlearn: 39952.3317214\ttotal: 1.3s\tremaining: 1.91s\n",
      "406:\tlearn: 39947.2063659\ttotal: 1.3s\tremaining: 1.9s\n",
      "407:\tlearn: 39946.0067077\ttotal: 1.31s\tremaining: 1.9s\n",
      "408:\tlearn: 39943.9770045\ttotal: 1.31s\tremaining: 1.89s\n",
      "409:\tlearn: 39942.0499255\ttotal: 1.31s\tremaining: 1.89s\n",
      "410:\tlearn: 39937.8050515\ttotal: 1.32s\tremaining: 1.89s\n",
      "411:\tlearn: 39936.6181332\ttotal: 1.32s\tremaining: 1.88s\n",
      "412:\tlearn: 39934.7641250\ttotal: 1.32s\tremaining: 1.88s\n",
      "413:\tlearn: 39931.4821703\ttotal: 1.32s\tremaining: 1.88s\n",
      "414:\tlearn: 39924.7724441\ttotal: 1.33s\tremaining: 1.87s\n",
      "415:\tlearn: 39922.9624902\ttotal: 1.33s\tremaining: 1.87s\n",
      "416:\tlearn: 39920.9272670\ttotal: 1.33s\tremaining: 1.86s\n",
      "417:\tlearn: 39917.1508079\ttotal: 1.34s\tremaining: 1.86s\n",
      "418:\tlearn: 39911.4806104\ttotal: 1.34s\tremaining: 1.86s\n",
      "419:\tlearn: 39905.5135373\ttotal: 1.34s\tremaining: 1.85s\n",
      "420:\tlearn: 39896.5089276\ttotal: 1.35s\tremaining: 1.85s\n",
      "421:\tlearn: 39893.5968080\ttotal: 1.35s\tremaining: 1.85s\n",
      "422:\tlearn: 39889.2185970\ttotal: 1.35s\tremaining: 1.85s\n",
      "423:\tlearn: 39885.7834278\ttotal: 1.36s\tremaining: 1.84s\n",
      "424:\tlearn: 39877.5059787\ttotal: 1.36s\tremaining: 1.84s\n",
      "425:\tlearn: 39876.2529428\ttotal: 1.36s\tremaining: 1.84s\n",
      "426:\tlearn: 39870.2473355\ttotal: 1.36s\tremaining: 1.83s\n",
      "427:\tlearn: 39865.8907816\ttotal: 1.37s\tremaining: 1.83s\n",
      "428:\tlearn: 39860.9810700\ttotal: 1.37s\tremaining: 1.82s\n",
      "429:\tlearn: 39856.4112869\ttotal: 1.37s\tremaining: 1.82s\n",
      "430:\tlearn: 39851.4890015\ttotal: 1.38s\tremaining: 1.82s\n",
      "431:\tlearn: 39848.7163043\ttotal: 1.38s\tremaining: 1.81s\n",
      "432:\tlearn: 39847.4178573\ttotal: 1.38s\tremaining: 1.81s\n",
      "433:\tlearn: 39845.0953390\ttotal: 1.39s\tremaining: 1.81s\n",
      "434:\tlearn: 39842.4570501\ttotal: 1.39s\tremaining: 1.8s\n",
      "435:\tlearn: 39841.8812196\ttotal: 1.39s\tremaining: 1.8s\n",
      "436:\tlearn: 39836.4217690\ttotal: 1.39s\tremaining: 1.79s\n",
      "437:\tlearn: 39833.0478924\ttotal: 1.4s\tremaining: 1.79s\n",
      "438:\tlearn: 39831.0432136\ttotal: 1.4s\tremaining: 1.79s\n",
      "439:\tlearn: 39829.3547686\ttotal: 1.4s\tremaining: 1.78s\n",
      "440:\tlearn: 39827.1970272\ttotal: 1.41s\tremaining: 1.78s\n",
      "441:\tlearn: 39822.0120336\ttotal: 1.41s\tremaining: 1.78s\n",
      "442:\tlearn: 39820.5498780\ttotal: 1.41s\tremaining: 1.77s\n",
      "443:\tlearn: 39817.9266439\ttotal: 1.41s\tremaining: 1.77s\n",
      "444:\tlearn: 39815.1373263\ttotal: 1.42s\tremaining: 1.77s\n",
      "445:\tlearn: 39813.9793480\ttotal: 1.42s\tremaining: 1.76s\n",
      "446:\tlearn: 39809.5079978\ttotal: 1.42s\tremaining: 1.76s\n",
      "447:\tlearn: 39805.4823163\ttotal: 1.43s\tremaining: 1.76s\n",
      "448:\tlearn: 39803.5744483\ttotal: 1.43s\tremaining: 1.75s\n",
      "449:\tlearn: 39800.6757145\ttotal: 1.43s\tremaining: 1.75s\n",
      "450:\tlearn: 39799.3033157\ttotal: 1.43s\tremaining: 1.75s\n",
      "451:\tlearn: 39796.2725491\ttotal: 1.44s\tremaining: 1.74s\n",
      "452:\tlearn: 39793.0523071\ttotal: 1.44s\tremaining: 1.74s\n",
      "453:\tlearn: 39788.1005948\ttotal: 1.44s\tremaining: 1.74s\n",
      "454:\tlearn: 39783.1506595\ttotal: 1.45s\tremaining: 1.73s\n",
      "455:\tlearn: 39779.3017457\ttotal: 1.45s\tremaining: 1.73s\n",
      "456:\tlearn: 39776.1082323\ttotal: 1.45s\tremaining: 1.73s\n",
      "457:\tlearn: 39774.6593310\ttotal: 1.46s\tremaining: 1.72s\n",
      "458:\tlearn: 39772.6649558\ttotal: 1.46s\tremaining: 1.72s\n",
      "459:\tlearn: 39767.9414376\ttotal: 1.46s\tremaining: 1.72s\n",
      "460:\tlearn: 39763.2378184\ttotal: 1.47s\tremaining: 1.71s\n",
      "461:\tlearn: 39761.6698174\ttotal: 1.47s\tremaining: 1.71s\n",
      "462:\tlearn: 39759.1439519\ttotal: 1.47s\tremaining: 1.71s\n",
      "463:\tlearn: 39755.3796514\ttotal: 1.47s\tremaining: 1.7s\n",
      "464:\tlearn: 39750.6075554\ttotal: 1.48s\tremaining: 1.7s\n",
      "465:\tlearn: 39749.2660472\ttotal: 1.48s\tremaining: 1.7s\n",
      "466:\tlearn: 39742.1535675\ttotal: 1.48s\tremaining: 1.69s\n",
      "467:\tlearn: 39741.0843107\ttotal: 1.49s\tremaining: 1.69s\n",
      "468:\tlearn: 39736.3687299\ttotal: 1.49s\tremaining: 1.69s\n",
      "469:\tlearn: 39731.6170542\ttotal: 1.49s\tremaining: 1.68s\n",
      "470:\tlearn: 39730.5253192\ttotal: 1.5s\tremaining: 1.68s\n",
      "471:\tlearn: 39725.8253126\ttotal: 1.5s\tremaining: 1.68s\n",
      "472:\tlearn: 39724.6457425\ttotal: 1.5s\tremaining: 1.67s\n",
      "473:\tlearn: 39720.9311513\ttotal: 1.5s\tremaining: 1.67s\n",
      "474:\tlearn: 39716.5945407\ttotal: 1.51s\tremaining: 1.67s\n",
      "475:\tlearn: 39715.7456462\ttotal: 1.51s\tremaining: 1.66s\n",
      "476:\tlearn: 39712.6693610\ttotal: 1.51s\tremaining: 1.66s\n",
      "477:\tlearn: 39709.0109449\ttotal: 1.51s\tremaining: 1.66s\n",
      "478:\tlearn: 39705.5773815\ttotal: 1.52s\tremaining: 1.65s\n",
      "479:\tlearn: 39701.8918445\ttotal: 1.52s\tremaining: 1.65s\n",
      "480:\tlearn: 39699.0234457\ttotal: 1.52s\tremaining: 1.64s\n",
      "481:\tlearn: 39693.3696526\ttotal: 1.53s\tremaining: 1.64s\n",
      "482:\tlearn: 39689.9199036\ttotal: 1.53s\tremaining: 1.64s\n",
      "483:\tlearn: 39688.5504701\ttotal: 1.53s\tremaining: 1.63s\n",
      "484:\tlearn: 39684.8920285\ttotal: 1.53s\tremaining: 1.63s\n",
      "485:\tlearn: 39683.5809008\ttotal: 1.54s\tremaining: 1.63s\n",
      "486:\tlearn: 39681.9930236\ttotal: 1.54s\tremaining: 1.62s\n",
      "487:\tlearn: 39676.9369913\ttotal: 1.54s\tremaining: 1.62s\n",
      "488:\tlearn: 39673.1187670\ttotal: 1.55s\tremaining: 1.62s\n",
      "489:\tlearn: 39670.4014555\ttotal: 1.55s\tremaining: 1.61s\n",
      "490:\tlearn: 39665.2737932\ttotal: 1.55s\tremaining: 1.61s\n",
      "491:\tlearn: 39663.7940276\ttotal: 1.56s\tremaining: 1.61s\n",
      "492:\tlearn: 39659.1270576\ttotal: 1.56s\tremaining: 1.6s\n",
      "493:\tlearn: 39655.1592080\ttotal: 1.56s\tremaining: 1.6s\n",
      "494:\tlearn: 39647.8601713\ttotal: 1.56s\tremaining: 1.6s\n",
      "495:\tlearn: 39642.3399162\ttotal: 1.57s\tremaining: 1.59s\n",
      "496:\tlearn: 39640.9233033\ttotal: 1.57s\tremaining: 1.59s\n",
      "497:\tlearn: 39634.2138850\ttotal: 1.57s\tremaining: 1.59s\n",
      "498:\tlearn: 39630.7901811\ttotal: 1.58s\tremaining: 1.58s\n",
      "499:\tlearn: 39627.2485369\ttotal: 1.58s\tremaining: 1.58s\n",
      "500:\tlearn: 39625.9094456\ttotal: 1.58s\tremaining: 1.58s\n",
      "501:\tlearn: 39622.4681737\ttotal: 1.59s\tremaining: 1.57s\n",
      "502:\tlearn: 39618.7496870\ttotal: 1.59s\tremaining: 1.57s\n",
      "503:\tlearn: 39615.2682374\ttotal: 1.59s\tremaining: 1.57s\n",
      "504:\tlearn: 39614.4292211\ttotal: 1.59s\tremaining: 1.56s\n",
      "505:\tlearn: 39610.1010239\ttotal: 1.6s\tremaining: 1.56s\n",
      "506:\tlearn: 39608.0469962\ttotal: 1.6s\tremaining: 1.56s\n",
      "507:\tlearn: 39605.2809442\ttotal: 1.6s\tremaining: 1.55s\n",
      "508:\tlearn: 39603.2315883\ttotal: 1.61s\tremaining: 1.55s\n",
      "509:\tlearn: 39601.3952067\ttotal: 1.61s\tremaining: 1.55s\n",
      "510:\tlearn: 39597.4194812\ttotal: 1.61s\tremaining: 1.54s\n",
      "511:\tlearn: 39593.8989655\ttotal: 1.62s\tremaining: 1.54s\n",
      "512:\tlearn: 39593.3545886\ttotal: 1.62s\tremaining: 1.54s\n",
      "513:\tlearn: 39588.1587446\ttotal: 1.62s\tremaining: 1.53s\n",
      "514:\tlearn: 39585.6764052\ttotal: 1.62s\tremaining: 1.53s\n",
      "515:\tlearn: 39582.2898360\ttotal: 1.63s\tremaining: 1.53s\n",
      "516:\tlearn: 39581.4234717\ttotal: 1.63s\tremaining: 1.52s\n",
      "517:\tlearn: 39581.0223313\ttotal: 1.63s\tremaining: 1.52s\n",
      "518:\tlearn: 39575.5335933\ttotal: 1.64s\tremaining: 1.51s\n",
      "519:\tlearn: 39573.3554143\ttotal: 1.64s\tremaining: 1.51s\n",
      "520:\tlearn: 39568.9416453\ttotal: 1.64s\tremaining: 1.51s\n",
      "521:\tlearn: 39567.1515603\ttotal: 1.64s\tremaining: 1.5s\n",
      "522:\tlearn: 39566.4989284\ttotal: 1.65s\tremaining: 1.5s\n",
      "523:\tlearn: 39565.8196093\ttotal: 1.65s\tremaining: 1.5s\n",
      "524:\tlearn: 39565.1755787\ttotal: 1.65s\tremaining: 1.5s\n",
      "525:\tlearn: 39555.4584602\ttotal: 1.66s\tremaining: 1.49s\n",
      "526:\tlearn: 39554.6383926\ttotal: 1.66s\tremaining: 1.49s\n",
      "527:\tlearn: 39553.6799642\ttotal: 1.66s\tremaining: 1.49s\n",
      "528:\tlearn: 39551.1528279\ttotal: 1.67s\tremaining: 1.48s\n",
      "529:\tlearn: 39548.5039610\ttotal: 1.67s\tremaining: 1.48s\n",
      "530:\tlearn: 39547.8335946\ttotal: 1.67s\tremaining: 1.48s\n",
      "531:\tlearn: 39538.9840160\ttotal: 1.67s\tremaining: 1.47s\n",
      "532:\tlearn: 39535.5361495\ttotal: 1.68s\tremaining: 1.47s\n",
      "533:\tlearn: 39529.9803690\ttotal: 1.68s\tremaining: 1.47s\n",
      "534:\tlearn: 39527.2404479\ttotal: 1.68s\tremaining: 1.46s\n",
      "535:\tlearn: 39524.8124025\ttotal: 1.68s\tremaining: 1.46s\n",
      "536:\tlearn: 39523.6532522\ttotal: 1.69s\tremaining: 1.46s\n",
      "537:\tlearn: 39521.5756511\ttotal: 1.69s\tremaining: 1.45s\n",
      "538:\tlearn: 39520.9512486\ttotal: 1.69s\tremaining: 1.45s\n",
      "539:\tlearn: 39518.8031927\ttotal: 1.7s\tremaining: 1.44s\n",
      "540:\tlearn: 39518.2334099\ttotal: 1.7s\tremaining: 1.44s\n",
      "541:\tlearn: 39514.6141761\ttotal: 1.7s\tremaining: 1.44s\n",
      "542:\tlearn: 39511.6151613\ttotal: 1.7s\tremaining: 1.43s\n",
      "543:\tlearn: 39508.5808670\ttotal: 1.71s\tremaining: 1.43s\n",
      "544:\tlearn: 39506.1818721\ttotal: 1.71s\tremaining: 1.43s\n",
      "545:\tlearn: 39505.6756064\ttotal: 1.71s\tremaining: 1.43s\n",
      "546:\tlearn: 39502.6848295\ttotal: 1.72s\tremaining: 1.42s\n",
      "547:\tlearn: 39499.4009413\ttotal: 1.72s\tremaining: 1.42s\n",
      "548:\tlearn: 39498.4965414\ttotal: 1.72s\tremaining: 1.42s\n",
      "549:\tlearn: 39493.1139235\ttotal: 1.73s\tremaining: 1.41s\n",
      "550:\tlearn: 39489.1598358\ttotal: 1.73s\tremaining: 1.41s\n",
      "551:\tlearn: 39487.9065207\ttotal: 1.73s\tremaining: 1.41s\n",
      "552:\tlearn: 39487.1035572\ttotal: 1.73s\tremaining: 1.4s\n",
      "553:\tlearn: 39485.4307080\ttotal: 1.74s\tremaining: 1.4s\n",
      "554:\tlearn: 39484.7352493\ttotal: 1.74s\tremaining: 1.39s\n",
      "555:\tlearn: 39482.9884773\ttotal: 1.74s\tremaining: 1.39s\n",
      "556:\tlearn: 39478.3434966\ttotal: 1.75s\tremaining: 1.39s\n",
      "557:\tlearn: 39477.8121820\ttotal: 1.75s\tremaining: 1.38s\n",
      "558:\tlearn: 39475.2392147\ttotal: 1.75s\tremaining: 1.38s\n",
      "559:\tlearn: 39472.2671157\ttotal: 1.75s\tremaining: 1.38s\n",
      "560:\tlearn: 39471.7420211\ttotal: 1.76s\tremaining: 1.37s\n",
      "561:\tlearn: 39470.7595529\ttotal: 1.76s\tremaining: 1.37s\n",
      "562:\tlearn: 39468.9511550\ttotal: 1.76s\tremaining: 1.37s\n",
      "563:\tlearn: 39466.1560695\ttotal: 1.76s\tremaining: 1.36s\n",
      "564:\tlearn: 39465.7029434\ttotal: 1.77s\tremaining: 1.36s\n",
      "565:\tlearn: 39464.5101916\ttotal: 1.77s\tremaining: 1.36s\n",
      "566:\tlearn: 39463.5500037\ttotal: 1.77s\tremaining: 1.35s\n",
      "567:\tlearn: 39459.5202148\ttotal: 1.78s\tremaining: 1.35s\n",
      "568:\tlearn: 39457.2983796\ttotal: 1.78s\tremaining: 1.35s\n",
      "569:\tlearn: 39452.7172074\ttotal: 1.78s\tremaining: 1.34s\n",
      "570:\tlearn: 39447.1883364\ttotal: 1.79s\tremaining: 1.34s\n",
      "571:\tlearn: 39443.4030311\ttotal: 1.79s\tremaining: 1.34s\n",
      "572:\tlearn: 39439.6513951\ttotal: 1.79s\tremaining: 1.33s\n",
      "573:\tlearn: 39437.9044833\ttotal: 1.79s\tremaining: 1.33s\n",
      "574:\tlearn: 39431.4714239\ttotal: 1.8s\tremaining: 1.33s\n",
      "575:\tlearn: 39427.8850429\ttotal: 1.8s\tremaining: 1.33s\n",
      "576:\tlearn: 39423.6503737\ttotal: 1.8s\tremaining: 1.32s\n",
      "577:\tlearn: 39421.3875991\ttotal: 1.81s\tremaining: 1.32s\n",
      "578:\tlearn: 39416.9610447\ttotal: 1.81s\tremaining: 1.32s\n",
      "579:\tlearn: 39414.5658478\ttotal: 1.81s\tremaining: 1.31s\n",
      "580:\tlearn: 39412.8205355\ttotal: 1.81s\tremaining: 1.31s\n",
      "581:\tlearn: 39408.8924252\ttotal: 1.82s\tremaining: 1.31s\n",
      "582:\tlearn: 39406.4043060\ttotal: 1.82s\tremaining: 1.3s\n",
      "583:\tlearn: 39402.8918122\ttotal: 1.82s\tremaining: 1.3s\n",
      "584:\tlearn: 39399.5673151\ttotal: 1.83s\tremaining: 1.3s\n",
      "585:\tlearn: 39397.5661767\ttotal: 1.83s\tremaining: 1.29s\n",
      "586:\tlearn: 39392.2619430\ttotal: 1.83s\tremaining: 1.29s\n",
      "587:\tlearn: 39390.4044991\ttotal: 1.84s\tremaining: 1.29s\n",
      "588:\tlearn: 39386.7087203\ttotal: 1.84s\tremaining: 1.28s\n",
      "589:\tlearn: 39384.7940979\ttotal: 1.84s\tremaining: 1.28s\n",
      "590:\tlearn: 39382.1879367\ttotal: 1.84s\tremaining: 1.28s\n",
      "591:\tlearn: 39379.5519328\ttotal: 1.85s\tremaining: 1.27s\n",
      "592:\tlearn: 39376.1246756\ttotal: 1.85s\tremaining: 1.27s\n",
      "593:\tlearn: 39371.2986538\ttotal: 1.85s\tremaining: 1.27s\n",
      "594:\tlearn: 39370.6806320\ttotal: 1.86s\tremaining: 1.26s\n",
      "595:\tlearn: 39365.2814728\ttotal: 1.86s\tremaining: 1.26s\n",
      "596:\tlearn: 39361.0473442\ttotal: 1.86s\tremaining: 1.26s\n",
      "597:\tlearn: 39359.5665125\ttotal: 1.87s\tremaining: 1.25s\n",
      "598:\tlearn: 39358.3504859\ttotal: 1.87s\tremaining: 1.25s\n",
      "599:\tlearn: 39357.6506009\ttotal: 1.87s\tremaining: 1.25s\n",
      "600:\tlearn: 39352.7331528\ttotal: 1.87s\tremaining: 1.24s\n",
      "601:\tlearn: 39352.2772293\ttotal: 1.88s\tremaining: 1.24s\n",
      "602:\tlearn: 39350.1644619\ttotal: 1.88s\tremaining: 1.24s\n",
      "603:\tlearn: 39347.1318174\ttotal: 1.88s\tremaining: 1.23s\n",
      "604:\tlearn: 39342.4458849\ttotal: 1.89s\tremaining: 1.23s\n",
      "605:\tlearn: 39337.9075897\ttotal: 1.89s\tremaining: 1.23s\n",
      "606:\tlearn: 39330.8226739\ttotal: 1.89s\tremaining: 1.22s\n",
      "607:\tlearn: 39324.1167425\ttotal: 1.89s\tremaining: 1.22s\n",
      "608:\tlearn: 39321.2802868\ttotal: 1.9s\tremaining: 1.22s\n",
      "609:\tlearn: 39317.8904198\ttotal: 1.9s\tremaining: 1.21s\n",
      "610:\tlearn: 39315.8436960\ttotal: 1.9s\tremaining: 1.21s\n",
      "611:\tlearn: 39314.9329174\ttotal: 1.91s\tremaining: 1.21s\n",
      "612:\tlearn: 39313.6612792\ttotal: 1.91s\tremaining: 1.21s\n",
      "613:\tlearn: 39313.0467598\ttotal: 1.91s\tremaining: 1.2s\n",
      "614:\tlearn: 39309.2968439\ttotal: 1.91s\tremaining: 1.2s\n",
      "615:\tlearn: 39307.5746574\ttotal: 1.92s\tremaining: 1.2s\n",
      "616:\tlearn: 39304.2652796\ttotal: 1.92s\tremaining: 1.19s\n",
      "617:\tlearn: 39299.4355471\ttotal: 1.92s\tremaining: 1.19s\n",
      "618:\tlearn: 39297.4939489\ttotal: 1.93s\tremaining: 1.19s\n",
      "619:\tlearn: 39295.5384854\ttotal: 1.93s\tremaining: 1.18s\n",
      "620:\tlearn: 39292.2290066\ttotal: 1.93s\tremaining: 1.18s\n",
      "621:\tlearn: 39292.1984575\ttotal: 1.93s\tremaining: 1.17s\n",
      "622:\tlearn: 39291.7810159\ttotal: 1.94s\tremaining: 1.17s\n",
      "623:\tlearn: 39290.0643606\ttotal: 1.94s\tremaining: 1.17s\n",
      "624:\tlearn: 39289.7800906\ttotal: 1.94s\tremaining: 1.16s\n",
      "625:\tlearn: 39284.8596645\ttotal: 1.94s\tremaining: 1.16s\n",
      "626:\tlearn: 39278.9511156\ttotal: 1.95s\tremaining: 1.16s\n",
      "627:\tlearn: 39277.0963453\ttotal: 1.95s\tremaining: 1.16s\n",
      "628:\tlearn: 39275.1975151\ttotal: 1.95s\tremaining: 1.15s\n",
      "629:\tlearn: 39274.5267956\ttotal: 1.96s\tremaining: 1.15s\n",
      "630:\tlearn: 39269.9643645\ttotal: 1.96s\tremaining: 1.15s\n",
      "631:\tlearn: 39266.8615708\ttotal: 1.96s\tremaining: 1.14s\n",
      "632:\tlearn: 39264.9180657\ttotal: 1.96s\tremaining: 1.14s\n",
      "633:\tlearn: 39264.2568909\ttotal: 1.97s\tremaining: 1.14s\n",
      "634:\tlearn: 39263.1600633\ttotal: 1.97s\tremaining: 1.13s\n",
      "635:\tlearn: 39261.9328543\ttotal: 1.97s\tremaining: 1.13s\n",
      "636:\tlearn: 39259.3754342\ttotal: 1.98s\tremaining: 1.13s\n",
      "637:\tlearn: 39255.5256424\ttotal: 1.98s\tremaining: 1.12s\n",
      "638:\tlearn: 39249.8585530\ttotal: 1.98s\tremaining: 1.12s\n",
      "639:\tlearn: 39244.7221694\ttotal: 1.99s\tremaining: 1.12s\n",
      "640:\tlearn: 39242.4891609\ttotal: 1.99s\tremaining: 1.11s\n",
      "641:\tlearn: 39242.0447593\ttotal: 1.99s\tremaining: 1.11s\n",
      "642:\tlearn: 39240.7956118\ttotal: 1.99s\tremaining: 1.11s\n",
      "643:\tlearn: 39238.4508361\ttotal: 2s\tremaining: 1.1s\n",
      "644:\tlearn: 39238.1770751\ttotal: 2s\tremaining: 1.1s\n",
      "645:\tlearn: 39235.8472902\ttotal: 2s\tremaining: 1.1s\n",
      "646:\tlearn: 39234.9958267\ttotal: 2.01s\tremaining: 1.09s\n",
      "647:\tlearn: 39231.1101009\ttotal: 2.01s\tremaining: 1.09s\n",
      "648:\tlearn: 39230.6381507\ttotal: 2.01s\tremaining: 1.09s\n",
      "649:\tlearn: 39229.7045985\ttotal: 2.02s\tremaining: 1.08s\n",
      "650:\tlearn: 39225.5107788\ttotal: 2.02s\tremaining: 1.08s\n",
      "651:\tlearn: 39221.3956937\ttotal: 2.02s\tremaining: 1.08s\n",
      "652:\tlearn: 39217.3222784\ttotal: 2.02s\tremaining: 1.07s\n",
      "653:\tlearn: 39216.3921401\ttotal: 2.03s\tremaining: 1.07s\n",
      "654:\tlearn: 39212.0347745\ttotal: 2.03s\tremaining: 1.07s\n",
      "655:\tlearn: 39209.7723938\ttotal: 2.03s\tremaining: 1.07s\n",
      "656:\tlearn: 39207.5323572\ttotal: 2.04s\tremaining: 1.06s\n",
      "657:\tlearn: 39204.8599600\ttotal: 2.04s\tremaining: 1.06s\n",
      "658:\tlearn: 39202.2740383\ttotal: 2.04s\tremaining: 1.06s\n",
      "659:\tlearn: 39200.2062858\ttotal: 2.04s\tremaining: 1.05s\n",
      "660:\tlearn: 39198.4038612\ttotal: 2.05s\tremaining: 1.05s\n",
      "661:\tlearn: 39197.0150926\ttotal: 2.05s\tremaining: 1.05s\n",
      "662:\tlearn: 39195.2193530\ttotal: 2.05s\tremaining: 1.04s\n",
      "663:\tlearn: 39192.9816767\ttotal: 2.06s\tremaining: 1.04s\n",
      "664:\tlearn: 39191.0447728\ttotal: 2.06s\tremaining: 1.04s\n",
      "665:\tlearn: 39189.8126095\ttotal: 2.06s\tremaining: 1.03s\n",
      "666:\tlearn: 39189.0156640\ttotal: 2.06s\tremaining: 1.03s\n",
      "667:\tlearn: 39185.0375346\ttotal: 2.07s\tremaining: 1.03s\n",
      "668:\tlearn: 39182.3146072\ttotal: 2.07s\tremaining: 1.02s\n",
      "669:\tlearn: 39177.4971552\ttotal: 2.07s\tremaining: 1.02s\n",
      "670:\tlearn: 39175.5852377\ttotal: 2.08s\tremaining: 1.02s\n",
      "671:\tlearn: 39171.7534483\ttotal: 2.08s\tremaining: 1.01s\n",
      "672:\tlearn: 39169.6923363\ttotal: 2.08s\tremaining: 1.01s\n",
      "673:\tlearn: 39167.4975509\ttotal: 2.08s\tremaining: 1.01s\n",
      "674:\tlearn: 39160.1120155\ttotal: 2.09s\tremaining: 1s\n",
      "675:\tlearn: 39156.7785613\ttotal: 2.09s\tremaining: 1s\n",
      "676:\tlearn: 39156.2673449\ttotal: 2.09s\tremaining: 999ms\n",
      "677:\tlearn: 39154.1863347\ttotal: 2.1s\tremaining: 996ms\n",
      "678:\tlearn: 39150.7335317\ttotal: 2.1s\tremaining: 993ms\n",
      "679:\tlearn: 39149.6086062\ttotal: 2.1s\tremaining: 989ms\n",
      "680:\tlearn: 39148.6543927\ttotal: 2.1s\tremaining: 986ms\n",
      "681:\tlearn: 39147.6990123\ttotal: 2.11s\tremaining: 983ms\n",
      "682:\tlearn: 39145.7229108\ttotal: 2.11s\tremaining: 980ms\n",
      "683:\tlearn: 39144.4415273\ttotal: 2.11s\tremaining: 977ms\n",
      "684:\tlearn: 39142.9103512\ttotal: 2.12s\tremaining: 973ms\n",
      "685:\tlearn: 39140.9383720\ttotal: 2.12s\tremaining: 970ms\n",
      "686:\tlearn: 39137.3598198\ttotal: 2.12s\tremaining: 967ms\n",
      "687:\tlearn: 39131.8202228\ttotal: 2.13s\tremaining: 964ms\n",
      "688:\tlearn: 39131.3205475\ttotal: 2.13s\tremaining: 961ms\n",
      "689:\tlearn: 39127.4377715\ttotal: 2.13s\tremaining: 958ms\n",
      "690:\tlearn: 39127.2683197\ttotal: 2.13s\tremaining: 955ms\n",
      "691:\tlearn: 39123.1249935\ttotal: 2.14s\tremaining: 952ms\n",
      "692:\tlearn: 39119.7794199\ttotal: 2.14s\tremaining: 948ms\n",
      "693:\tlearn: 39118.5260746\ttotal: 2.14s\tremaining: 945ms\n",
      "694:\tlearn: 39117.7259542\ttotal: 2.15s\tremaining: 942ms\n",
      "695:\tlearn: 39114.3137579\ttotal: 2.15s\tremaining: 939ms\n",
      "696:\tlearn: 39113.9054125\ttotal: 2.15s\tremaining: 936ms\n",
      "697:\tlearn: 39112.4133877\ttotal: 2.15s\tremaining: 932ms\n",
      "698:\tlearn: 39111.8300788\ttotal: 2.16s\tremaining: 929ms\n",
      "699:\tlearn: 39108.0398762\ttotal: 2.16s\tremaining: 926ms\n",
      "700:\tlearn: 39106.5194256\ttotal: 2.16s\tremaining: 923ms\n",
      "701:\tlearn: 39104.6782002\ttotal: 2.17s\tremaining: 920ms\n",
      "702:\tlearn: 39098.6328609\ttotal: 2.17s\tremaining: 917ms\n",
      "703:\tlearn: 39092.5067156\ttotal: 2.17s\tremaining: 914ms\n",
      "704:\tlearn: 39087.5290187\ttotal: 2.17s\tremaining: 910ms\n",
      "705:\tlearn: 39084.7671130\ttotal: 2.18s\tremaining: 907ms\n",
      "706:\tlearn: 39084.3429229\ttotal: 2.18s\tremaining: 904ms\n",
      "707:\tlearn: 39083.1154501\ttotal: 2.18s\tremaining: 901ms\n",
      "708:\tlearn: 39080.1810837\ttotal: 2.19s\tremaining: 898ms\n",
      "709:\tlearn: 39078.7783748\ttotal: 2.19s\tremaining: 895ms\n",
      "710:\tlearn: 39075.8746550\ttotal: 2.19s\tremaining: 892ms\n",
      "711:\tlearn: 39074.6110154\ttotal: 2.2s\tremaining: 888ms\n",
      "712:\tlearn: 39071.5287358\ttotal: 2.2s\tremaining: 885ms\n",
      "713:\tlearn: 39070.0860272\ttotal: 2.2s\tremaining: 882ms\n",
      "714:\tlearn: 39067.0683098\ttotal: 2.21s\tremaining: 879ms\n",
      "715:\tlearn: 39064.1669899\ttotal: 2.21s\tremaining: 876ms\n",
      "716:\tlearn: 39063.4360569\ttotal: 2.21s\tremaining: 873ms\n",
      "717:\tlearn: 39061.0487410\ttotal: 2.21s\tremaining: 870ms\n",
      "718:\tlearn: 39060.6892528\ttotal: 2.22s\tremaining: 867ms\n",
      "719:\tlearn: 39058.5441930\ttotal: 2.22s\tremaining: 864ms\n",
      "720:\tlearn: 39056.4062902\ttotal: 2.22s\tremaining: 860ms\n",
      "721:\tlearn: 39054.7850023\ttotal: 2.23s\tremaining: 857ms\n",
      "722:\tlearn: 39049.8343520\ttotal: 2.23s\tremaining: 854ms\n",
      "723:\tlearn: 39045.3795069\ttotal: 2.23s\tremaining: 851ms\n",
      "724:\tlearn: 39045.1114725\ttotal: 2.23s\tremaining: 848ms\n",
      "725:\tlearn: 39044.6443792\ttotal: 2.24s\tremaining: 845ms\n",
      "726:\tlearn: 39041.1054984\ttotal: 2.24s\tremaining: 842ms\n",
      "727:\tlearn: 39037.5947706\ttotal: 2.24s\tremaining: 838ms\n",
      "728:\tlearn: 39034.6718791\ttotal: 2.25s\tremaining: 835ms\n",
      "729:\tlearn: 39033.5382117\ttotal: 2.25s\tremaining: 832ms\n",
      "730:\tlearn: 39033.3193582\ttotal: 2.25s\tremaining: 829ms\n",
      "731:\tlearn: 39031.1737470\ttotal: 2.25s\tremaining: 826ms\n",
      "732:\tlearn: 39029.9868001\ttotal: 2.26s\tremaining: 822ms\n",
      "733:\tlearn: 39026.9922126\ttotal: 2.26s\tremaining: 819ms\n",
      "734:\tlearn: 39024.2208222\ttotal: 2.26s\tremaining: 816ms\n",
      "735:\tlearn: 39020.2641170\ttotal: 2.27s\tremaining: 813ms\n",
      "736:\tlearn: 39017.5583331\ttotal: 2.27s\tremaining: 810ms\n",
      "737:\tlearn: 39014.3431016\ttotal: 2.27s\tremaining: 807ms\n",
      "738:\tlearn: 39013.3161073\ttotal: 2.27s\tremaining: 804ms\n",
      "739:\tlearn: 39009.4593260\ttotal: 2.28s\tremaining: 800ms\n",
      "740:\tlearn: 39007.1051325\ttotal: 2.28s\tremaining: 797ms\n",
      "741:\tlearn: 39002.9292516\ttotal: 2.28s\tremaining: 794ms\n",
      "742:\tlearn: 39001.5627023\ttotal: 2.29s\tremaining: 791ms\n",
      "743:\tlearn: 39000.5508948\ttotal: 2.29s\tremaining: 788ms\n",
      "744:\tlearn: 39000.0283847\ttotal: 2.29s\tremaining: 785ms\n",
      "745:\tlearn: 38998.0427275\ttotal: 2.29s\tremaining: 781ms\n",
      "746:\tlearn: 38994.5997095\ttotal: 2.3s\tremaining: 778ms\n",
      "747:\tlearn: 38991.1362693\ttotal: 2.3s\tremaining: 775ms\n",
      "748:\tlearn: 38989.5980414\ttotal: 2.3s\tremaining: 772ms\n",
      "749:\tlearn: 38987.0178272\ttotal: 2.31s\tremaining: 769ms\n",
      "750:\tlearn: 38984.1306895\ttotal: 2.31s\tremaining: 766ms\n",
      "751:\tlearn: 38982.2833838\ttotal: 2.31s\tremaining: 762ms\n",
      "752:\tlearn: 38979.3796273\ttotal: 2.31s\tremaining: 759ms\n",
      "753:\tlearn: 38975.1290332\ttotal: 2.32s\tremaining: 756ms\n",
      "754:\tlearn: 38972.3325287\ttotal: 2.32s\tremaining: 753ms\n",
      "755:\tlearn: 38970.2522608\ttotal: 2.32s\tremaining: 750ms\n",
      "756:\tlearn: 38967.4324754\ttotal: 2.33s\tremaining: 747ms\n",
      "757:\tlearn: 38966.9042022\ttotal: 2.33s\tremaining: 744ms\n",
      "758:\tlearn: 38966.5901439\ttotal: 2.33s\tremaining: 741ms\n",
      "759:\tlearn: 38965.2070637\ttotal: 2.33s\tremaining: 738ms\n",
      "760:\tlearn: 38960.8603414\ttotal: 2.34s\tremaining: 734ms\n",
      "761:\tlearn: 38956.4882815\ttotal: 2.34s\tremaining: 731ms\n",
      "762:\tlearn: 38954.2989243\ttotal: 2.34s\tremaining: 728ms\n",
      "763:\tlearn: 38951.0128384\ttotal: 2.35s\tremaining: 725ms\n",
      "764:\tlearn: 38950.5056486\ttotal: 2.35s\tremaining: 722ms\n",
      "765:\tlearn: 38949.9435587\ttotal: 2.35s\tremaining: 719ms\n",
      "766:\tlearn: 38948.4756338\ttotal: 2.35s\tremaining: 716ms\n",
      "767:\tlearn: 38945.5361298\ttotal: 2.36s\tremaining: 713ms\n",
      "768:\tlearn: 38942.1676684\ttotal: 2.36s\tremaining: 709ms\n",
      "769:\tlearn: 38941.2097702\ttotal: 2.36s\tremaining: 706ms\n",
      "770:\tlearn: 38938.6470785\ttotal: 2.37s\tremaining: 703ms\n",
      "771:\tlearn: 38937.5767681\ttotal: 2.37s\tremaining: 700ms\n",
      "772:\tlearn: 38936.5636355\ttotal: 2.37s\tremaining: 697ms\n",
      "773:\tlearn: 38935.4961563\ttotal: 2.38s\tremaining: 694ms\n",
      "774:\tlearn: 38933.4354060\ttotal: 2.38s\tremaining: 691ms\n",
      "775:\tlearn: 38933.1372461\ttotal: 2.38s\tremaining: 687ms\n",
      "776:\tlearn: 38931.6259589\ttotal: 2.38s\tremaining: 684ms\n",
      "777:\tlearn: 38928.1874258\ttotal: 2.39s\tremaining: 681ms\n",
      "778:\tlearn: 38926.0546643\ttotal: 2.39s\tremaining: 678ms\n",
      "779:\tlearn: 38925.7415877\ttotal: 2.39s\tremaining: 675ms\n",
      "780:\tlearn: 38925.1932877\ttotal: 2.4s\tremaining: 672ms\n",
      "781:\tlearn: 38922.9546464\ttotal: 2.4s\tremaining: 669ms\n",
      "782:\tlearn: 38922.1201886\ttotal: 2.4s\tremaining: 666ms\n",
      "783:\tlearn: 38918.3313704\ttotal: 2.4s\tremaining: 663ms\n",
      "784:\tlearn: 38916.1356831\ttotal: 2.41s\tremaining: 660ms\n",
      "785:\tlearn: 38914.0409308\ttotal: 2.41s\tremaining: 657ms\n",
      "786:\tlearn: 38912.6693637\ttotal: 2.41s\tremaining: 654ms\n",
      "787:\tlearn: 38912.4624900\ttotal: 2.42s\tremaining: 650ms\n",
      "788:\tlearn: 38912.2339653\ttotal: 2.42s\tremaining: 647ms\n",
      "789:\tlearn: 38909.5150036\ttotal: 2.42s\tremaining: 644ms\n",
      "790:\tlearn: 38907.4141486\ttotal: 2.43s\tremaining: 641ms\n",
      "791:\tlearn: 38906.1114775\ttotal: 2.43s\tremaining: 638ms\n",
      "792:\tlearn: 38905.0187457\ttotal: 2.43s\tremaining: 635ms\n",
      "793:\tlearn: 38903.8824562\ttotal: 2.44s\tremaining: 632ms\n",
      "794:\tlearn: 38901.1528625\ttotal: 2.44s\tremaining: 629ms\n",
      "795:\tlearn: 38899.2190811\ttotal: 2.44s\tremaining: 626ms\n",
      "796:\tlearn: 38898.5390399\ttotal: 2.44s\tremaining: 623ms\n",
      "797:\tlearn: 38895.6093670\ttotal: 2.45s\tremaining: 620ms\n",
      "798:\tlearn: 38892.3962919\ttotal: 2.45s\tremaining: 617ms\n",
      "799:\tlearn: 38890.1201334\ttotal: 2.45s\tremaining: 613ms\n",
      "800:\tlearn: 38889.2648302\ttotal: 2.46s\tremaining: 610ms\n",
      "801:\tlearn: 38886.3529391\ttotal: 2.46s\tremaining: 607ms\n",
      "802:\tlearn: 38884.1432390\ttotal: 2.46s\tremaining: 604ms\n",
      "803:\tlearn: 38881.6933041\ttotal: 2.46s\tremaining: 601ms\n",
      "804:\tlearn: 38878.9216260\ttotal: 2.47s\tremaining: 598ms\n",
      "805:\tlearn: 38875.5651131\ttotal: 2.47s\tremaining: 595ms\n",
      "806:\tlearn: 38872.6061475\ttotal: 2.47s\tremaining: 592ms\n",
      "807:\tlearn: 38870.6744537\ttotal: 2.48s\tremaining: 589ms\n",
      "808:\tlearn: 38869.4212565\ttotal: 2.48s\tremaining: 585ms\n",
      "809:\tlearn: 38866.2456958\ttotal: 2.48s\tremaining: 582ms\n",
      "810:\tlearn: 38864.2399577\ttotal: 2.48s\tremaining: 579ms\n",
      "811:\tlearn: 38863.2818005\ttotal: 2.49s\tremaining: 576ms\n",
      "812:\tlearn: 38860.6295458\ttotal: 2.49s\tremaining: 573ms\n",
      "813:\tlearn: 38854.6011119\ttotal: 2.49s\tremaining: 570ms\n",
      "814:\tlearn: 38853.5741809\ttotal: 2.5s\tremaining: 567ms\n",
      "815:\tlearn: 38851.8661499\ttotal: 2.5s\tremaining: 564ms\n",
      "816:\tlearn: 38850.7830888\ttotal: 2.5s\tremaining: 561ms\n",
      "817:\tlearn: 38850.5709527\ttotal: 2.51s\tremaining: 558ms\n",
      "818:\tlearn: 38847.0709228\ttotal: 2.51s\tremaining: 555ms\n",
      "819:\tlearn: 38843.0614697\ttotal: 2.51s\tremaining: 551ms\n",
      "820:\tlearn: 38841.6951675\ttotal: 2.51s\tremaining: 548ms\n",
      "821:\tlearn: 38839.9845629\ttotal: 2.52s\tremaining: 545ms\n",
      "822:\tlearn: 38838.8620027\ttotal: 2.52s\tremaining: 542ms\n",
      "823:\tlearn: 38837.5853670\ttotal: 2.52s\tremaining: 539ms\n",
      "824:\tlearn: 38834.2672879\ttotal: 2.53s\tremaining: 536ms\n",
      "825:\tlearn: 38830.0917620\ttotal: 2.53s\tremaining: 533ms\n",
      "826:\tlearn: 38829.6747019\ttotal: 2.53s\tremaining: 530ms\n",
      "827:\tlearn: 38826.1155066\ttotal: 2.54s\tremaining: 527ms\n",
      "828:\tlearn: 38822.9544048\ttotal: 2.54s\tremaining: 524ms\n",
      "829:\tlearn: 38822.6963221\ttotal: 2.54s\tremaining: 521ms\n",
      "830:\tlearn: 38821.9731247\ttotal: 2.54s\tremaining: 518ms\n",
      "831:\tlearn: 38820.9960914\ttotal: 2.55s\tremaining: 514ms\n",
      "832:\tlearn: 38819.8186101\ttotal: 2.55s\tremaining: 511ms\n",
      "833:\tlearn: 38816.2392456\ttotal: 2.55s\tremaining: 508ms\n",
      "834:\tlearn: 38813.0520459\ttotal: 2.56s\tremaining: 505ms\n",
      "835:\tlearn: 38810.0565690\ttotal: 2.56s\tremaining: 502ms\n",
      "836:\tlearn: 38807.5543492\ttotal: 2.56s\tremaining: 499ms\n",
      "837:\tlearn: 38806.8597954\ttotal: 2.56s\tremaining: 496ms\n",
      "838:\tlearn: 38802.7235930\ttotal: 2.57s\tremaining: 493ms\n",
      "839:\tlearn: 38802.2486783\ttotal: 2.57s\tremaining: 490ms\n",
      "840:\tlearn: 38801.0379659\ttotal: 2.57s\tremaining: 487ms\n",
      "841:\tlearn: 38797.1862993\ttotal: 2.58s\tremaining: 484ms\n",
      "842:\tlearn: 38795.0980842\ttotal: 2.58s\tremaining: 481ms\n",
      "843:\tlearn: 38792.0025143\ttotal: 2.58s\tremaining: 478ms\n",
      "844:\tlearn: 38790.0421677\ttotal: 2.59s\tremaining: 475ms\n",
      "845:\tlearn: 38786.8908970\ttotal: 2.59s\tremaining: 472ms\n",
      "846:\tlearn: 38785.9346871\ttotal: 2.59s\tremaining: 469ms\n",
      "847:\tlearn: 38785.2069885\ttotal: 2.6s\tremaining: 466ms\n",
      "848:\tlearn: 38784.4175107\ttotal: 2.6s\tremaining: 462ms\n",
      "849:\tlearn: 38783.9058439\ttotal: 2.6s\tremaining: 459ms\n",
      "850:\tlearn: 38783.2967432\ttotal: 2.6s\tremaining: 456ms\n",
      "851:\tlearn: 38782.0499351\ttotal: 2.61s\tremaining: 453ms\n",
      "852:\tlearn: 38781.4568059\ttotal: 2.61s\tremaining: 450ms\n",
      "853:\tlearn: 38780.2640893\ttotal: 2.61s\tremaining: 447ms\n",
      "854:\tlearn: 38777.8012234\ttotal: 2.62s\tremaining: 444ms\n",
      "855:\tlearn: 38775.1170692\ttotal: 2.62s\tremaining: 441ms\n",
      "856:\tlearn: 38774.6248276\ttotal: 2.62s\tremaining: 438ms\n",
      "857:\tlearn: 38773.8894251\ttotal: 2.63s\tremaining: 435ms\n",
      "858:\tlearn: 38773.2973843\ttotal: 2.63s\tremaining: 432ms\n",
      "859:\tlearn: 38772.6180525\ttotal: 2.63s\tremaining: 428ms\n",
      "860:\tlearn: 38769.6041820\ttotal: 2.63s\tremaining: 425ms\n",
      "861:\tlearn: 38769.0046369\ttotal: 2.64s\tremaining: 422ms\n",
      "862:\tlearn: 38767.1511761\ttotal: 2.64s\tremaining: 419ms\n",
      "863:\tlearn: 38766.9410045\ttotal: 2.64s\tremaining: 416ms\n",
      "864:\tlearn: 38765.3658365\ttotal: 2.65s\tremaining: 413ms\n",
      "865:\tlearn: 38762.2039155\ttotal: 2.65s\tremaining: 410ms\n",
      "866:\tlearn: 38759.4987188\ttotal: 2.65s\tremaining: 407ms\n",
      "867:\tlearn: 38758.9991622\ttotal: 2.65s\tremaining: 404ms\n",
      "868:\tlearn: 38758.7944533\ttotal: 2.66s\tremaining: 401ms\n",
      "869:\tlearn: 38758.7932757\ttotal: 2.66s\tremaining: 398ms\n",
      "870:\tlearn: 38755.7209842\ttotal: 2.66s\tremaining: 394ms\n",
      "871:\tlearn: 38755.7199671\ttotal: 2.66s\tremaining: 391ms\n",
      "872:\tlearn: 38755.2077235\ttotal: 2.67s\tremaining: 388ms\n",
      "873:\tlearn: 38753.8081723\ttotal: 2.67s\tremaining: 385ms\n",
      "874:\tlearn: 38750.2571717\ttotal: 2.67s\tremaining: 382ms\n",
      "875:\tlearn: 38748.5385173\ttotal: 2.67s\tremaining: 379ms\n",
      "876:\tlearn: 38747.3092724\ttotal: 2.68s\tremaining: 376ms\n",
      "877:\tlearn: 38746.7848838\ttotal: 2.68s\tremaining: 373ms\n",
      "878:\tlearn: 38742.0496320\ttotal: 2.68s\tremaining: 370ms\n",
      "879:\tlearn: 38740.3392859\ttotal: 2.69s\tremaining: 367ms\n",
      "880:\tlearn: 38740.0272039\ttotal: 2.69s\tremaining: 364ms\n",
      "881:\tlearn: 38738.9443946\ttotal: 2.7s\tremaining: 361ms\n",
      "882:\tlearn: 38734.8252005\ttotal: 2.7s\tremaining: 358ms\n",
      "883:\tlearn: 38732.6572933\ttotal: 2.7s\tremaining: 355ms\n",
      "884:\tlearn: 38729.1354732\ttotal: 2.71s\tremaining: 352ms\n",
      "885:\tlearn: 38728.5874377\ttotal: 2.71s\tremaining: 349ms\n",
      "886:\tlearn: 38726.5209594\ttotal: 2.71s\tremaining: 346ms\n",
      "887:\tlearn: 38719.3436311\ttotal: 2.72s\tremaining: 343ms\n",
      "888:\tlearn: 38714.0953800\ttotal: 2.72s\tremaining: 340ms\n",
      "889:\tlearn: 38712.6260584\ttotal: 2.72s\tremaining: 337ms\n",
      "890:\tlearn: 38711.1583872\ttotal: 2.73s\tremaining: 333ms\n",
      "891:\tlearn: 38708.5244186\ttotal: 2.73s\tremaining: 330ms\n",
      "892:\tlearn: 38707.7768216\ttotal: 2.73s\tremaining: 327ms\n",
      "893:\tlearn: 38704.7096681\ttotal: 2.73s\tremaining: 324ms\n",
      "894:\tlearn: 38699.5029908\ttotal: 2.74s\tremaining: 321ms\n",
      "895:\tlearn: 38698.4571219\ttotal: 2.74s\tremaining: 318ms\n",
      "896:\tlearn: 38696.6106574\ttotal: 2.74s\tremaining: 315ms\n",
      "897:\tlearn: 38695.1363992\ttotal: 2.75s\tremaining: 312ms\n",
      "898:\tlearn: 38690.7725251\ttotal: 2.75s\tremaining: 309ms\n",
      "899:\tlearn: 38688.9308654\ttotal: 2.75s\tremaining: 306ms\n",
      "900:\tlearn: 38684.6179938\ttotal: 2.75s\tremaining: 303ms\n",
      "901:\tlearn: 38682.8496811\ttotal: 2.76s\tremaining: 300ms\n",
      "902:\tlearn: 38681.7094129\ttotal: 2.76s\tremaining: 296ms\n",
      "903:\tlearn: 38678.3237195\ttotal: 2.76s\tremaining: 293ms\n",
      "904:\tlearn: 38677.6581180\ttotal: 2.77s\tremaining: 290ms\n",
      "905:\tlearn: 38675.6557174\ttotal: 2.77s\tremaining: 287ms\n",
      "906:\tlearn: 38673.8396800\ttotal: 2.77s\tremaining: 284ms\n",
      "907:\tlearn: 38672.4028084\ttotal: 2.77s\tremaining: 281ms\n",
      "908:\tlearn: 38669.9889308\ttotal: 2.78s\tremaining: 278ms\n",
      "909:\tlearn: 38667.8741485\ttotal: 2.78s\tremaining: 275ms\n",
      "910:\tlearn: 38667.6898881\ttotal: 2.78s\tremaining: 272ms\n",
      "911:\tlearn: 38664.2066955\ttotal: 2.79s\tremaining: 269ms\n",
      "912:\tlearn: 38661.3851782\ttotal: 2.79s\tremaining: 266ms\n",
      "913:\tlearn: 38660.5005604\ttotal: 2.79s\tremaining: 263ms\n",
      "914:\tlearn: 38658.8887527\ttotal: 2.79s\tremaining: 260ms\n",
      "915:\tlearn: 38658.2191172\ttotal: 2.8s\tremaining: 257ms\n",
      "916:\tlearn: 38657.3853140\ttotal: 2.8s\tremaining: 253ms\n",
      "917:\tlearn: 38655.8326818\ttotal: 2.8s\tremaining: 250ms\n",
      "918:\tlearn: 38654.1023178\ttotal: 2.81s\tremaining: 247ms\n",
      "919:\tlearn: 38653.4376454\ttotal: 2.81s\tremaining: 244ms\n",
      "920:\tlearn: 38653.1857075\ttotal: 2.81s\tremaining: 241ms\n",
      "921:\tlearn: 38652.1732309\ttotal: 2.81s\tremaining: 238ms\n",
      "922:\tlearn: 38648.3875240\ttotal: 2.82s\tremaining: 235ms\n",
      "923:\tlearn: 38648.0913267\ttotal: 2.82s\tremaining: 232ms\n",
      "924:\tlearn: 38646.8536835\ttotal: 2.82s\tremaining: 229ms\n",
      "925:\tlearn: 38645.6006583\ttotal: 2.83s\tremaining: 226ms\n",
      "926:\tlearn: 38643.7221094\ttotal: 2.83s\tremaining: 223ms\n",
      "927:\tlearn: 38642.3416699\ttotal: 2.83s\tremaining: 220ms\n",
      "928:\tlearn: 38639.8450960\ttotal: 2.83s\tremaining: 217ms\n",
      "929:\tlearn: 38639.4906609\ttotal: 2.84s\tremaining: 214ms\n",
      "930:\tlearn: 38638.3150289\ttotal: 2.84s\tremaining: 210ms\n",
      "931:\tlearn: 38637.0255719\ttotal: 2.84s\tremaining: 207ms\n",
      "932:\tlearn: 38635.1453014\ttotal: 2.85s\tremaining: 204ms\n",
      "933:\tlearn: 38633.1752088\ttotal: 2.85s\tremaining: 201ms\n",
      "934:\tlearn: 38629.6209113\ttotal: 2.85s\tremaining: 198ms\n",
      "935:\tlearn: 38628.5792037\ttotal: 2.85s\tremaining: 195ms\n",
      "936:\tlearn: 38625.4677468\ttotal: 2.86s\tremaining: 192ms\n",
      "937:\tlearn: 38624.4754737\ttotal: 2.86s\tremaining: 189ms\n",
      "938:\tlearn: 38622.8013127\ttotal: 2.86s\tremaining: 186ms\n",
      "939:\tlearn: 38622.2119439\ttotal: 2.87s\tremaining: 183ms\n",
      "940:\tlearn: 38620.6844513\ttotal: 2.87s\tremaining: 180ms\n",
      "941:\tlearn: 38620.0374772\ttotal: 2.87s\tremaining: 177ms\n",
      "942:\tlearn: 38618.2676854\ttotal: 2.87s\tremaining: 174ms\n",
      "943:\tlearn: 38614.3555418\ttotal: 2.88s\tremaining: 171ms\n",
      "944:\tlearn: 38612.5846782\ttotal: 2.88s\tremaining: 168ms\n",
      "945:\tlearn: 38611.4796761\ttotal: 2.88s\tremaining: 165ms\n",
      "946:\tlearn: 38609.8536079\ttotal: 2.88s\tremaining: 161ms\n",
      "947:\tlearn: 38607.7681707\ttotal: 2.89s\tremaining: 158ms\n",
      "948:\tlearn: 38606.7515180\ttotal: 2.89s\tremaining: 155ms\n",
      "949:\tlearn: 38606.5650227\ttotal: 2.89s\tremaining: 152ms\n",
      "950:\tlearn: 38603.6454306\ttotal: 2.9s\tremaining: 149ms\n",
      "951:\tlearn: 38601.6181760\ttotal: 2.9s\tremaining: 146ms\n",
      "952:\tlearn: 38598.2468357\ttotal: 2.9s\tremaining: 143ms\n",
      "953:\tlearn: 38596.6248698\ttotal: 2.9s\tremaining: 140ms\n",
      "954:\tlearn: 38595.5532992\ttotal: 2.91s\tremaining: 137ms\n",
      "955:\tlearn: 38590.8359107\ttotal: 2.91s\tremaining: 134ms\n",
      "956:\tlearn: 38588.0316768\ttotal: 2.91s\tremaining: 131ms\n",
      "957:\tlearn: 38584.7810630\ttotal: 2.92s\tremaining: 128ms\n",
      "958:\tlearn: 38583.6412418\ttotal: 2.92s\tremaining: 125ms\n",
      "959:\tlearn: 38582.1040799\ttotal: 2.92s\tremaining: 122ms\n",
      "960:\tlearn: 38581.8256672\ttotal: 2.93s\tremaining: 119ms\n",
      "961:\tlearn: 38580.6195795\ttotal: 2.93s\tremaining: 116ms\n",
      "962:\tlearn: 38573.7248710\ttotal: 2.93s\tremaining: 113ms\n",
      "963:\tlearn: 38571.4551252\ttotal: 2.93s\tremaining: 110ms\n",
      "964:\tlearn: 38570.9031507\ttotal: 2.94s\tremaining: 107ms\n",
      "965:\tlearn: 38569.7189384\ttotal: 2.94s\tremaining: 103ms\n",
      "966:\tlearn: 38566.8926319\ttotal: 2.94s\tremaining: 100ms\n",
      "967:\tlearn: 38565.2616882\ttotal: 2.95s\tremaining: 97.4ms\n",
      "968:\tlearn: 38563.5496021\ttotal: 2.95s\tremaining: 94.3ms\n",
      "969:\tlearn: 38557.9850178\ttotal: 2.95s\tremaining: 91.3ms\n",
      "970:\tlearn: 38555.1826756\ttotal: 2.96s\tremaining: 88.3ms\n",
      "971:\tlearn: 38554.8202971\ttotal: 2.96s\tremaining: 85.2ms\n",
      "972:\tlearn: 38553.9923456\ttotal: 2.96s\tremaining: 82.2ms\n",
      "973:\tlearn: 38553.6550598\ttotal: 2.96s\tremaining: 79.1ms\n",
      "974:\tlearn: 38551.2662425\ttotal: 2.97s\tremaining: 76.1ms\n",
      "975:\tlearn: 38550.2249010\ttotal: 2.97s\tremaining: 73.1ms\n",
      "976:\tlearn: 38547.3188415\ttotal: 2.97s\tremaining: 70ms\n",
      "977:\tlearn: 38546.6198987\ttotal: 2.98s\tremaining: 67ms\n",
      "978:\tlearn: 38544.0616234\ttotal: 2.98s\tremaining: 63.9ms\n",
      "979:\tlearn: 38543.2446677\ttotal: 2.98s\tremaining: 60.9ms\n",
      "980:\tlearn: 38541.8888109\ttotal: 2.98s\tremaining: 57.8ms\n",
      "981:\tlearn: 38541.5857808\ttotal: 2.99s\tremaining: 54.8ms\n",
      "982:\tlearn: 38540.1424444\ttotal: 2.99s\tremaining: 51.7ms\n",
      "983:\tlearn: 38537.7545590\ttotal: 2.99s\tremaining: 48.7ms\n",
      "984:\tlearn: 38536.7676101\ttotal: 3s\tremaining: 45.6ms\n",
      "985:\tlearn: 38535.0907154\ttotal: 3s\tremaining: 42.6ms\n",
      "986:\tlearn: 38534.6220790\ttotal: 3s\tremaining: 39.5ms\n",
      "987:\tlearn: 38530.3138973\ttotal: 3.01s\tremaining: 36.5ms\n",
      "988:\tlearn: 38528.1919065\ttotal: 3.01s\tremaining: 33.5ms\n",
      "989:\tlearn: 38526.8277230\ttotal: 3.01s\tremaining: 30.4ms\n",
      "990:\tlearn: 38524.9638018\ttotal: 3.02s\tremaining: 27.4ms\n",
      "991:\tlearn: 38522.6723282\ttotal: 3.02s\tremaining: 24.3ms\n",
      "992:\tlearn: 38522.2225954\ttotal: 3.02s\tremaining: 21.3ms\n",
      "993:\tlearn: 38520.1233179\ttotal: 3.02s\tremaining: 18.3ms\n",
      "994:\tlearn: 38517.1530984\ttotal: 3.03s\tremaining: 15.2ms\n",
      "995:\tlearn: 38516.8400872\ttotal: 3.03s\tremaining: 12.2ms\n",
      "996:\tlearn: 38513.9665383\ttotal: 3.03s\tremaining: 9.13ms\n",
      "997:\tlearn: 38512.3788507\ttotal: 3.04s\tremaining: 6.08ms\n",
      "998:\tlearn: 38510.1800672\ttotal: 3.04s\tremaining: 3.04ms\n",
      "999:\tlearn: 38508.7156301\ttotal: 3.04s\tremaining: 0us\n",
      "$38,508.72\n"
     ]
    }
   ],
   "source": [
    "catboost_model.fit(X, y.values)\n",
    "y_pred = catboost_model.predict(X)\n",
    "error = np.sqrt(mean_squared_error(y, y_pred))\n",
    "print(\"${:,.02f}\".format(error))"
   ]
  },
  {
   "cell_type": "code",
   "execution_count": 59,
   "metadata": {},
   "outputs": [
    {
     "data": {
      "text/html": [
       "<style>#sk-container-id-4 {color: black;background-color: white;}#sk-container-id-4 pre{padding: 0;}#sk-container-id-4 div.sk-toggleable {background-color: white;}#sk-container-id-4 label.sk-toggleable__label {cursor: pointer;display: block;width: 100%;margin-bottom: 0;padding: 0.3em;box-sizing: border-box;text-align: center;}#sk-container-id-4 label.sk-toggleable__label-arrow:before {content: \"▸\";float: left;margin-right: 0.25em;color: #696969;}#sk-container-id-4 label.sk-toggleable__label-arrow:hover:before {color: black;}#sk-container-id-4 div.sk-estimator:hover label.sk-toggleable__label-arrow:before {color: black;}#sk-container-id-4 div.sk-toggleable__content {max-height: 0;max-width: 0;overflow: hidden;text-align: left;background-color: #f0f8ff;}#sk-container-id-4 div.sk-toggleable__content pre {margin: 0.2em;color: black;border-radius: 0.25em;background-color: #f0f8ff;}#sk-container-id-4 input.sk-toggleable__control:checked~div.sk-toggleable__content {max-height: 200px;max-width: 100%;overflow: auto;}#sk-container-id-4 input.sk-toggleable__control:checked~label.sk-toggleable__label-arrow:before {content: \"▾\";}#sk-container-id-4 div.sk-estimator input.sk-toggleable__control:checked~label.sk-toggleable__label {background-color: #d4ebff;}#sk-container-id-4 div.sk-label input.sk-toggleable__control:checked~label.sk-toggleable__label {background-color: #d4ebff;}#sk-container-id-4 input.sk-hidden--visually {border: 0;clip: rect(1px 1px 1px 1px);clip: rect(1px, 1px, 1px, 1px);height: 1px;margin: -1px;overflow: hidden;padding: 0;position: absolute;width: 1px;}#sk-container-id-4 div.sk-estimator {font-family: monospace;background-color: #f0f8ff;border: 1px dotted black;border-radius: 0.25em;box-sizing: border-box;margin-bottom: 0.5em;}#sk-container-id-4 div.sk-estimator:hover {background-color: #d4ebff;}#sk-container-id-4 div.sk-parallel-item::after {content: \"\";width: 100%;border-bottom: 1px solid gray;flex-grow: 1;}#sk-container-id-4 div.sk-label:hover label.sk-toggleable__label {background-color: #d4ebff;}#sk-container-id-4 div.sk-serial::before {content: \"\";position: absolute;border-left: 1px solid gray;box-sizing: border-box;top: 0;bottom: 0;left: 50%;z-index: 0;}#sk-container-id-4 div.sk-serial {display: flex;flex-direction: column;align-items: center;background-color: white;padding-right: 0.2em;padding-left: 0.2em;position: relative;}#sk-container-id-4 div.sk-item {position: relative;z-index: 1;}#sk-container-id-4 div.sk-parallel {display: flex;align-items: stretch;justify-content: center;background-color: white;position: relative;}#sk-container-id-4 div.sk-item::before, #sk-container-id-4 div.sk-parallel-item::before {content: \"\";position: absolute;border-left: 1px solid gray;box-sizing: border-box;top: 0;bottom: 0;left: 50%;z-index: -1;}#sk-container-id-4 div.sk-parallel-item {display: flex;flex-direction: column;z-index: 1;position: relative;background-color: white;}#sk-container-id-4 div.sk-parallel-item:first-child::after {align-self: flex-end;width: 50%;}#sk-container-id-4 div.sk-parallel-item:last-child::after {align-self: flex-start;width: 50%;}#sk-container-id-4 div.sk-parallel-item:only-child::after {width: 0;}#sk-container-id-4 div.sk-dashed-wrapped {border: 1px dashed gray;margin: 0 0.4em 0.5em 0.4em;box-sizing: border-box;padding-bottom: 0.4em;background-color: white;}#sk-container-id-4 div.sk-label label {font-family: monospace;font-weight: bold;display: inline-block;line-height: 1.2em;}#sk-container-id-4 div.sk-label-container {text-align: center;}#sk-container-id-4 div.sk-container {/* jupyter's `normalize.less` sets `[hidden] { display: none; }` but bootstrap.min.css set `[hidden] { display: none !important; }` so we also need the `!important` here to be able to override the default hidden behavior on the sphinx rendered scikit-learn.org. See: https://github.com/scikit-learn/scikit-learn/issues/21755 */display: inline-block !important;position: relative;}#sk-container-id-4 div.sk-text-repr-fallback {display: none;}</style><div id=\"sk-container-id-4\" class=\"sk-top-container\"><div class=\"sk-text-repr-fallback\"><pre>XGBRegressor(base_score=None, booster=&#x27;dart&#x27;, callbacks=None,\n",
       "             colsample_bylevel=None, colsample_bynode=None,\n",
       "             colsample_bytree=None, device=None, early_stopping_rounds=None,\n",
       "             enable_categorical=False, eval_metric=None, feature_types=None,\n",
       "             gamma=None, grow_policy=None, importance_type=None,\n",
       "             interaction_constraints=None, learning_rate=None, max_bin=None,\n",
       "             max_cat_threshold=None, max_cat_to_onehot=None,\n",
       "             max_delta_step=None, max_depth=7, max_leaves=None,\n",
       "             min_child_weight=None, missing=nan, monotone_constraints=None,\n",
       "             multi_strategy=None, n_estimators=10, n_jobs=None,\n",
       "             num_parallel_tree=None, random_state=None, ...)</pre><b>In a Jupyter environment, please rerun this cell to show the HTML representation or trust the notebook. <br />On GitHub, the HTML representation is unable to render, please try loading this page with nbviewer.org.</b></div><div class=\"sk-container\" hidden><div class=\"sk-item\"><div class=\"sk-estimator sk-toggleable\"><input class=\"sk-toggleable__control sk-hidden--visually\" id=\"sk-estimator-id-4\" type=\"checkbox\" checked><label for=\"sk-estimator-id-4\" class=\"sk-toggleable__label sk-toggleable__label-arrow\">XGBRegressor</label><div class=\"sk-toggleable__content\"><pre>XGBRegressor(base_score=None, booster=&#x27;dart&#x27;, callbacks=None,\n",
       "             colsample_bylevel=None, colsample_bynode=None,\n",
       "             colsample_bytree=None, device=None, early_stopping_rounds=None,\n",
       "             enable_categorical=False, eval_metric=None, feature_types=None,\n",
       "             gamma=None, grow_policy=None, importance_type=None,\n",
       "             interaction_constraints=None, learning_rate=None, max_bin=None,\n",
       "             max_cat_threshold=None, max_cat_to_onehot=None,\n",
       "             max_delta_step=None, max_depth=7, max_leaves=None,\n",
       "             min_child_weight=None, missing=nan, monotone_constraints=None,\n",
       "             multi_strategy=None, n_estimators=10, n_jobs=None,\n",
       "             num_parallel_tree=None, random_state=None, ...)</pre></div></div></div></div></div>"
      ],
      "text/plain": [
       "XGBRegressor(base_score=None, booster='dart', callbacks=None,\n",
       "             colsample_bylevel=None, colsample_bynode=None,\n",
       "             colsample_bytree=None, device=None, early_stopping_rounds=None,\n",
       "             enable_categorical=False, eval_metric=None, feature_types=None,\n",
       "             gamma=None, grow_policy=None, importance_type=None,\n",
       "             interaction_constraints=None, learning_rate=None, max_bin=None,\n",
       "             max_cat_threshold=None, max_cat_to_onehot=None,\n",
       "             max_delta_step=None, max_depth=7, max_leaves=None,\n",
       "             min_child_weight=None, missing=nan, monotone_constraints=None,\n",
       "             multi_strategy=None, n_estimators=10, n_jobs=None,\n",
       "             num_parallel_tree=None, random_state=None, ...)"
      ]
     },
     "execution_count": 59,
     "metadata": {},
     "output_type": "execute_result"
    }
   ],
   "source": [
    "from xgboost import XGBRegressor\n",
    "xg_model = XGBRegressor(booster='dart',n_estimators=10, max_depth=7)\n",
    "xg_model.fit(X, y.values)"
   ]
  },
  {
   "cell_type": "code",
   "execution_count": 60,
   "metadata": {},
   "outputs": [
    {
     "name": "stdout",
     "output_type": "stream",
     "text": [
      "$38,508.72\n"
     ]
    }
   ],
   "source": [
    "error = np.sqrt(mean_squared_error(y, y_pred))\n",
    "print(\"${:,.02f}\".format(error))"
   ]
  },
  {
   "cell_type": "code",
   "execution_count": 61,
   "metadata": {
    "tags": []
   },
   "outputs": [
    {
     "data": {
      "text/html": [
       "<style>#sk-container-id-5 {color: black;background-color: white;}#sk-container-id-5 pre{padding: 0;}#sk-container-id-5 div.sk-toggleable {background-color: white;}#sk-container-id-5 label.sk-toggleable__label {cursor: pointer;display: block;width: 100%;margin-bottom: 0;padding: 0.3em;box-sizing: border-box;text-align: center;}#sk-container-id-5 label.sk-toggleable__label-arrow:before {content: \"▸\";float: left;margin-right: 0.25em;color: #696969;}#sk-container-id-5 label.sk-toggleable__label-arrow:hover:before {color: black;}#sk-container-id-5 div.sk-estimator:hover label.sk-toggleable__label-arrow:before {color: black;}#sk-container-id-5 div.sk-toggleable__content {max-height: 0;max-width: 0;overflow: hidden;text-align: left;background-color: #f0f8ff;}#sk-container-id-5 div.sk-toggleable__content pre {margin: 0.2em;color: black;border-radius: 0.25em;background-color: #f0f8ff;}#sk-container-id-5 input.sk-toggleable__control:checked~div.sk-toggleable__content {max-height: 200px;max-width: 100%;overflow: auto;}#sk-container-id-5 input.sk-toggleable__control:checked~label.sk-toggleable__label-arrow:before {content: \"▾\";}#sk-container-id-5 div.sk-estimator input.sk-toggleable__control:checked~label.sk-toggleable__label {background-color: #d4ebff;}#sk-container-id-5 div.sk-label input.sk-toggleable__control:checked~label.sk-toggleable__label {background-color: #d4ebff;}#sk-container-id-5 input.sk-hidden--visually {border: 0;clip: rect(1px 1px 1px 1px);clip: rect(1px, 1px, 1px, 1px);height: 1px;margin: -1px;overflow: hidden;padding: 0;position: absolute;width: 1px;}#sk-container-id-5 div.sk-estimator {font-family: monospace;background-color: #f0f8ff;border: 1px dotted black;border-radius: 0.25em;box-sizing: border-box;margin-bottom: 0.5em;}#sk-container-id-5 div.sk-estimator:hover {background-color: #d4ebff;}#sk-container-id-5 div.sk-parallel-item::after {content: \"\";width: 100%;border-bottom: 1px solid gray;flex-grow: 1;}#sk-container-id-5 div.sk-label:hover label.sk-toggleable__label {background-color: #d4ebff;}#sk-container-id-5 div.sk-serial::before {content: \"\";position: absolute;border-left: 1px solid gray;box-sizing: border-box;top: 0;bottom: 0;left: 50%;z-index: 0;}#sk-container-id-5 div.sk-serial {display: flex;flex-direction: column;align-items: center;background-color: white;padding-right: 0.2em;padding-left: 0.2em;position: relative;}#sk-container-id-5 div.sk-item {position: relative;z-index: 1;}#sk-container-id-5 div.sk-parallel {display: flex;align-items: stretch;justify-content: center;background-color: white;position: relative;}#sk-container-id-5 div.sk-item::before, #sk-container-id-5 div.sk-parallel-item::before {content: \"\";position: absolute;border-left: 1px solid gray;box-sizing: border-box;top: 0;bottom: 0;left: 50%;z-index: -1;}#sk-container-id-5 div.sk-parallel-item {display: flex;flex-direction: column;z-index: 1;position: relative;background-color: white;}#sk-container-id-5 div.sk-parallel-item:first-child::after {align-self: flex-end;width: 50%;}#sk-container-id-5 div.sk-parallel-item:last-child::after {align-self: flex-start;width: 50%;}#sk-container-id-5 div.sk-parallel-item:only-child::after {width: 0;}#sk-container-id-5 div.sk-dashed-wrapped {border: 1px dashed gray;margin: 0 0.4em 0.5em 0.4em;box-sizing: border-box;padding-bottom: 0.4em;background-color: white;}#sk-container-id-5 div.sk-label label {font-family: monospace;font-weight: bold;display: inline-block;line-height: 1.2em;}#sk-container-id-5 div.sk-label-container {text-align: center;}#sk-container-id-5 div.sk-container {/* jupyter's `normalize.less` sets `[hidden] { display: none; }` but bootstrap.min.css set `[hidden] { display: none !important; }` so we also need the `!important` here to be able to override the default hidden behavior on the sphinx rendered scikit-learn.org. See: https://github.com/scikit-learn/scikit-learn/issues/21755 */display: inline-block !important;position: relative;}#sk-container-id-5 div.sk-text-repr-fallback {display: none;}</style><div id=\"sk-container-id-5\" class=\"sk-top-container\"><div class=\"sk-text-repr-fallback\"><pre>GridSearchCV(estimator=DecisionTreeRegressor(random_state=0),\n",
       "             param_grid={&#x27;max_depth&#x27;: [None, 2, 4, 6, 8, 10, 12, 50, 100]},\n",
       "             scoring=&#x27;neg_mean_squared_error&#x27;)</pre><b>In a Jupyter environment, please rerun this cell to show the HTML representation or trust the notebook. <br />On GitHub, the HTML representation is unable to render, please try loading this page with nbviewer.org.</b></div><div class=\"sk-container\" hidden><div class=\"sk-item sk-dashed-wrapped\"><div class=\"sk-label-container\"><div class=\"sk-label sk-toggleable\"><input class=\"sk-toggleable__control sk-hidden--visually\" id=\"sk-estimator-id-5\" type=\"checkbox\" ><label for=\"sk-estimator-id-5\" class=\"sk-toggleable__label sk-toggleable__label-arrow\">GridSearchCV</label><div class=\"sk-toggleable__content\"><pre>GridSearchCV(estimator=DecisionTreeRegressor(random_state=0),\n",
       "             param_grid={&#x27;max_depth&#x27;: [None, 2, 4, 6, 8, 10, 12, 50, 100]},\n",
       "             scoring=&#x27;neg_mean_squared_error&#x27;)</pre></div></div></div><div class=\"sk-parallel\"><div class=\"sk-parallel-item\"><div class=\"sk-item\"><div class=\"sk-label-container\"><div class=\"sk-label sk-toggleable\"><input class=\"sk-toggleable__control sk-hidden--visually\" id=\"sk-estimator-id-6\" type=\"checkbox\" ><label for=\"sk-estimator-id-6\" class=\"sk-toggleable__label sk-toggleable__label-arrow\">estimator: DecisionTreeRegressor</label><div class=\"sk-toggleable__content\"><pre>DecisionTreeRegressor(random_state=0)</pre></div></div></div><div class=\"sk-serial\"><div class=\"sk-item\"><div class=\"sk-estimator sk-toggleable\"><input class=\"sk-toggleable__control sk-hidden--visually\" id=\"sk-estimator-id-7\" type=\"checkbox\" ><label for=\"sk-estimator-id-7\" class=\"sk-toggleable__label sk-toggleable__label-arrow\">DecisionTreeRegressor</label><div class=\"sk-toggleable__content\"><pre>DecisionTreeRegressor(random_state=0)</pre></div></div></div></div></div></div></div></div></div></div>"
      ],
      "text/plain": [
       "GridSearchCV(estimator=DecisionTreeRegressor(random_state=0),\n",
       "             param_grid={'max_depth': [None, 2, 4, 6, 8, 10, 12, 50, 100]},\n",
       "             scoring='neg_mean_squared_error')"
      ]
     },
     "execution_count": 61,
     "metadata": {},
     "output_type": "execute_result"
    }
   ],
   "source": [
    "from sklearn.model_selection import GridSearchCV\n",
    "\n",
    "max_depth = [None,2,4,6,8,10,12,50,100]\n",
    "parameters = {\"max_depth\": max_depth}\n",
    "\n",
    "regressor = DecisionTreeRegressor(random_state=0)\n",
    "gs = GridSearchCV(regressor, parameters, scoring='neg_mean_squared_error')\n",
    "gs.fit(X, y.values)"
   ]
  },
  {
   "cell_type": "code",
   "execution_count": 62,
   "metadata": {
    "tags": []
   },
   "outputs": [
    {
     "name": "stdout",
     "output_type": "stream",
     "text": [
      "$42,240.82\n"
     ]
    }
   ],
   "source": [
    "regressor = gs.best_estimator_\n",
    "\n",
    "regressor.fit(X, y.values)\n",
    "y_pred = regressor.predict(X)\n",
    "error = np.sqrt(mean_squared_error(y, y_pred))\n",
    "print(\"${:,.02f}\".format(error))"
   ]
  },
  {
   "cell_type": "code",
   "execution_count": 63,
   "metadata": {},
   "outputs": [],
   "source": [
    "from sklearn.ensemble import GradientBoostingRegressor"
   ]
  },
  {
   "cell_type": "code",
   "execution_count": 64,
   "metadata": {},
   "outputs": [],
   "source": [
    "est = GradientBoostingRegressor(n_estimators=100, learning_rate=0.1, max_depth=1, random_state=0,loss='squared_error')"
   ]
  },
  {
   "cell_type": "code",
   "execution_count": 65,
   "metadata": {},
   "outputs": [],
   "source": [
    "est.fit(X, y.values)\n",
    "y_pred = est.predict(X)"
   ]
  },
  {
   "cell_type": "code",
   "execution_count": 66,
   "metadata": {},
   "outputs": [
    {
     "name": "stdout",
     "output_type": "stream",
     "text": [
      "$42,944.84\n"
     ]
    }
   ],
   "source": [
    "error = np.sqrt(mean_squared_error(y, y_pred))\n",
    "print(\"${:,.02f}\".format(error))"
   ]
  },
  {
   "cell_type": "code",
   "execution_count": 67,
   "metadata": {
    "tags": []
   },
   "outputs": [
    {
     "data": {
      "text/html": [
       "<div>\n",
       "<style scoped>\n",
       "    .dataframe tbody tr th:only-of-type {\n",
       "        vertical-align: middle;\n",
       "    }\n",
       "\n",
       "    .dataframe tbody tr th {\n",
       "        vertical-align: top;\n",
       "    }\n",
       "\n",
       "    .dataframe thead th {\n",
       "        text-align: right;\n",
       "    }\n",
       "</style>\n",
       "<table border=\"1\" class=\"dataframe\">\n",
       "  <thead>\n",
       "    <tr style=\"text-align: right;\">\n",
       "      <th></th>\n",
       "      <th>Age</th>\n",
       "      <th>EdLevel</th>\n",
       "      <th>DevType</th>\n",
       "      <th>Country</th>\n",
       "      <th>WorkExp</th>\n",
       "      <th>Industry</th>\n",
       "    </tr>\n",
       "  </thead>\n",
       "  <tbody>\n",
       "    <tr>\n",
       "      <th>2</th>\n",
       "      <td>2</td>\n",
       "      <td>1</td>\n",
       "      <td>1</td>\n",
       "      <td>1</td>\n",
       "      <td>4.0</td>\n",
       "      <td>2</td>\n",
       "    </tr>\n",
       "    <tr>\n",
       "      <th>3</th>\n",
       "      <td>1</td>\n",
       "      <td>0</td>\n",
       "      <td>1</td>\n",
       "      <td>1</td>\n",
       "      <td>5.0</td>\n",
       "      <td>1</td>\n",
       "    </tr>\n",
       "    <tr>\n",
       "      <th>4</th>\n",
       "      <td>1</td>\n",
       "      <td>0</td>\n",
       "      <td>1</td>\n",
       "      <td>1</td>\n",
       "      <td>9.0</td>\n",
       "      <td>3</td>\n",
       "    </tr>\n",
       "    <tr>\n",
       "      <th>5</th>\n",
       "      <td>2</td>\n",
       "      <td>2</td>\n",
       "      <td>1</td>\n",
       "      <td>1</td>\n",
       "      <td>10.0</td>\n",
       "      <td>2</td>\n",
       "    </tr>\n",
       "    <tr>\n",
       "      <th>6</th>\n",
       "      <td>4</td>\n",
       "      <td>1</td>\n",
       "      <td>1</td>\n",
       "      <td>1</td>\n",
       "      <td>39.0</td>\n",
       "      <td>0</td>\n",
       "    </tr>\n",
       "    <tr>\n",
       "      <th>...</th>\n",
       "      <td>...</td>\n",
       "      <td>...</td>\n",
       "      <td>...</td>\n",
       "      <td>...</td>\n",
       "      <td>...</td>\n",
       "      <td>...</td>\n",
       "    </tr>\n",
       "    <tr>\n",
       "      <th>7928</th>\n",
       "      <td>0</td>\n",
       "      <td>0</td>\n",
       "      <td>1</td>\n",
       "      <td>0</td>\n",
       "      <td>3.0</td>\n",
       "      <td>2</td>\n",
       "    </tr>\n",
       "    <tr>\n",
       "      <th>7929</th>\n",
       "      <td>1</td>\n",
       "      <td>0</td>\n",
       "      <td>3</td>\n",
       "      <td>0</td>\n",
       "      <td>8.0</td>\n",
       "      <td>2</td>\n",
       "    </tr>\n",
       "    <tr>\n",
       "      <th>7930</th>\n",
       "      <td>3</td>\n",
       "      <td>0</td>\n",
       "      <td>3</td>\n",
       "      <td>0</td>\n",
       "      <td>20.0</td>\n",
       "      <td>2</td>\n",
       "    </tr>\n",
       "    <tr>\n",
       "      <th>7931</th>\n",
       "      <td>2</td>\n",
       "      <td>0</td>\n",
       "      <td>1</td>\n",
       "      <td>0</td>\n",
       "      <td>12.0</td>\n",
       "      <td>2</td>\n",
       "    </tr>\n",
       "    <tr>\n",
       "      <th>7932</th>\n",
       "      <td>1</td>\n",
       "      <td>0</td>\n",
       "      <td>1</td>\n",
       "      <td>0</td>\n",
       "      <td>7.0</td>\n",
       "      <td>3</td>\n",
       "    </tr>\n",
       "  </tbody>\n",
       "</table>\n",
       "<p>5845 rows × 6 columns</p>\n",
       "</div>"
      ],
      "text/plain": [
       "      Age  EdLevel  DevType  Country  WorkExp  Industry\n",
       "2       2        1        1        1      4.0         2\n",
       "3       1        0        1        1      5.0         1\n",
       "4       1        0        1        1      9.0         3\n",
       "5       2        2        1        1     10.0         2\n",
       "6       4        1        1        1     39.0         0\n",
       "...   ...      ...      ...      ...      ...       ...\n",
       "7928    0        0        1        0      3.0         2\n",
       "7929    1        0        3        0      8.0         2\n",
       "7930    3        0        3        0     20.0         2\n",
       "7931    2        0        1        0     12.0         2\n",
       "7932    1        0        1        0      7.0         3\n",
       "\n",
       "[5845 rows x 6 columns]"
      ]
     },
     "execution_count": 67,
     "metadata": {},
     "output_type": "execute_result"
    }
   ],
   "source": [
    "X"
   ]
  },
  {
   "cell_type": "code",
   "execution_count": 68,
   "metadata": {
    "tags": []
   },
   "outputs": [
    {
     "data": {
      "text/plain": [
       "array([['35-44 years old', 'Master’s degree',\n",
       "        'Data Specialist(AI/ML/DBMS)', 'United States of America', '15',\n",
       "        'Financial professional']], dtype='<U27')"
      ]
     },
     "execution_count": 68,
     "metadata": {},
     "output_type": "execute_result"
    }
   ],
   "source": [
    "X = np.array([['35-44 years old','Master’s degree','Data Specialist(AI/ML/DBMS)',\"United States of America\", 15 ,'Financial professional' ]])\n",
    "X"
   ]
  },
  {
   "cell_type": "code",
   "execution_count": 69,
   "metadata": {},
   "outputs": [
    {
     "data": {
      "text/plain": [
       "array([[ 2.,  2.,  0.,  1., 15.,  1.]])"
      ]
     },
     "execution_count": 69,
     "metadata": {},
     "output_type": "execute_result"
    }
   ],
   "source": [
    "X[:, 0] = le_age.transform(X[:,0])\n",
    "X[:, 1] = le_education.transform(X[:,1])\n",
    "X[:, 2] = le_dev.transform(X[:,2])\n",
    "X[:, 3] = le_country.transform(X[:,3])\n",
    "X[:, 5] = le_ind.transform(X[:,5])\n",
    "\n",
    "X = X.astype(float)\n",
    "X"
   ]
  },
  {
   "cell_type": "code",
   "execution_count": 70,
   "metadata": {
    "tags": []
   },
   "outputs": [
    {
     "data": {
      "text/plain": [
       "array([178469.60431034])"
      ]
     },
     "execution_count": 70,
     "metadata": {},
     "output_type": "execute_result"
    }
   ],
   "source": [
    "y_pred = regressor.predict(X)\n",
    "y_pred"
   ]
  },
  {
   "cell_type": "code",
   "execution_count": 71,
   "metadata": {
    "tags": []
   },
   "outputs": [],
   "source": [
    "import pickle"
   ]
  },
  {
   "cell_type": "code",
   "execution_count": 72,
   "metadata": {
    "tags": []
   },
   "outputs": [],
   "source": [
    "EE = open('EarnEstimator.pkl','wb')"
   ]
  },
  {
   "cell_type": "code",
   "execution_count": 73,
   "metadata": {},
   "outputs": [],
   "source": [
    "data = {\"model\": dec_tree_reg, \"le_country\": le_country, \"le_education\": le_education, \"le_age\": le_age, \"le_dev\": le_dev, \"le_ind\": le_ind}\n",
    "with open('EarnEstimator.pkl', 'wb') as file:\n",
    "    pickle.dump(data, file)"
   ]
  },
  {
   "cell_type": "code",
   "execution_count": 74,
   "metadata": {},
   "outputs": [],
   "source": [
    "with open('EarnEstimator.pkl', 'rb') as file:\n",
    "    data = pickle.load(file)\n",
    "\n",
    "regressor_loaded = data[\"model\"]\n",
    "le_country = data[\"le_country\"]\n",
    "le_education = data[\"le_education\"]\n",
    "le_age = data[\"le_age\"]\n",
    "le_dev = data[\"le_dev\"]\n",
    "le_ind = data[\"le_ind\"]"
   ]
  },
  {
   "cell_type": "code",
   "execution_count": 75,
   "metadata": {
    "tags": []
   },
   "outputs": [],
   "source": [
    "EE.close()"
   ]
  },
  {
   "cell_type": "code",
   "execution_count": 76,
   "metadata": {
    "tags": []
   },
   "outputs": [
    {
     "data": {
      "text/plain": [
       "array([162000.])"
      ]
     },
     "execution_count": 76,
     "metadata": {},
     "output_type": "execute_result"
    }
   ],
   "source": [
    "y_pred = regressor_loaded.predict(X)\n",
    "y_pred"
   ]
  },
  {
   "cell_type": "code",
   "execution_count": null,
   "metadata": {},
   "outputs": [],
   "source": []
  }
 ],
 "metadata": {
  "colab": {
   "provenance": []
  },
  "kernelspec": {
   "display_name": "Python 3 (ipykernel)",
   "language": "python",
   "name": "python3"
  },
  "language_info": {
   "codemirror_mode": {
    "name": "ipython",
    "version": 3
   },
   "file_extension": ".py",
   "mimetype": "text/x-python",
   "name": "python",
   "nbconvert_exporter": "python",
   "pygments_lexer": "ipython3",
   "version": "3.11.7"
  }
 },
 "nbformat": 4,
 "nbformat_minor": 4
}
